{
 "cells": [
  {
   "cell_type": "code",
   "execution_count": 39,
   "id": "290f2bb7",
   "metadata": {},
   "outputs": [],
   "source": [
    "import pandas as pd\n",
    "from sklearn.feature_extraction.text import TfidfVectorizer\n",
    "from sklearn.linear_model import LinearRegression\n",
    "\n",
    "def recommend_layers(layer_type, n_recommendations=10):\n",
    "    # Load the data into a pandas DataFrame\n",
    "    df = pd.read_csv('Layers Ratings.csv', encoding='utf-8')\n",
    "\n",
    "    # Filter the data to include only layers of the specified type\n",
    "    df = df[df['type'] == layer_type]\n",
    "\n",
    "    # Preprocess the layer names using TF-IDF\n",
    "    vectorizer = TfidfVectorizer()\n",
    "    X = vectorizer.fit_transform(df['layer'])\n",
    "    feature_names = vectorizer.get_feature_names()\n",
    "\n",
    "    # Combine the TF-IDF features with the views column\n",
    "    X_views = df[['views']].values\n",
    "    X = pd.DataFrame(X.toarray(), columns=feature_names)\n",
    "    X = pd.concat([X, pd.DataFrame(X_views, columns=['views'])], axis=1)\n",
    "\n",
    "    # Train a linear regression model to predict the rating\n",
    "    y = df['ratings']\n",
    "    model = LinearRegression()\n",
    "    model.fit(X, y)\n",
    "\n",
    "    # Use the trained model to predict the rating for all layers\n",
    "    df['predicted_rating'] = model.predict(X)\n",
    "\n",
    "    # Sort the layers by predicted rating, views, and layer name\n",
    "    df = df.sort_values(['predicted_rating', 'views', 'layer'], ascending=False)\n",
    "\n",
    "    # Return the top recommended layers\n",
    "    top_layers = df['layer'].head(n_recommendations).values.tolist()\n",
    "    return top_layers"
   ]
  },
  {
   "cell_type": "code",
   "execution_count": 40,
   "id": "6d2f8ea6",
   "metadata": {},
   "outputs": [],
   "source": [
    "def get_layers():\n",
    "    while True:\n",
    "        type = input('اكتب تخصص المحامي الي انت عايزه:')\n",
    "        recommended_layers = recommend_layers(type, n_recommendations=10)\n",
    "        print(f'افضل 10 محاميين في تخصص {type}:')\n",
    "        print('المحامي /'+recommended_layers[0])\n",
    "        print('المحامي /'+recommended_layers[1])\n",
    "        print('المحامي /'+recommended_layers[2])\n",
    "        print('المحامي /'+recommended_layers[3])\n",
    "        print('المحامي /'+recommended_layers[4])\n",
    "        print('المحامي /'+recommended_layers[5])\n",
    "        print('المحامي /'+recommended_layers[6])\n",
    "        print('المحامي /'+recommended_layers[7])\n",
    "        print('المحامي /'+recommended_layers[8])\n",
    "        print('المحامي /'+recommended_layers[9])"
   ]
  },
  {
   "cell_type": "code",
   "execution_count": null,
   "id": "52922f76",
   "metadata": {},
   "outputs": [
    {
     "name": "stdout",
     "output_type": "stream",
     "text": [
      "اكتب تخصص المحامي الي انت عايزه:اسره\n"
     ]
    },
    {
     "name": "stderr",
     "output_type": "stream",
     "text": [
      "C:\\Users\\LENOVO\\anaconda3\\lib\\site-packages\\sklearn\\utils\\deprecation.py:87: FutureWarning: Function get_feature_names is deprecated; get_feature_names is deprecated in 1.0 and will be removed in 1.2. Please use get_feature_names_out instead.\n",
      "  warnings.warn(msg, category=FutureWarning)\n"
     ]
    },
    {
     "name": "stdout",
     "output_type": "stream",
     "text": [
      "افضل 10 محاميين في تخصص اسره:\n",
      "المحامي /عبد الله علي الدوسري\n",
      "المحامي /أحمد محمد محسن\n",
      "المحامي /سارة علي العقيل\n",
      "المحامي /محمد نبيل محمد\n",
      "المحامي /سيف علي محمد\n",
      "المحامي /رويدا محمد علي\n",
      "المحامي /محمد علي الفلسطيني\n",
      "المحامي /محمد علي سعود\n",
      "المحامي /سميحة علي حمد\n",
      "المحامي /وسيم علي محمد\n",
      "اكتب تخصص المحامي الي انت عايزه:جنح\n"
     ]
    },
    {
     "name": "stderr",
     "output_type": "stream",
     "text": [
      "C:\\Users\\LENOVO\\anaconda3\\lib\\site-packages\\sklearn\\utils\\deprecation.py:87: FutureWarning: Function get_feature_names is deprecated; get_feature_names is deprecated in 1.0 and will be removed in 1.2. Please use get_feature_names_out instead.\n",
      "  warnings.warn(msg, category=FutureWarning)\n"
     ]
    },
    {
     "name": "stdout",
     "output_type": "stream",
     "text": [
      "افضل 10 محاميين في تخصص جنح:\n",
      "المحامي /سلمان عبد الله محمد\n",
      "المحامي /عادل علي حسين\n",
      "المحامي /محمد علي عبد الوهاب\n",
      "المحامي /سهيل علي حسين\n",
      "المحامي /نوران علي سعيد\n",
      "المحامي /مرام محمد صالح\n",
      "المحامي /محمد علي عبد الرزاق\n",
      "المحامي /محمد علي المتولي\n",
      "المحامي /علي محمد عبد الرحميم السيد عليوة\n",
      "المحامي /محمد عبد الحميد عليوة\n",
      "اكتب تخصص المحامي الي انت عايزه:مدني\n"
     ]
    },
    {
     "name": "stderr",
     "output_type": "stream",
     "text": [
      "C:\\Users\\LENOVO\\anaconda3\\lib\\site-packages\\sklearn\\utils\\deprecation.py:87: FutureWarning: Function get_feature_names is deprecated; get_feature_names is deprecated in 1.0 and will be removed in 1.2. Please use get_feature_names_out instead.\n",
      "  warnings.warn(msg, category=FutureWarning)\n"
     ]
    },
    {
     "name": "stdout",
     "output_type": "stream",
     "text": [
      "افضل 10 محاميين في تخصص مدني:\n",
      "المحامي /نور الدين عبد الرحمن علي\n",
      "المحامي /محمد عبد الرحيم محمد عبد\n",
      "المحامي /إسلام علي حسن\n",
      "المحامي /عبدالله عبد الرحمن جابر\n",
      "المحامي /وسيم علي حسن\n",
      "المحامي /صابرين علي محمد\n",
      "المحامي /علي محمد عبد الرحميم عبد الرحمان\n",
      "المحامي /محمد علي عبد الرحمان\n",
      "المحامي /ملاك علي حمد\n",
      "المحامي /محمد علي عبد الرحميم حمدي\n"
     ]
    }
   ],
   "source": [
    "get_layers()"
   ]
  },
  {
   "cell_type": "code",
   "execution_count": null,
   "id": "8040fe69",
   "metadata": {},
   "outputs": [],
   "source": []
  },
  {
   "cell_type": "code",
   "execution_count": null,
   "id": "c74ca52c",
   "metadata": {},
   "outputs": [],
   "source": []
  }
 ],
 "metadata": {
  "kernelspec": {
   "display_name": "Python 3 (ipykernel)",
   "language": "python",
   "name": "python3"
  },
  "language_info": {
   "codemirror_mode": {
    "name": "ipython",
    "version": 3
   },
   "file_extension": ".py",
   "mimetype": "text/x-python",
   "name": "python",
   "nbconvert_exporter": "python",
   "pygments_lexer": "ipython3",
   "version": "3.9.12"
  }
 },
 "nbformat": 4,
 "nbformat_minor": 5
}
