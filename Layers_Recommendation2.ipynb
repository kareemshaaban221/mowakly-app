{
 "cells": [
  {
   "cell_type": "code",
   "execution_count": 115,
   "id": "2e3ce441",
   "metadata": {},
   "outputs": [],
   "source": [
    "import pandas as pd\n",
    "import scipy.sparse as sp\n",
    "from sklearn.feature_extraction.text import CountVectorizer, TfidfVectorizer\n",
    "from sklearn.metrics.pairwise import cosine_similarity \n",
    "from sklearn.metrics.pairwise import linear_kernel"
   ]
  },
  {
   "cell_type": "code",
   "execution_count": 116,
   "id": "10539eed",
   "metadata": {},
   "outputs": [],
   "source": [
    "def get_data():\n",
    "    layer_data = pd.read_csv('Layers Ratings.csv')\n",
    "    return layer_data"
   ]
  },
  {
   "cell_type": "code",
   "execution_count": 117,
   "id": "2b056184",
   "metadata": {},
   "outputs": [],
   "source": [
    "def combine_data(data):\n",
    "    data_recommend = data.drop(columns=['userId', 'ratings', 'views'])\n",
    "    data_recommend['combine'] = data_recommend[['layer', 'type']].apply(\n",
    "                                                                         lambda x: ','.join(x.dropna().astype(str)),axis=1)\n",
    "    return data_recommend "
   ]
  },
  {
   "cell_type": "code",
   "execution_count": 111,
   "id": "bbc506ae",
   "metadata": {},
   "outputs": [],
   "source": [
    "def transform_data(data_combine):\n",
    "    count = CountVectorizer()\n",
    "    count_matrix = count.fit_transform(data_combine['combine'])\n",
    "\n",
    "    cosine_sim = cosine_similarity(count_matrix, count_matrix)\n",
    "    \n",
    "    return cosine_sim "
   ]
  },
  {
   "cell_type": "code",
   "execution_count": 120,
   "id": "b0bcf27e",
   "metadata": {},
   "outputs": [],
   "source": [
    "def recommend_layers(layer_type, data, combine, transform):\n",
    "\n",
    "    layer_data = data[data['type'] == layer_type]\n",
    "    layer_data = layer_data.sort_values(by=['ratings'], ascending=False)\n",
    "    layer_data = layer_data.head(10)\n",
    "\n",
    "    indices = pd.Series(data.index, index=data['layerId'])\n",
    "\n",
    "    layer_indices = [indices[layer_id] for layer_id in layer_data['layerId']]\n",
    "\n",
    "    recommendation_data = pd.DataFrame(columns=['layerId','layer','type'])\n",
    "\n",
    "    recommendation_data['layerId'] = layer_data['layerId'].values\n",
    "    recommendation_data['layer'] = layer_data['layer'].values\n",
    "    recommendation_data['type'] = layer_data['type'].values\n",
    "\n",
    "    return recommendation_data"
   ]
  },
  {
   "cell_type": "code",
   "execution_count": 126,
   "id": "f98b41f5",
   "metadata": {},
   "outputs": [],
   "source": [
    "def results(type):\n",
    "    \n",
    "    find_layer = get_data()\n",
    "    combine_result = combine_data(find_layer)\n",
    "    transform_result = transform_data(combine_result)\n",
    "    \n",
    "    if type not in find_layer['type'].unique():\n",
    "        return 'Layer not in Database'\n",
    "    \n",
    "    else:\n",
    "        recommendations = recommend_layers(type, find_layer, combine_result, transform_result)\n",
    "        return recommendations.to_dict('records')"
   ]
  },
  {
   "cell_type": "code",
   "execution_count": 130,
   "id": "e0f82cb5",
   "metadata": {},
   "outputs": [
    {
     "data": {
      "text/plain": [
       "[{'layerId': 4381, 'layer': 'وسيم علي حسن', 'type': 'مدني'},\n",
       " {'layerId': 648, 'layer': 'عبدالله عبد الرحمن جابر', 'type': 'مدني'},\n",
       " {'layerId': 1222, 'layer': 'نور الدين عبد الرحمن علي', 'type': 'مدني'},\n",
       " {'layerId': 1226, 'layer': 'عبد الرحمن علي حمد', 'type': 'مدني'},\n",
       " {'layerId': 1270, 'layer': 'إسلام علي حسن', 'type': 'مدني'},\n",
       " {'layerId': 1377, 'layer': 'عبد الله علي جابر', 'type': 'مدني'},\n",
       " {'layerId': 109487, 'layer': 'محمد علي محمد عليوة', 'type': 'مدني'},\n",
       " {'layerId': 2012, 'layer': 'محمد حسن محمود', 'type': 'مدني'},\n",
       " {'layerId': 2093, 'layer': 'عبد الرحمن محمد علي', 'type': 'مدني'},\n",
       " {'layerId': 2387, 'layer': 'أحمد محمد رمضان', 'type': 'مدني'}]"
      ]
     },
     "execution_count": 130,
     "metadata": {},
     "output_type": "execute_result"
    }
   ],
   "source": [
    "results('مدني')"
   ]
  },
  {
   "cell_type": "code",
   "execution_count": null,
   "id": "9cf1e21f",
   "metadata": {},
   "outputs": [],
   "source": []
  }
 ],
 "metadata": {
  "kernelspec": {
   "display_name": "Python 3 (ipykernel)",
   "language": "python",
   "name": "python3"
  },
  "language_info": {
   "codemirror_mode": {
    "name": "ipython",
    "version": 3
   },
   "file_extension": ".py",
   "mimetype": "text/x-python",
   "name": "python",
   "nbconvert_exporter": "python",
   "pygments_lexer": "ipython3",
   "version": "3.9.12"
  }
 },
 "nbformat": 4,
 "nbformat_minor": 5
}
