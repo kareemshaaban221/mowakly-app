{
 "cells": [
  {
   "cell_type": "code",
   "execution_count": 4,
   "id": "fe7506b5",
   "metadata": {},
   "outputs": [
    {
     "name": "stdout",
     "output_type": "stream",
     "text": [
      "المحامي محمد علي حسن\n",
      "المحامي محمد علي عبد الرزاق\n",
      "المحامي عبد الرحمن محمد محمد\n",
      "المحامي عبد الرحمن محمد عبد الفتاح\n",
      "المحامي محمد عبد الحميد عليوة\n"
     ]
    }
   ],
   "source": [
    "import pandas as pd\n",
    "\n",
    "# Load the data into a pandas dataframe\n",
    "data = pd.read_csv('Layers Ratings.csv', encoding='utf-8')\n",
    "\n",
    "# Define the specialization of interest\n",
    "specialization = 'جنح'\n",
    "\n",
    "# Filter the lawyers by specialization\n",
    "specialization_lawyers = data[data['type'] == specialization]\n",
    "\n",
    "# Sort the specialization lawyers by ratings in descending order\n",
    "sorted_lawyers = specialization_lawyers.sort_values('ratings', ascending=False)\n",
    "\n",
    "# Get the top 5 lawyers by name\n",
    "top_lawyers = sorted_lawyers.head(5)['layer'].tolist()\n",
    "\n",
    "# Print the top 5 lawyers\n",
    "print('المحامي',top_lawyers[0])\n",
    "print('المحامي',top_lawyers[1])\n",
    "print('المحامي',top_lawyers[2])\n",
    "print('المحامي',top_lawyers[3])\n",
    "print('المحامي',top_lawyers[4])"
   ]
  },
  {
   "cell_type": "code",
   "execution_count": null,
   "id": "26ea0210",
   "metadata": {},
   "outputs": [],
   "source": []
  }
 ],
 "metadata": {
  "kernelspec": {
   "display_name": "Python 3 (ipykernel)",
   "language": "python",
   "name": "python3"
  },
  "language_info": {
   "codemirror_mode": {
    "name": "ipython",
    "version": 3
   },
   "file_extension": ".py",
   "mimetype": "text/x-python",
   "name": "python",
   "nbconvert_exporter": "python",
   "pygments_lexer": "ipython3",
   "version": "3.9.12"
  }
 },
 "nbformat": 4,
 "nbformat_minor": 5
}
