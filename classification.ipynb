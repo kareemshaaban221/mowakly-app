{
 "cells": [
  {
   "cell_type": "code",
   "execution_count": 114,
   "metadata": {},
   "outputs": [
    {
     "data": {
      "text/html": [
       "<div>\n",
       "<style scoped>\n",
       "    .dataframe tbody tr th:only-of-type {\n",
       "        vertical-align: middle;\n",
       "    }\n",
       "\n",
       "    .dataframe tbody tr th {\n",
       "        vertical-align: top;\n",
       "    }\n",
       "\n",
       "    .dataframe thead th {\n",
       "        text-align: right;\n",
       "    }\n",
       "</style>\n",
       "<table border=\"1\" class=\"dataframe\">\n",
       "  <thead>\n",
       "    <tr style=\"text-align: right;\">\n",
       "      <th></th>\n",
       "      <th>text</th>\n",
       "      <th>label</th>\n",
       "    </tr>\n",
       "  </thead>\n",
       "  <tbody>\n",
       "    <tr>\n",
       "      <th>0</th>\n",
       "      <td>السلام عليكم عندنا مستأجر مركب 3كاميرات 2 فى م...</td>\n",
       "      <td>جنح</td>\n",
       "    </tr>\n",
       "    <tr>\n",
       "      <th>1</th>\n",
       "      <td>السلام عليكم انا واخده شقة ايجار بس كاتبين عقد...</td>\n",
       "      <td>مدني</td>\n",
       "    </tr>\n",
       "    <tr>\n",
       "      <th>2</th>\n",
       "      <td>استأذنكم .. دلوقت أنا ببيع سيارتى بعقد مسجل با...</td>\n",
       "      <td>جنح</td>\n",
       "    </tr>\n",
       "    <tr>\n",
       "      <th>3</th>\n",
       "      <td>عندي بارتشين فى نادي وللاسف حصل مشاكل فى الناد...</td>\n",
       "      <td>جنح</td>\n",
       "    </tr>\n",
       "    <tr>\n",
       "      <th>4</th>\n",
       "      <td>توفت امى ولها ميراث عند ابوها المتوفى وسيتم ال...</td>\n",
       "      <td>اسره</td>\n",
       "    </tr>\n",
       "    <tr>\n",
       "      <th>...</th>\n",
       "      <td>...</td>\n",
       "      <td>...</td>\n",
       "    </tr>\n",
       "    <tr>\n",
       "      <th>1958</th>\n",
       "      <td>السلام عليكم هل فعلا من حق البنت الزواج والتعل...</td>\n",
       "      <td>اسره</td>\n",
       "    </tr>\n",
       "    <tr>\n",
       "      <th>1959</th>\n",
       "      <td>لا و سمحت انا اشتريت شقه من ست كبيره وعايش معا...</td>\n",
       "      <td>مدني</td>\n",
       "    </tr>\n",
       "    <tr>\n",
       "      <th>1960</th>\n",
       "      <td>موضوع للنقاشلماذا تعترض الزوجة الأولى على زواج...</td>\n",
       "      <td>اسره</td>\n",
       "    </tr>\n",
       "    <tr>\n",
       "      <th>1961</th>\n",
       "      <td>السلام عليكم فتاة من الجيران  تتهمني بالباطل ب...</td>\n",
       "      <td>جنح</td>\n",
       "    </tr>\n",
       "    <tr>\n",
       "      <th>1962</th>\n",
       "      <td>السلام عليكماستشارة يا اساتذة بعد اذنكم بنت اب...</td>\n",
       "      <td>مدني</td>\n",
       "    </tr>\n",
       "  </tbody>\n",
       "</table>\n",
       "<p>1963 rows × 2 columns</p>\n",
       "</div>"
      ],
      "text/plain": [
       "                                                   text label\n",
       "0     السلام عليكم عندنا مستأجر مركب 3كاميرات 2 فى م...   جنح\n",
       "1     السلام عليكم انا واخده شقة ايجار بس كاتبين عقد...  مدني\n",
       "2     استأذنكم .. دلوقت أنا ببيع سيارتى بعقد مسجل با...   جنح\n",
       "3     عندي بارتشين فى نادي وللاسف حصل مشاكل فى الناد...   جنح\n",
       "4     توفت امى ولها ميراث عند ابوها المتوفى وسيتم ال...  اسره\n",
       "...                                                 ...   ...\n",
       "1958  السلام عليكم هل فعلا من حق البنت الزواج والتعل...  اسره\n",
       "1959  لا و سمحت انا اشتريت شقه من ست كبيره وعايش معا...  مدني\n",
       "1960  موضوع للنقاشلماذا تعترض الزوجة الأولى على زواج...  اسره\n",
       "1961  السلام عليكم فتاة من الجيران  تتهمني بالباطل ب...   جنح\n",
       "1962  السلام عليكماستشارة يا اساتذة بعد اذنكم بنت اب...  مدني\n",
       "\n",
       "[1963 rows x 2 columns]"
      ]
     },
     "execution_count": 114,
     "metadata": {},
     "output_type": "execute_result"
    }
   ],
   "source": [
    "import pandas as pd\n",
    "import random\n",
    "dataset=pd.read_excel('YEHIA7.xlsx')\n",
    "import arabicstopwords.arabicstopwords as asw\n",
    "from nltk import word_tokenize\n",
    "import string\n",
    "from sklearn.model_selection import train_test_split,KFold, StratifiedKFold, LeaveOneOut, cross_val_score\n",
    "from sklearn.feature_extraction.text import TfidfVectorizer,CountVectorizer\n",
    "dataset"
   ]
  },
  {
   "cell_type": "code",
   "execution_count": 115,
   "metadata": {},
   "outputs": [],
   "source": [
    "def remve_noise(cases):\n",
    "    corpus=[]\n",
    "    for case in cases:\n",
    "        s=case.lower()\n",
    "        words=word_tokenize(s)\n",
    "        word=[w for w in words if w not in asw.stopwords_list() if w not in string.punctuation]\n",
    "        s=\" \".join(word)\n",
    "        corpus.append(s)\n",
    "    return corpus"
   ]
  },
  {
   "cell_type": "code",
   "execution_count": 116,
   "metadata": {},
   "outputs": [],
   "source": [
    "tfidf_vectorizer = TfidfVectorizer()\n",
    "# tfidf_vectorizer = CountVectorizer()\n",
    "tfidf_vectorizer.fit(remve_noise(dataset['text']))\n",
    "X = tfidf_vectorizer.transform(remve_noise(dataset['text']))\n",
    "Y=dataset['label']\n",
    "X_train, X_test, Y_train, Y_test = train_test_split(X, Y,test_size = 0.2)"
   ]
  },
  {
   "cell_type": "code",
   "execution_count": 117,
   "metadata": {},
   "outputs": [],
   "source": [
    "# kfold = None\n",
    "# score = 0\n",
    "# for i in range(5, 100):\n",
    "#     k_folds = KFold(n_splits = i)\n",
    "#     scores = cross_val_score(classfier, X, Y, cv = k_folds)\n",
    "#     scoreTemp = scores.mean()\n",
    "#     if scoreTemp > score:\n",
    "#         kfold = i\n",
    "#         score = scoreTemp"
   ]
  },
  {
   "cell_type": "code",
   "execution_count": 118,
   "metadata": {},
   "outputs": [],
   "source": [
    "# print('kfold: ', kfold)\n",
    "# print('score: ', score)"
   ]
  },
  {
   "cell_type": "code",
   "execution_count": 119,
   "metadata": {},
   "outputs": [
    {
     "data": {
      "text/plain": [
       "MultinomialNB()"
      ]
     },
     "execution_count": 119,
     "metadata": {},
     "output_type": "execute_result"
    }
   ],
   "source": [
    "from sklearn.naive_bayes import MultinomialNB\n",
    "from sklearn import svm\n",
    "from sklearn.svm import LinearSVC\n",
    "from sklearn.ensemble import RandomForestClassifier\n",
    "RF= RandomForestClassifier(n_estimators=100)\n",
    "RF.fit(X_train, Y_train)\n",
    "rbf = svm.SVC(kernel='rbf').fit(X_train, Y_train)\n",
    "sig = svm.SVC(kernel='sigmoid').fit(X_train, Y_train)\n",
    "poly = svm.SVC(kernel='poly').fit(X_train, Y_train)\n",
    "liner_SVM = LinearSVC()\n",
    "classfier=MultinomialNB()\n",
    "liner_SVM.fit(X_train,Y_train)\n",
    "classfier.fit(X_train,Y_train)"
   ]
  },
  {
   "cell_type": "code",
   "execution_count": 120,
   "metadata": {},
   "outputs": [],
   "source": [
    "Y_pred=classfier.predict(X_test)\n",
    "sig_pred = sig.predict(X_test)\n",
    "rbf_pred = rbf.predict(X_test)\n",
    "poly_pred=poly.predict(X_test)\n",
    "RF_pred=RF.predict(X_test)\n",
    "linersvm_pred=liner_SVM.predict(X_test)"
   ]
  },
  {
   "cell_type": "code",
   "execution_count": 121,
   "metadata": {},
   "outputs": [],
   "source": [
    "from sklearn.metrics import confusion_matrix,accuracy_score,classification_report"
   ]
  },
  {
   "cell_type": "code",
   "execution_count": 122,
   "metadata": {},
   "outputs": [
    {
     "name": "stdout",
     "output_type": "stream",
     "text": [
      "[[204   0   1]\n",
      " [ 48  34   1]\n",
      " [ 49   0  56]]\n"
     ]
    }
   ],
   "source": [
    "print(confusion_matrix(Y_test,Y_pred))"
   ]
  },
  {
   "cell_type": "code",
   "execution_count": 123,
   "metadata": {},
   "outputs": [
    {
     "name": "stdout",
     "output_type": "stream",
     "text": [
      "[[191   7   7]\n",
      " [ 16  60   7]\n",
      " [ 18   3  84]]\n"
     ]
    }
   ],
   "source": [
    "print(confusion_matrix(Y_test,sig_pred))"
   ]
  },
  {
   "cell_type": "code",
   "execution_count": 124,
   "metadata": {},
   "outputs": [
    {
     "name": "stdout",
     "output_type": "stream",
     "text": [
      "[[203   0   2]\n",
      " [ 25  57   1]\n",
      " [ 24   1  80]]\n"
     ]
    }
   ],
   "source": [
    "print(confusion_matrix(Y_test,rbf_pred))"
   ]
  },
  {
   "cell_type": "code",
   "execution_count": 125,
   "metadata": {},
   "outputs": [
    {
     "name": "stdout",
     "output_type": "stream",
     "text": [
      "[[205   0   0]\n",
      " [ 28  55   0]\n",
      " [ 39   1  65]]\n"
     ]
    }
   ],
   "source": [
    "print(confusion_matrix(Y_test,poly_pred))"
   ]
  },
  {
   "cell_type": "code",
   "execution_count": 126,
   "metadata": {},
   "outputs": [
    {
     "name": "stdout",
     "output_type": "stream",
     "text": [
      "[[198   1   6]\n",
      " [ 22  59   2]\n",
      " [ 17   1  87]]\n"
     ]
    }
   ],
   "source": [
    "print(confusion_matrix(Y_test,RF_pred))"
   ]
  },
  {
   "cell_type": "code",
   "execution_count": 127,
   "metadata": {},
   "outputs": [
    {
     "name": "stdout",
     "output_type": "stream",
     "text": [
      "[[190   6   9]\n",
      " [ 13  64   6]\n",
      " [ 13   3  89]]\n"
     ]
    }
   ],
   "source": [
    "print(confusion_matrix(Y_test,linersvm_pred))"
   ]
  },
  {
   "cell_type": "code",
   "execution_count": 128,
   "metadata": {},
   "outputs": [
    {
     "name": "stdout",
     "output_type": "stream",
     "text": [
      "accuracy is as naive bayes  0.7480916030534351\n",
      "accuracy is as sig  0.8524173027989822\n",
      "accuracy is as rbf  0.8651399491094147\n",
      "accuracy is as poly  0.8269720101781171\n",
      "accuracy is as RF  0.8753180661577609\n",
      "accuracy is as linear SVM  0.8727735368956743\n"
     ]
    }
   ],
   "source": [
    "print(\"accuracy is as naive bayes \",accuracy_score(Y_test,Y_pred))\n",
    "print(\"accuracy is as sig \",accuracy_score(Y_test, sig_pred))\n",
    "print(\"accuracy is as rbf \",accuracy_score(Y_test, rbf_pred))\n",
    "print(\"accuracy is as poly \",accuracy_score(Y_test, poly_pred))\n",
    "print(\"accuracy is as RF \",accuracy_score(Y_test, RF_pred))\n",
    "print(\"accuracy is as linear SVM \",accuracy_score(Y_test, linersvm_pred))"
   ]
  },
  {
   "cell_type": "code",
   "execution_count": 129,
   "metadata": {},
   "outputs": [
    {
     "name": "stdout",
     "output_type": "stream",
     "text": [
      "              precision    recall  f1-score   support\n",
      "\n",
      "        اسره       0.68      1.00      0.81       205\n",
      "         جنح       1.00      0.41      0.58        83\n",
      "        مدني       0.97      0.53      0.69       105\n",
      "\n",
      "    accuracy                           0.75       393\n",
      "   macro avg       0.88      0.65      0.69       393\n",
      "weighted avg       0.82      0.75      0.73       393\n",
      "\n"
     ]
    }
   ],
   "source": [
    "print(classification_report(Y_test,Y_pred))"
   ]
  },
  {
   "cell_type": "code",
   "execution_count": 130,
   "metadata": {},
   "outputs": [
    {
     "name": "stdout",
     "output_type": "stream",
     "text": [
      "              precision    recall  f1-score   support\n",
      "\n",
      "        اسره       0.85      0.93      0.89       205\n",
      "         جنح       0.86      0.72      0.78        83\n",
      "        مدني       0.86      0.80      0.83       105\n",
      "\n",
      "    accuracy                           0.85       393\n",
      "   macro avg       0.85      0.82      0.83       393\n",
      "weighted avg       0.85      0.85      0.85       393\n",
      "\n"
     ]
    }
   ],
   "source": [
    "print(classification_report(Y_test,sig_pred))"
   ]
  },
  {
   "cell_type": "code",
   "execution_count": 131,
   "metadata": {},
   "outputs": [
    {
     "name": "stdout",
     "output_type": "stream",
     "text": [
      "              precision    recall  f1-score   support\n",
      "\n",
      "        اسره       0.81      0.99      0.89       205\n",
      "         جنح       0.98      0.69      0.81        83\n",
      "        مدني       0.96      0.76      0.85       105\n",
      "\n",
      "    accuracy                           0.87       393\n",
      "   macro avg       0.92      0.81      0.85       393\n",
      "weighted avg       0.89      0.87      0.86       393\n",
      "\n"
     ]
    }
   ],
   "source": [
    "print(classification_report(Y_test,rbf_pred))"
   ]
  },
  {
   "cell_type": "code",
   "execution_count": 132,
   "metadata": {},
   "outputs": [
    {
     "name": "stdout",
     "output_type": "stream",
     "text": [
      "              precision    recall  f1-score   support\n",
      "\n",
      "        اسره       0.75      1.00      0.86       205\n",
      "         جنح       0.98      0.66      0.79        83\n",
      "        مدني       1.00      0.62      0.76       105\n",
      "\n",
      "    accuracy                           0.83       393\n",
      "   macro avg       0.91      0.76      0.81       393\n",
      "weighted avg       0.87      0.83      0.82       393\n",
      "\n"
     ]
    }
   ],
   "source": [
    "print(classification_report(Y_test,poly_pred))"
   ]
  },
  {
   "cell_type": "code",
   "execution_count": 133,
   "metadata": {},
   "outputs": [
    {
     "name": "stdout",
     "output_type": "stream",
     "text": [
      "              precision    recall  f1-score   support\n",
      "\n",
      "        اسره       0.84      0.97      0.90       205\n",
      "         جنح       0.97      0.71      0.82        83\n",
      "        مدني       0.92      0.83      0.87       105\n",
      "\n",
      "    accuracy                           0.88       393\n",
      "   macro avg       0.91      0.84      0.86       393\n",
      "weighted avg       0.88      0.88      0.87       393\n",
      "\n"
     ]
    }
   ],
   "source": [
    "print(classification_report(Y_test,RF_pred))"
   ]
  },
  {
   "cell_type": "code",
   "execution_count": 134,
   "metadata": {},
   "outputs": [
    {
     "name": "stdout",
     "output_type": "stream",
     "text": [
      "accuracy is as RF  0.8727735368956743\n"
     ]
    }
   ],
   "source": [
    "print(\"accuracy is as RF \",accuracy_score(Y_test, linersvm_pred))"
   ]
  },
  {
   "cell_type": "code",
   "execution_count": 135,
   "metadata": {},
   "outputs": [
    {
     "data": {
      "text/plain": [
       "['السلام سؤال فضلكم اشتريت نصف شقة ممكن اسجل النصف الخاص ان الشريك الاخر رافض التسجيل وشكرا']"
      ]
     },
     "execution_count": 135,
     "metadata": {},
     "output_type": "execute_result"
    }
   ],
   "source": [
    "remve_noise(['السلام عليكم . سؤال منهما فضلكم   اشتريت  نصف شقة هل ممكن اسجل النصف الخاص بي فقط  . حيث ان الشريك الاخر  رافض التسجيل . وشكرا'])"
   ]
  },
  {
   "cell_type": "code",
   "execution_count": 136,
   "metadata": {},
   "outputs": [
    {
     "data": {
      "text/plain": [
       "{'اسره', 'جنح', 'مدني'}"
      ]
     },
     "execution_count": 136,
     "metadata": {},
     "output_type": "execute_result"
    }
   ],
   "source": [
    "set(dataset.label.values)"
   ]
  },
  {
   "cell_type": "code",
   "execution_count": 137,
   "metadata": {},
   "outputs": [
    {
     "data": {
      "text/plain": [
       "اسره    969\n",
       "مدني    521\n",
       "جنح     473\n",
       "Name: label, dtype: int64"
      ]
     },
     "execution_count": 137,
     "metadata": {},
     "output_type": "execute_result"
    }
   ],
   "source": [
    "Y.value_counts()"
   ]
  },
  {
   "cell_type": "code",
   "execution_count": 138,
   "metadata": {},
   "outputs": [
    {
     "data": {
      "text/plain": [
       "اسره    205\n",
       "مدني    105\n",
       "جنح      83\n",
       "Name: label, dtype: int64"
      ]
     },
     "execution_count": 138,
     "metadata": {},
     "output_type": "execute_result"
    }
   ],
   "source": [
    "Y_test.value_counts()"
   ]
  },
  {
   "cell_type": "code",
   "execution_count": 139,
   "metadata": {},
   "outputs": [
    {
     "data": {
      "text/plain": [
       "اسره    764\n",
       "مدني    416\n",
       "جنح     390\n",
       "Name: label, dtype: int64"
      ]
     },
     "execution_count": 139,
     "metadata": {},
     "output_type": "execute_result"
    }
   ],
   "source": [
    "Y_train.value_counts()"
   ]
  },
  {
   "cell_type": "code",
   "execution_count": 140,
   "metadata": {},
   "outputs": [
    {
     "data": {
      "text/plain": [
       "1963"
      ]
     },
     "execution_count": 140,
     "metadata": {},
     "output_type": "execute_result"
    }
   ],
   "source": [
    "len(dataset)"
   ]
  },
  {
   "cell_type": "code",
   "execution_count": 141,
   "metadata": {},
   "outputs": [
    {
     "data": {
      "text/plain": [
       "['classfaction_model.joblib']"
      ]
     },
     "execution_count": 141,
     "metadata": {},
     "output_type": "execute_result"
    }
   ],
   "source": [
    "import joblib\n",
    "filename=\"classfaction_model.joblib\"\n",
    "joblib.dump(RF,filename)"
   ]
  },
  {
   "cell_type": "code",
   "execution_count": 142,
   "metadata": {
    "scrolled": true
   },
   "outputs": [],
   "source": [
    "lodded_model=joblib.load(filename)\n",
    "prediction=lodded_model.predict(tfidf_vectorizer.transform(remve_noise(\"لو واحد عليه ايصالات امانه . هل يكون احسن انى اعمل محضر فى القسم علشان يتحدد له جلسه ولا ايه افضل حل للسرعه الحكم\"))[0])"
   ]
  },
  {
   "cell_type": "code",
   "execution_count": 143,
   "metadata": {},
   "outputs": [
    {
     "data": {
      "text/plain": [
       "array(['اسره'], dtype=object)"
      ]
     },
     "execution_count": 143,
     "metadata": {},
     "output_type": "execute_result"
    }
   ],
   "source": [
    "prediction"
   ]
  },
  {
   "cell_type": "code",
   "execution_count": null,
   "metadata": {},
   "outputs": [],
   "source": []
  },
  {
   "cell_type": "code",
   "execution_count": null,
   "metadata": {},
   "outputs": [],
   "source": []
  }
 ],
 "metadata": {
  "kernelspec": {
   "display_name": "Python 3",
   "language": "python",
   "name": "python3"
  },
  "language_info": {
   "codemirror_mode": {
    "name": "ipython",
    "version": 3
   },
   "file_extension": ".py",
   "mimetype": "text/x-python",
   "name": "python",
   "nbconvert_exporter": "python",
   "pygments_lexer": "ipython3",
   "version": "3.8.3"
  }
 },
 "nbformat": 4,
 "nbformat_minor": 4
}
