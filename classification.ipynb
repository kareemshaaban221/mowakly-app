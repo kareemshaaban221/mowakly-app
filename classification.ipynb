{
 "cells": [
  {
   "cell_type": "code",
   "execution_count": 1,
   "metadata": {},
   "outputs": [
    {
     "data": {
      "text/html": [
       "<div>\n",
       "<style scoped>\n",
       "    .dataframe tbody tr th:only-of-type {\n",
       "        vertical-align: middle;\n",
       "    }\n",
       "\n",
       "    .dataframe tbody tr th {\n",
       "        vertical-align: top;\n",
       "    }\n",
       "\n",
       "    .dataframe thead th {\n",
       "        text-align: right;\n",
       "    }\n",
       "</style>\n",
       "<table border=\"1\" class=\"dataframe\">\n",
       "  <thead>\n",
       "    <tr style=\"text-align: right;\">\n",
       "      <th></th>\n",
       "      <th>text</th>\n",
       "      <th>label</th>\n",
       "    </tr>\n",
       "  </thead>\n",
       "  <tbody>\n",
       "    <tr>\n",
       "      <th>0</th>\n",
       "      <td>السلام عليكم عندنا مستأجر مركب 3كاميرات 2 فى م...</td>\n",
       "      <td>جنح</td>\n",
       "    </tr>\n",
       "    <tr>\n",
       "      <th>1</th>\n",
       "      <td>السلام عليكم انا واخده شقة ايجار بس كاتبين عقد...</td>\n",
       "      <td>مدني</td>\n",
       "    </tr>\n",
       "    <tr>\n",
       "      <th>2</th>\n",
       "      <td>استأذنكم .. دلوقت أنا ببيع سيارتى بعقد مسجل با...</td>\n",
       "      <td>جنح</td>\n",
       "    </tr>\n",
       "    <tr>\n",
       "      <th>3</th>\n",
       "      <td>عندي بارتشين فى نادي وللاسف حصل مشاكل فى الناد...</td>\n",
       "      <td>جنح</td>\n",
       "    </tr>\n",
       "    <tr>\n",
       "      <th>4</th>\n",
       "      <td>توفت امى ولها ميراث عند ابوها المتوفى وسيتم ال...</td>\n",
       "      <td>اسره</td>\n",
       "    </tr>\n",
       "    <tr>\n",
       "      <th>...</th>\n",
       "      <td>...</td>\n",
       "      <td>...</td>\n",
       "    </tr>\n",
       "    <tr>\n",
       "      <th>1958</th>\n",
       "      <td>السلام عليكم هل فعلا من حق البنت الزواج والتعل...</td>\n",
       "      <td>اسره</td>\n",
       "    </tr>\n",
       "    <tr>\n",
       "      <th>1959</th>\n",
       "      <td>لا و سمحت انا اشتريت شقه من ست كبيره وعايش معا...</td>\n",
       "      <td>مدني</td>\n",
       "    </tr>\n",
       "    <tr>\n",
       "      <th>1960</th>\n",
       "      <td>موضوع للنقاشلماذا تعترض الزوجة الأولى على زواج...</td>\n",
       "      <td>اسره</td>\n",
       "    </tr>\n",
       "    <tr>\n",
       "      <th>1961</th>\n",
       "      <td>السلام عليكم فتاة من الجيران  تتهمني بالباطل ب...</td>\n",
       "      <td>جنح</td>\n",
       "    </tr>\n",
       "    <tr>\n",
       "      <th>1962</th>\n",
       "      <td>السلام عليكماستشارة يا اساتذة بعد اذنكم بنت اب...</td>\n",
       "      <td>مدني</td>\n",
       "    </tr>\n",
       "  </tbody>\n",
       "</table>\n",
       "<p>1963 rows × 2 columns</p>\n",
       "</div>"
      ],
      "text/plain": [
       "                                                   text label\n",
       "0     السلام عليكم عندنا مستأجر مركب 3كاميرات 2 فى م...   جنح\n",
       "1     السلام عليكم انا واخده شقة ايجار بس كاتبين عقد...  مدني\n",
       "2     استأذنكم .. دلوقت أنا ببيع سيارتى بعقد مسجل با...   جنح\n",
       "3     عندي بارتشين فى نادي وللاسف حصل مشاكل فى الناد...   جنح\n",
       "4     توفت امى ولها ميراث عند ابوها المتوفى وسيتم ال...  اسره\n",
       "...                                                 ...   ...\n",
       "1958  السلام عليكم هل فعلا من حق البنت الزواج والتعل...  اسره\n",
       "1959  لا و سمحت انا اشتريت شقه من ست كبيره وعايش معا...  مدني\n",
       "1960  موضوع للنقاشلماذا تعترض الزوجة الأولى على زواج...  اسره\n",
       "1961  السلام عليكم فتاة من الجيران  تتهمني بالباطل ب...   جنح\n",
       "1962  السلام عليكماستشارة يا اساتذة بعد اذنكم بنت اب...  مدني\n",
       "\n",
       "[1963 rows x 2 columns]"
      ]
     },
     "execution_count": 1,
     "metadata": {},
     "output_type": "execute_result"
    }
   ],
   "source": [
    "import pandas as pd\n",
    "import random\n",
    "import re\n",
    "dataset=pd.read_excel('YEHIA7.xlsx')\n",
    "import arabicstopwords.arabicstopwords as asw\n",
    "from nltk import word_tokenize\n",
    "import string\n",
    "from sklearn.model_selection import train_test_split,KFold, StratifiedKFold, LeaveOneOut, cross_val_score\n",
    "from sklearn.feature_extraction.text import TfidfVectorizer,CountVectorizer\n",
    "dataset"
   ]
  },
  {
   "cell_type": "code",
   "execution_count": 2,
   "metadata": {},
   "outputs": [],
   "source": [
    "def remve_noise(cases):\n",
    "    corpus=[]\n",
    "    for case in cases:\n",
    "        s=case.lower()\n",
    "        s=re.sub(\"[0-9]\",'',s)\n",
    "        words=word_tokenize(s)\n",
    "        word=[w for w in words if w not in asw.stopwords_list() if w not in string.punctuation]\n",
    "        s=\" \".join(word)\n",
    "        corpus.append(s)\n",
    "    return corpus"
   ]
  },
  {
   "cell_type": "code",
   "execution_count": 80,
   "metadata": {},
   "outputs": [],
   "source": [
    "tfidf_vectorizer = TfidfVectorizer()\n",
    "tfidf_vectorizer.fit(remve_noise(dataset['text']))\n",
    "X = tfidf_vectorizer.transform(remve_noise(dataset['text']))\n",
    "Y=dataset['label']\n",
    "X_train, X_test, Y_train, Y_test = train_test_split(X, Y,test_size = 0.2)"
   ]
  },
  {
   "cell_type": "code",
   "execution_count": 81,
   "metadata": {},
   "outputs": [
    {
     "data": {
      "text/html": [
       "<div>\n",
       "<style scoped>\n",
       "    .dataframe tbody tr th:only-of-type {\n",
       "        vertical-align: middle;\n",
       "    }\n",
       "\n",
       "    .dataframe tbody tr th {\n",
       "        vertical-align: top;\n",
       "    }\n",
       "\n",
       "    .dataframe thead th {\n",
       "        text-align: right;\n",
       "    }\n",
       "</style>\n",
       "<table border=\"1\" class=\"dataframe\">\n",
       "  <thead>\n",
       "    <tr style=\"text-align: right;\">\n",
       "      <th></th>\n",
       "      <th>______________________________</th>\n",
       "      <th>_خدمات</th>\n",
       "      <th>_فتح</th>\n",
       "      <th>aide</th>\n",
       "      <th>amr</th>\n",
       "      <th>classé</th>\n",
       "      <th>cnss</th>\n",
       "      <th>doctorrrrrrr</th>\n",
       "      <th>eltahan</th>\n",
       "      <th>me</th>\n",
       "      <th>...</th>\n",
       "      <th>٧سنوات</th>\n",
       "      <th>٧٠</th>\n",
       "      <th>٧٢</th>\n",
       "      <th>٧٥٠</th>\n",
       "      <th>٨٠</th>\n",
       "      <th>٨٠٠جنيه</th>\n",
       "      <th>٨٠٠وواحد</th>\n",
       "      <th>٨١</th>\n",
       "      <th>٨٩٠جنيه</th>\n",
       "      <th>٨٩٠في</th>\n",
       "    </tr>\n",
       "  </thead>\n",
       "  <tbody>\n",
       "    <tr>\n",
       "      <th>0</th>\n",
       "      <td>0.0</td>\n",
       "      <td>0.0</td>\n",
       "      <td>0.0</td>\n",
       "      <td>0.0</td>\n",
       "      <td>0.0</td>\n",
       "      <td>0.0</td>\n",
       "      <td>0.0</td>\n",
       "      <td>0.0</td>\n",
       "      <td>0.0</td>\n",
       "      <td>0.0</td>\n",
       "      <td>...</td>\n",
       "      <td>0.0</td>\n",
       "      <td>0.0</td>\n",
       "      <td>0.0</td>\n",
       "      <td>0.0</td>\n",
       "      <td>0.0</td>\n",
       "      <td>0.0</td>\n",
       "      <td>0.0</td>\n",
       "      <td>0.0</td>\n",
       "      <td>0.0</td>\n",
       "      <td>0.0</td>\n",
       "    </tr>\n",
       "    <tr>\n",
       "      <th>1</th>\n",
       "      <td>0.0</td>\n",
       "      <td>0.0</td>\n",
       "      <td>0.0</td>\n",
       "      <td>0.0</td>\n",
       "      <td>0.0</td>\n",
       "      <td>0.0</td>\n",
       "      <td>0.0</td>\n",
       "      <td>0.0</td>\n",
       "      <td>0.0</td>\n",
       "      <td>0.0</td>\n",
       "      <td>...</td>\n",
       "      <td>0.0</td>\n",
       "      <td>0.0</td>\n",
       "      <td>0.0</td>\n",
       "      <td>0.0</td>\n",
       "      <td>0.0</td>\n",
       "      <td>0.0</td>\n",
       "      <td>0.0</td>\n",
       "      <td>0.0</td>\n",
       "      <td>0.0</td>\n",
       "      <td>0.0</td>\n",
       "    </tr>\n",
       "    <tr>\n",
       "      <th>2</th>\n",
       "      <td>0.0</td>\n",
       "      <td>0.0</td>\n",
       "      <td>0.0</td>\n",
       "      <td>0.0</td>\n",
       "      <td>0.0</td>\n",
       "      <td>0.0</td>\n",
       "      <td>0.0</td>\n",
       "      <td>0.0</td>\n",
       "      <td>0.0</td>\n",
       "      <td>0.0</td>\n",
       "      <td>...</td>\n",
       "      <td>0.0</td>\n",
       "      <td>0.0</td>\n",
       "      <td>0.0</td>\n",
       "      <td>0.0</td>\n",
       "      <td>0.0</td>\n",
       "      <td>0.0</td>\n",
       "      <td>0.0</td>\n",
       "      <td>0.0</td>\n",
       "      <td>0.0</td>\n",
       "      <td>0.0</td>\n",
       "    </tr>\n",
       "    <tr>\n",
       "      <th>3</th>\n",
       "      <td>0.0</td>\n",
       "      <td>0.0</td>\n",
       "      <td>0.0</td>\n",
       "      <td>0.0</td>\n",
       "      <td>0.0</td>\n",
       "      <td>0.0</td>\n",
       "      <td>0.0</td>\n",
       "      <td>0.0</td>\n",
       "      <td>0.0</td>\n",
       "      <td>0.0</td>\n",
       "      <td>...</td>\n",
       "      <td>0.0</td>\n",
       "      <td>0.0</td>\n",
       "      <td>0.0</td>\n",
       "      <td>0.0</td>\n",
       "      <td>0.0</td>\n",
       "      <td>0.0</td>\n",
       "      <td>0.0</td>\n",
       "      <td>0.0</td>\n",
       "      <td>0.0</td>\n",
       "      <td>0.0</td>\n",
       "    </tr>\n",
       "    <tr>\n",
       "      <th>4</th>\n",
       "      <td>0.0</td>\n",
       "      <td>0.0</td>\n",
       "      <td>0.0</td>\n",
       "      <td>0.0</td>\n",
       "      <td>0.0</td>\n",
       "      <td>0.0</td>\n",
       "      <td>0.0</td>\n",
       "      <td>0.0</td>\n",
       "      <td>0.0</td>\n",
       "      <td>0.0</td>\n",
       "      <td>...</td>\n",
       "      <td>0.0</td>\n",
       "      <td>0.0</td>\n",
       "      <td>0.0</td>\n",
       "      <td>0.0</td>\n",
       "      <td>0.0</td>\n",
       "      <td>0.0</td>\n",
       "      <td>0.0</td>\n",
       "      <td>0.0</td>\n",
       "      <td>0.0</td>\n",
       "      <td>0.0</td>\n",
       "    </tr>\n",
       "    <tr>\n",
       "      <th>...</th>\n",
       "      <td>...</td>\n",
       "      <td>...</td>\n",
       "      <td>...</td>\n",
       "      <td>...</td>\n",
       "      <td>...</td>\n",
       "      <td>...</td>\n",
       "      <td>...</td>\n",
       "      <td>...</td>\n",
       "      <td>...</td>\n",
       "      <td>...</td>\n",
       "      <td>...</td>\n",
       "      <td>...</td>\n",
       "      <td>...</td>\n",
       "      <td>...</td>\n",
       "      <td>...</td>\n",
       "      <td>...</td>\n",
       "      <td>...</td>\n",
       "      <td>...</td>\n",
       "      <td>...</td>\n",
       "      <td>...</td>\n",
       "      <td>...</td>\n",
       "    </tr>\n",
       "    <tr>\n",
       "      <th>1958</th>\n",
       "      <td>0.0</td>\n",
       "      <td>0.0</td>\n",
       "      <td>0.0</td>\n",
       "      <td>0.0</td>\n",
       "      <td>0.0</td>\n",
       "      <td>0.0</td>\n",
       "      <td>0.0</td>\n",
       "      <td>0.0</td>\n",
       "      <td>0.0</td>\n",
       "      <td>0.0</td>\n",
       "      <td>...</td>\n",
       "      <td>0.0</td>\n",
       "      <td>0.0</td>\n",
       "      <td>0.0</td>\n",
       "      <td>0.0</td>\n",
       "      <td>0.0</td>\n",
       "      <td>0.0</td>\n",
       "      <td>0.0</td>\n",
       "      <td>0.0</td>\n",
       "      <td>0.0</td>\n",
       "      <td>0.0</td>\n",
       "    </tr>\n",
       "    <tr>\n",
       "      <th>1959</th>\n",
       "      <td>0.0</td>\n",
       "      <td>0.0</td>\n",
       "      <td>0.0</td>\n",
       "      <td>0.0</td>\n",
       "      <td>0.0</td>\n",
       "      <td>0.0</td>\n",
       "      <td>0.0</td>\n",
       "      <td>0.0</td>\n",
       "      <td>0.0</td>\n",
       "      <td>0.0</td>\n",
       "      <td>...</td>\n",
       "      <td>0.0</td>\n",
       "      <td>0.0</td>\n",
       "      <td>0.0</td>\n",
       "      <td>0.0</td>\n",
       "      <td>0.0</td>\n",
       "      <td>0.0</td>\n",
       "      <td>0.0</td>\n",
       "      <td>0.0</td>\n",
       "      <td>0.0</td>\n",
       "      <td>0.0</td>\n",
       "    </tr>\n",
       "    <tr>\n",
       "      <th>1960</th>\n",
       "      <td>0.0</td>\n",
       "      <td>0.0</td>\n",
       "      <td>0.0</td>\n",
       "      <td>0.0</td>\n",
       "      <td>0.0</td>\n",
       "      <td>0.0</td>\n",
       "      <td>0.0</td>\n",
       "      <td>0.0</td>\n",
       "      <td>0.0</td>\n",
       "      <td>0.0</td>\n",
       "      <td>...</td>\n",
       "      <td>0.0</td>\n",
       "      <td>0.0</td>\n",
       "      <td>0.0</td>\n",
       "      <td>0.0</td>\n",
       "      <td>0.0</td>\n",
       "      <td>0.0</td>\n",
       "      <td>0.0</td>\n",
       "      <td>0.0</td>\n",
       "      <td>0.0</td>\n",
       "      <td>0.0</td>\n",
       "    </tr>\n",
       "    <tr>\n",
       "      <th>1961</th>\n",
       "      <td>0.0</td>\n",
       "      <td>0.0</td>\n",
       "      <td>0.0</td>\n",
       "      <td>0.0</td>\n",
       "      <td>0.0</td>\n",
       "      <td>0.0</td>\n",
       "      <td>0.0</td>\n",
       "      <td>0.0</td>\n",
       "      <td>0.0</td>\n",
       "      <td>0.0</td>\n",
       "      <td>...</td>\n",
       "      <td>0.0</td>\n",
       "      <td>0.0</td>\n",
       "      <td>0.0</td>\n",
       "      <td>0.0</td>\n",
       "      <td>0.0</td>\n",
       "      <td>0.0</td>\n",
       "      <td>0.0</td>\n",
       "      <td>0.0</td>\n",
       "      <td>0.0</td>\n",
       "      <td>0.0</td>\n",
       "    </tr>\n",
       "    <tr>\n",
       "      <th>1962</th>\n",
       "      <td>0.0</td>\n",
       "      <td>0.0</td>\n",
       "      <td>0.0</td>\n",
       "      <td>0.0</td>\n",
       "      <td>0.0</td>\n",
       "      <td>0.0</td>\n",
       "      <td>0.0</td>\n",
       "      <td>0.0</td>\n",
       "      <td>0.0</td>\n",
       "      <td>0.0</td>\n",
       "      <td>...</td>\n",
       "      <td>0.0</td>\n",
       "      <td>0.0</td>\n",
       "      <td>0.0</td>\n",
       "      <td>0.0</td>\n",
       "      <td>0.0</td>\n",
       "      <td>0.0</td>\n",
       "      <td>0.0</td>\n",
       "      <td>0.0</td>\n",
       "      <td>0.0</td>\n",
       "      <td>0.0</td>\n",
       "    </tr>\n",
       "  </tbody>\n",
       "</table>\n",
       "<p>1963 rows × 16410 columns</p>\n",
       "</div>"
      ],
      "text/plain": [
       "      ______________________________  _خدمات  _فتح  aide  amr  classé  cnss  \\\n",
       "0                                0.0     0.0   0.0   0.0  0.0     0.0   0.0   \n",
       "1                                0.0     0.0   0.0   0.0  0.0     0.0   0.0   \n",
       "2                                0.0     0.0   0.0   0.0  0.0     0.0   0.0   \n",
       "3                                0.0     0.0   0.0   0.0  0.0     0.0   0.0   \n",
       "4                                0.0     0.0   0.0   0.0  0.0     0.0   0.0   \n",
       "...                              ...     ...   ...   ...  ...     ...   ...   \n",
       "1958                             0.0     0.0   0.0   0.0  0.0     0.0   0.0   \n",
       "1959                             0.0     0.0   0.0   0.0  0.0     0.0   0.0   \n",
       "1960                             0.0     0.0   0.0   0.0  0.0     0.0   0.0   \n",
       "1961                             0.0     0.0   0.0   0.0  0.0     0.0   0.0   \n",
       "1962                             0.0     0.0   0.0   0.0  0.0     0.0   0.0   \n",
       "\n",
       "      doctorrrrrrr  eltahan   me  ...  ٧سنوات   ٧٠   ٧٢  ٧٥٠   ٨٠  ٨٠٠جنيه  \\\n",
       "0              0.0      0.0  0.0  ...     0.0  0.0  0.0  0.0  0.0      0.0   \n",
       "1              0.0      0.0  0.0  ...     0.0  0.0  0.0  0.0  0.0      0.0   \n",
       "2              0.0      0.0  0.0  ...     0.0  0.0  0.0  0.0  0.0      0.0   \n",
       "3              0.0      0.0  0.0  ...     0.0  0.0  0.0  0.0  0.0      0.0   \n",
       "4              0.0      0.0  0.0  ...     0.0  0.0  0.0  0.0  0.0      0.0   \n",
       "...            ...      ...  ...  ...     ...  ...  ...  ...  ...      ...   \n",
       "1958           0.0      0.0  0.0  ...     0.0  0.0  0.0  0.0  0.0      0.0   \n",
       "1959           0.0      0.0  0.0  ...     0.0  0.0  0.0  0.0  0.0      0.0   \n",
       "1960           0.0      0.0  0.0  ...     0.0  0.0  0.0  0.0  0.0      0.0   \n",
       "1961           0.0      0.0  0.0  ...     0.0  0.0  0.0  0.0  0.0      0.0   \n",
       "1962           0.0      0.0  0.0  ...     0.0  0.0  0.0  0.0  0.0      0.0   \n",
       "\n",
       "      ٨٠٠وواحد   ٨١  ٨٩٠جنيه  ٨٩٠في  \n",
       "0          0.0  0.0      0.0    0.0  \n",
       "1          0.0  0.0      0.0    0.0  \n",
       "2          0.0  0.0      0.0    0.0  \n",
       "3          0.0  0.0      0.0    0.0  \n",
       "4          0.0  0.0      0.0    0.0  \n",
       "...        ...  ...      ...    ...  \n",
       "1958       0.0  0.0      0.0    0.0  \n",
       "1959       0.0  0.0      0.0    0.0  \n",
       "1960       0.0  0.0      0.0    0.0  \n",
       "1961       0.0  0.0      0.0    0.0  \n",
       "1962       0.0  0.0      0.0    0.0  \n",
       "\n",
       "[1963 rows x 16410 columns]"
      ]
     },
     "execution_count": 81,
     "metadata": {},
     "output_type": "execute_result"
    }
   ],
   "source": [
    "pd.DataFrame(tfidf_vectorizer.fit_transform(remve_noise(dataset['text'])).toarray(),columns=sorted(tfidf_vectorizer.vocabulary_.keys()))"
   ]
  },
  {
   "cell_type": "code",
   "execution_count": 82,
   "metadata": {},
   "outputs": [],
   "source": [
    "# kfold = None\n",
    "# score = 0\n",
    "# for i in range(5, 100):\n",
    "#     k_folds = KFold(n_splits = i)\n",
    "#     scores = cross_val_score(classfier, X, Y, cv = k_folds)\n",
    "#     scoreTemp = scores.mean()\n",
    "#     if scoreTemp > score:\n",
    "#         kfold = i\n",
    "#         score = scoreTemp"
   ]
  },
  {
   "cell_type": "code",
   "execution_count": 83,
   "metadata": {},
   "outputs": [],
   "source": [
    "# print('kfold: ', kfold)\n",
    "# print('score: ', score)"
   ]
  },
  {
   "cell_type": "code",
   "execution_count": 84,
   "metadata": {},
   "outputs": [
    {
     "name": "stdout",
     "output_type": "stream",
     "text": [
      "السلام عليكم أنا ساكنه في الدور الاخير وكنت عامله عازل وفوم و صاحب العقار شال الفوم وسقف الشقه عندى كله شروخ وممكن يقع وصاحب العقار مش راضى يصلح السطح حتى بالنصف والنصف إيه الحل القانونى معاه وشكرا\n"
     ]
    },
    {
     "data": {
      "text/plain": [
       "'مدني'"
      ]
     },
     "execution_count": 84,
     "metadata": {},
     "output_type": "execute_result"
    }
   ],
   "source": [
    "pd.DataFrame(Y_test).to_csv(\"test.csv\")\n",
    "print(dataset['text'][1145])\n",
    "dataset['label'][1145]"
   ]
  },
  {
   "cell_type": "code",
   "execution_count": 85,
   "metadata": {},
   "outputs": [
    {
     "data": {
      "text/plain": [
       "LinearSVC()"
      ]
     },
     "execution_count": 85,
     "metadata": {},
     "output_type": "execute_result"
    }
   ],
   "source": [
    "from sklearn import svm\n",
    "from sklearn.svm import LinearSVC\n",
    "from sklearn.ensemble import RandomForestClassifier\n",
    "RF= RandomForestClassifier(n_estimators=100)\n",
    "RF.fit(X_train, Y_train)\n",
    "\n",
    "sig = svm.SVC(kernel='sigmoid').fit(X_train, Y_train)\n",
    "\n",
    "liner_SVM = LinearSVC()\n",
    "liner_SVM.fit(X_train,Y_train)"
   ]
  },
  {
   "cell_type": "code",
   "execution_count": 86,
   "metadata": {},
   "outputs": [],
   "source": [
    "sig_pred = sig.predict(X_test)\n",
    "\n",
    "RF_pred=RF.predict(X_test)\n",
    "\n",
    "linersvm_pred=liner_SVM.predict(X_test)"
   ]
  },
  {
   "cell_type": "code",
   "execution_count": 87,
   "metadata": {},
   "outputs": [],
   "source": [
    "from sklearn.metrics import confusion_matrix,accuracy_score,classification_report"
   ]
  },
  {
   "cell_type": "code",
   "execution_count": 88,
   "metadata": {},
   "outputs": [
    {
     "name": "stdout",
     "output_type": "stream",
     "text": [
      "[[191   4   8]\n",
      " [ 27  50   4]\n",
      " [ 16   4  89]]\n"
     ]
    }
   ],
   "source": [
    "print(confusion_matrix(Y_test,sig_pred))"
   ]
  },
  {
   "cell_type": "code",
   "execution_count": 89,
   "metadata": {},
   "outputs": [
    {
     "name": "stdout",
     "output_type": "stream",
     "text": [
      "[[197   0   6]\n",
      " [ 28  53   0]\n",
      " [ 19   1  89]]\n"
     ]
    }
   ],
   "source": [
    "print(confusion_matrix(Y_test,RF_pred))"
   ]
  },
  {
   "cell_type": "code",
   "execution_count": 90,
   "metadata": {},
   "outputs": [
    {
     "name": "stdout",
     "output_type": "stream",
     "text": [
      "[[192   3   8]\n",
      " [ 13  66   2]\n",
      " [ 14   5  90]]\n"
     ]
    }
   ],
   "source": [
    "print(confusion_matrix(Y_test,linersvm_pred))"
   ]
  },
  {
   "cell_type": "code",
   "execution_count": 91,
   "metadata": {},
   "outputs": [
    {
     "name": "stdout",
     "output_type": "stream",
     "text": [
      "accuracy is as sig  0.8396946564885496\n",
      "accuracy is as RF  0.8625954198473282\n",
      "accuracy is as linear SVM  0.8854961832061069\n"
     ]
    }
   ],
   "source": [
    "print(\"accuracy is as sig \",accuracy_score(Y_test, sig_pred))\n",
    "print(\"accuracy is as RF \",accuracy_score(Y_test, RF_pred))\n",
    "print(\"accuracy is as linear SVM \",accuracy_score(Y_test, linersvm_pred))"
   ]
  },
  {
   "cell_type": "code",
   "execution_count": 92,
   "metadata": {},
   "outputs": [
    {
     "name": "stdout",
     "output_type": "stream",
     "text": [
      "              precision    recall  f1-score   support\n",
      "\n",
      "        اسره       0.82      0.94      0.87       203\n",
      "         جنح       0.86      0.62      0.72        81\n",
      "        مدني       0.88      0.82      0.85       109\n",
      "\n",
      "    accuracy                           0.84       393\n",
      "   macro avg       0.85      0.79      0.81       393\n",
      "weighted avg       0.84      0.84      0.83       393\n",
      "\n"
     ]
    }
   ],
   "source": [
    "print(classification_report(Y_test,sig_pred))"
   ]
  },
  {
   "cell_type": "code",
   "execution_count": 93,
   "metadata": {},
   "outputs": [
    {
     "name": "stdout",
     "output_type": "stream",
     "text": [
      "              precision    recall  f1-score   support\n",
      "\n",
      "        اسره       0.81      0.97      0.88       203\n",
      "         جنح       0.98      0.65      0.79        81\n",
      "        مدني       0.94      0.82      0.87       109\n",
      "\n",
      "    accuracy                           0.86       393\n",
      "   macro avg       0.91      0.81      0.85       393\n",
      "weighted avg       0.88      0.86      0.86       393\n",
      "\n"
     ]
    }
   ],
   "source": [
    "print(classification_report(Y_test,RF_pred))"
   ]
  },
  {
   "cell_type": "code",
   "execution_count": 94,
   "metadata": {},
   "outputs": [
    {
     "name": "stdout",
     "output_type": "stream",
     "text": [
      "              precision    recall  f1-score   support\n",
      "\n",
      "        اسره       0.88      0.95      0.91       203\n",
      "         جنح       0.89      0.81      0.85        81\n",
      "        مدني       0.90      0.83      0.86       109\n",
      "\n",
      "    accuracy                           0.89       393\n",
      "   macro avg       0.89      0.86      0.87       393\n",
      "weighted avg       0.89      0.89      0.88       393\n",
      "\n"
     ]
    }
   ],
   "source": [
    "print(classification_report(Y_test, linersvm_pred))"
   ]
  },
  {
   "cell_type": "code",
   "execution_count": 95,
   "metadata": {},
   "outputs": [
    {
     "data": {
      "text/plain": [
       "['السلام سؤال فضلكم اشتريت نصف شقة ممكن اسجل النصف الخاص ان الشريك الاخر رافض التسجيل وشكرا']"
      ]
     },
     "execution_count": 95,
     "metadata": {},
     "output_type": "execute_result"
    }
   ],
   "source": [
    "remve_noise(['السلام عليكم . سؤال منهما فضلكم   اشتريت  نصف شقة هل ممكن اسجل النصف الخاص بي فقط  . حيث ان الشريك الاخر  رافض التسجيل . وشكرا'])"
   ]
  },
  {
   "cell_type": "code",
   "execution_count": 96,
   "metadata": {},
   "outputs": [
    {
     "data": {
      "text/plain": [
       "{'اسره', 'جنح', 'مدني'}"
      ]
     },
     "execution_count": 96,
     "metadata": {},
     "output_type": "execute_result"
    }
   ],
   "source": [
    "set(dataset.label.values)"
   ]
  },
  {
   "cell_type": "code",
   "execution_count": 97,
   "metadata": {},
   "outputs": [
    {
     "data": {
      "text/plain": [
       "اسره    969\n",
       "مدني    521\n",
       "جنح     473\n",
       "Name: label, dtype: int64"
      ]
     },
     "execution_count": 97,
     "metadata": {},
     "output_type": "execute_result"
    }
   ],
   "source": [
    "Y.value_counts()"
   ]
  },
  {
   "cell_type": "code",
   "execution_count": 98,
   "metadata": {},
   "outputs": [
    {
     "data": {
      "text/plain": [
       "اسره    203\n",
       "مدني    109\n",
       "جنح      81\n",
       "Name: label, dtype: int64"
      ]
     },
     "execution_count": 98,
     "metadata": {},
     "output_type": "execute_result"
    }
   ],
   "source": [
    "Y_test.value_counts()"
   ]
  },
  {
   "cell_type": "code",
   "execution_count": 99,
   "metadata": {},
   "outputs": [
    {
     "data": {
      "text/plain": [
       "اسره    766\n",
       "مدني    412\n",
       "جنح     392\n",
       "Name: label, dtype: int64"
      ]
     },
     "execution_count": 99,
     "metadata": {},
     "output_type": "execute_result"
    }
   ],
   "source": [
    "Y_train.value_counts()"
   ]
  },
  {
   "cell_type": "code",
   "execution_count": 100,
   "metadata": {},
   "outputs": [
    {
     "data": {
      "text/plain": [
       "1963"
      ]
     },
     "execution_count": 100,
     "metadata": {},
     "output_type": "execute_result"
    }
   ],
   "source": [
    "len(dataset)"
   ]
  },
  {
   "cell_type": "code",
   "execution_count": 101,
   "metadata": {},
   "outputs": [],
   "source": [
    "import pickle\n",
    "pickle.dump(liner_SVM, open('model.pkl', 'wb'))    "
   ]
  },
  {
   "cell_type": "code",
   "execution_count": 102,
   "metadata": {},
   "outputs": [],
   "source": [
    "def model(text):\n",
    "    text=[text]\n",
    "    transform=tfidf_vectorizer.transform(remve_noise(text))\n",
    "    pickled_model=pickle.load(open('model.pkl','rb'))\n",
    "    print(pickled_model.predict(transform))"
   ]
  },
  {
   "cell_type": "code",
   "execution_count": 103,
   "metadata": {},
   "outputs": [
    {
     "name": "stdout",
     "output_type": "stream",
     "text": [
      "['مدني']\n"
     ]
    }
   ],
   "source": [
    "model(dataset['text'][9])"
   ]
  },
  {
   "cell_type": "code",
   "execution_count": 104,
   "metadata": {},
   "outputs": [],
   "source": [
    "def unknown():\n",
    "    response = \" مش فاهم , انا ممكن اساعدك تعرف تصنيف قضيتك كل الي عليك تعمله تكتب مشكلتك او قضيتك وانا هاصنفهالك الي اسره او مدني او جنح !\"\n",
    "    return response\n",
    "\n",
    "\n",
    "\n",
    "\n",
    "def message_probability(user_message, recognised_words, single_response=False, required_words=[]):\n",
    "    message_certainty = 0\n",
    "    has_required_words = True\n",
    "\n",
    "    # Counts how many words are present in each predefined message\n",
    "    for word in user_message:\n",
    "        if word in recognised_words:\n",
    "            message_certainty += 1\n",
    "\n",
    "    # Calculates the percent of recognised words in a user message\n",
    "    percentage = float(message_certainty) / float(len(recognised_words))\n",
    "\n",
    "    # Checks that the required words are in the string\n",
    "    for word in required_words:\n",
    "        if word not in user_message:\n",
    "            has_required_words = False\n",
    "            break\n",
    "\n",
    "    # Must either have the required words, or be a single response\n",
    "    if has_required_words or single_response:\n",
    "        return int(percentage * 100)\n",
    "    else:\n",
    "        return 0\n",
    "\n",
    "\n",
    "def check_all_messages(message):\n",
    "    highest_prob_list = {}\n",
    "\n",
    "    # Simplifies response creation / adds it to the dict\n",
    "    def response(bot_response, list_of_words, single_response=False, required_words=[]):\n",
    "        nonlocal highest_prob_list\n",
    "        highest_prob_list[bot_response] = message_probability(message, list_of_words, single_response, required_words)\n",
    "\n",
    "    # Responses -------------------------------------------------------------------------------------------------------\n",
    "    response('مساء الخير يافندم !!', ['اهلا','عليكم', 'السلام', 'مرحبا', 'مساء','الخير', \"صباح\"], single_response=True)\n",
    "    response('مع السلامة يافندم', ['سلام','السلامة','مع','الي'], single_response=True)\n",
    "    response('انا كويس , وانت عامل ايه؟', ['عامل', 'ايه'], required_words=['عامل'])\n",
    "    response('تمام يافندم اقدر اساعدك في حاجة تاني ؟', ['شكرا','تمام'], single_response=True)\n",
    "    response('شرفتنا جدا يافندم , مع السلامة', ['لا'], single_response=True)\n",
    "    response('شكرا جدا يافندم!', ['انا', 'بحبك'], required_words=['بحبك'])\n",
    "    response('انا هنا عشان اساعدك , اتفضل', ['انا','مشكلة','عندي'], required_words=['مشكلة'])\n",
    "    response('انا هنا عشان اساعدك , اتفضل!!', ['انا','قضية','عندي'], required_words=['قضية'])\n",
    "\n",
    "    \n",
    "\n",
    "    best_match = max(highest_prob_list, key=highest_prob_list.get)\n",
    "    # print(highest_prob_list)\n",
    "    # print(f'Best match = {best_match} | Score: {highest_prob_list[best_match]}')\n",
    "\n",
    "    return unknown() if highest_prob_list[best_match] < 1 else best_match\n",
    "\n",
    "\n",
    "# Used to get the response\n",
    "def get_response(user_input):\n",
    "    split_message = re.split(r'\\s+|[,;?!.-]\\s*', user_input.lower())\n",
    "    response = check_all_messages(split_message)\n",
    "    if(len(user_input))<20:\n",
    "        return response\n",
    "    else:\n",
    "        return 'القضية دي تصنيفها'+' '+'('+ model(user_input) +')' + ' ' + 'هل ترغب في محامي ؟'"
   ]
  },
  {
   "cell_type": "code",
   "execution_count": 105,
   "metadata": {},
   "outputs": [],
   "source": [
    "def chatbot():\n",
    "    print('اهلا بيك يافندم انا موكلي شات بوت !')\n",
    "    print('انا ممكن اساعدك تعرف تصنيف قضيتك كل الي عليك تعمله تكتب مشكلتك او قضيتك وانا هاصنفهالك الي اسره او مدني او جنح !')\n",
    "    print('وكمان هارشحلك المحاميين المتخصصين في نوع القضية الخاصة بيك ! ')\n",
    "    while True:\n",
    "        print('Mowakly Bot: ' + get_response(input('You: ')))"
   ]
  },
  {
   "cell_type": "code",
   "execution_count": null,
   "metadata": {},
   "outputs": [],
   "source": [
    "chatbot()"
   ]
  },
  {
   "cell_type": "code",
   "execution_count": null,
   "metadata": {},
   "outputs": [],
   "source": []
  }
 ],
 "metadata": {
  "kernelspec": {
   "display_name": "Python 3",
   "language": "python",
   "name": "python3"
  },
  "language_info": {
   "codemirror_mode": {
    "name": "ipython",
    "version": 3
   },
   "file_extension": ".py",
   "mimetype": "text/x-python",
   "name": "python",
   "nbconvert_exporter": "python",
   "pygments_lexer": "ipython3",
   "version": "3.8.3"
  }
 },
 "nbformat": 4,
 "nbformat_minor": 4
}
