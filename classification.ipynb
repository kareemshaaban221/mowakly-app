{
 "cells": [
  {
   "cell_type": "code",
   "execution_count": 52,
   "metadata": {},
   "outputs": [],
   "source": [
    "import pandas as pd\n",
    "dataset=pd.read_excel('YEHIA4.xlsx')\n",
    "import arabicstopwords.arabicstopwords as asw\n",
    "from nltk import word_tokenize\n",
    "import string\n",
    "from sklearn.model_selection import train_test_split,KFold, StratifiedKFold, LeaveOneOut, cross_val_score\n",
    "from sklearn.feature_extraction.text import TfidfVectorizer,CountVectorizer"
   ]
  },
  {
   "cell_type": "code",
   "execution_count": 4,
   "metadata": {},
   "outputs": [],
   "source": [
    "def remve_noise(cases):\n",
    "    corpus=[]\n",
    "    for case in cases:\n",
    "        s=case.lower()\n",
    "        words=word_tokenize(s)\n",
    "        word=[w for w in words if w not in asw.stopwords_list() if w not in string.punctuation]\n",
    "        s=\" \".join(word)\n",
    "        corpus.append(s)\n",
    "    return corpus"
   ]
  },
  {
   "cell_type": "code",
   "execution_count": 5,
   "metadata": {},
   "outputs": [],
   "source": [
    "tfidf_vectorizer = TfidfVectorizer()\n",
    "# tfidf_vectorizer = CountVectorizer()\n",
    "tfidf_vectorizer.fit(remve_noise(dataset['text']))\n",
    "X = tfidf_vectorizer.transform(remve_noise(dataset['text']))\n",
    "Y=dataset['label']\n",
    "X_train, X_test, Y_train, Y_test = train_test_split(X, Y,test_size = 0.2)\n",
    "from sklearn.naive_bayes import MultinomialNB\n",
    "classfier=MultinomialNB()"
   ]
  },
  {
   "cell_type": "code",
   "execution_count": 6,
   "metadata": {},
   "outputs": [],
   "source": [
    "# kfold = None\n",
    "# score = 0\n",
    "# for i in range(5, 100):\n",
    "#     k_folds = KFold(n_splits = i)\n",
    "#     scores = cross_val_score(classfier, X, Y, cv = k_folds)\n",
    "#     scoreTemp = scores.mean()\n",
    "#     if scoreTemp > score:\n",
    "#         kfold = i\n",
    "#         score = scoreTemp"
   ]
  },
  {
   "cell_type": "code",
   "execution_count": 7,
   "metadata": {},
   "outputs": [],
   "source": [
    "# print('kfold: ', kfold)\n",
    "# print('score: ', score)"
   ]
  },
  {
   "cell_type": "code",
   "execution_count": 8,
   "metadata": {},
   "outputs": [
    {
     "data": {
      "text/plain": [
       "MultinomialNB()"
      ]
     },
     "execution_count": 8,
     "metadata": {},
     "output_type": "execute_result"
    }
   ],
   "source": [
    "from sklearn import svm\n",
    "rbf = svm.SVC(kernel='rbf').fit(X_train, Y_train)\n",
    "sig = svm.SVC(kernel='sigmoid').fit(X_train, Y_train)\n",
    "poly = svm.SVC(kernel='poly').fit(X_train, Y_train)\n",
    "classfier=MultinomialNB()\n",
    "classfier.fit(X_train,Y_train)"
   ]
  },
  {
   "cell_type": "code",
   "execution_count": 9,
   "metadata": {},
   "outputs": [],
   "source": [
    "Y_pred=classfier.predict(X_test)\n",
    "sig_pred = sig.predict(X_test)\n",
    "rbf_pred = rbf.predict(X_test)\n",
    "poly_pred=poly.predict(X_test)"
   ]
  },
  {
   "cell_type": "code",
   "execution_count": 10,
   "metadata": {},
   "outputs": [],
   "source": [
    "from sklearn.metrics import confusion_matrix,accuracy_score,classification_report"
   ]
  },
  {
   "cell_type": "code",
   "execution_count": 11,
   "metadata": {},
   "outputs": [
    {
     "name": "stdout",
     "output_type": "stream",
     "text": [
      "[[200   0   0]\n",
      " [ 30   0   0]\n",
      " [ 37   0   0]]\n"
     ]
    }
   ],
   "source": [
    "print(confusion_matrix(Y_test,Y_pred))"
   ]
  },
  {
   "cell_type": "code",
   "execution_count": 12,
   "metadata": {},
   "outputs": [
    {
     "name": "stdout",
     "output_type": "stream",
     "text": [
      "[[196   0   4]\n",
      " [ 26   4   0]\n",
      " [ 30   0   7]]\n"
     ]
    }
   ],
   "source": [
    "print(confusion_matrix(Y_test,sig_pred))"
   ]
  },
  {
   "cell_type": "code",
   "execution_count": 13,
   "metadata": {},
   "outputs": [
    {
     "name": "stdout",
     "output_type": "stream",
     "text": [
      "[[199   0   1]\n",
      " [ 21   9   0]\n",
      " [ 37   0   0]]\n"
     ]
    }
   ],
   "source": [
    "print(confusion_matrix(Y_test,rbf_pred))"
   ]
  },
  {
   "cell_type": "code",
   "execution_count": 15,
   "metadata": {},
   "outputs": [
    {
     "name": "stdout",
     "output_type": "stream",
     "text": [
      "[[200   0   0]\n",
      " [ 22   8   0]\n",
      " [ 36   1   0]]\n"
     ]
    }
   ],
   "source": [
    "print(confusion_matrix(Y_test,poly_pred))"
   ]
  },
  {
   "cell_type": "code",
   "execution_count": 16,
   "metadata": {},
   "outputs": [
    {
     "name": "stdout",
     "output_type": "stream",
     "text": [
      "accuracy is as naive bayes  0.7490636704119851\n",
      "accuracy is as sig  0.7752808988764045\n",
      "accuracy is as rbf  0.7790262172284644\n",
      "accuracy is as poly  0.7790262172284644\n"
     ]
    }
   ],
   "source": [
    "print(\"accuracy is as naive bayes \",accuracy_score(Y_test,Y_pred))\n",
    "print(\"accuracy is as sig \",accuracy_score(Y_test, sig_pred))\n",
    "print(\"accuracy is as rbf \",accuracy_score(Y_test, rbf_pred))\n",
    "print(\"accuracy is as poly \",accuracy_score(Y_test, poly_pred))"
   ]
  },
  {
   "cell_type": "code",
   "execution_count": 17,
   "metadata": {},
   "outputs": [
    {
     "name": "stdout",
     "output_type": "stream",
     "text": [
      "              precision    recall  f1-score   support\n",
      "\n",
      "        اسره       0.75      1.00      0.86       200\n",
      "         جنح       0.00      0.00      0.00        30\n",
      "        مدني       0.00      0.00      0.00        37\n",
      "\n",
      "    accuracy                           0.75       267\n",
      "   macro avg       0.25      0.33      0.29       267\n",
      "weighted avg       0.56      0.75      0.64       267\n",
      "\n"
     ]
    },
    {
     "name": "stderr",
     "output_type": "stream",
     "text": [
      "C:\\ProgramData\\Anaconda3\\lib\\site-packages\\sklearn\\metrics\\_classification.py:1221: UndefinedMetricWarning: Precision and F-score are ill-defined and being set to 0.0 in labels with no predicted samples. Use `zero_division` parameter to control this behavior.\n",
      "  _warn_prf(average, modifier, msg_start, len(result))\n"
     ]
    }
   ],
   "source": [
    "print(classification_report(Y_test,Y_pred))"
   ]
  },
  {
   "cell_type": "code",
   "execution_count": 18,
   "metadata": {},
   "outputs": [
    {
     "name": "stdout",
     "output_type": "stream",
     "text": [
      "              precision    recall  f1-score   support\n",
      "\n",
      "        اسره       0.78      0.98      0.87       200\n",
      "         جنح       1.00      0.13      0.24        30\n",
      "        مدني       0.64      0.19      0.29        37\n",
      "\n",
      "    accuracy                           0.78       267\n",
      "   macro avg       0.80      0.43      0.46       267\n",
      "weighted avg       0.78      0.78      0.72       267\n",
      "\n"
     ]
    }
   ],
   "source": [
    "print(classification_report(Y_test,sig_pred))"
   ]
  },
  {
   "cell_type": "code",
   "execution_count": 19,
   "metadata": {},
   "outputs": [
    {
     "name": "stdout",
     "output_type": "stream",
     "text": [
      "              precision    recall  f1-score   support\n",
      "\n",
      "        اسره       0.77      0.99      0.87       200\n",
      "         جنح       1.00      0.30      0.46        30\n",
      "        مدني       0.00      0.00      0.00        37\n",
      "\n",
      "    accuracy                           0.78       267\n",
      "   macro avg       0.59      0.43      0.44       267\n",
      "weighted avg       0.69      0.78      0.70       267\n",
      "\n"
     ]
    }
   ],
   "source": [
    "print(classification_report(Y_test,rbf_pred))"
   ]
  },
  {
   "cell_type": "code",
   "execution_count": 20,
   "metadata": {},
   "outputs": [
    {
     "name": "stdout",
     "output_type": "stream",
     "text": [
      "              precision    recall  f1-score   support\n",
      "\n",
      "        اسره       0.78      1.00      0.87       200\n",
      "         جنح       0.89      0.27      0.41        30\n",
      "        مدني       0.00      0.00      0.00        37\n",
      "\n",
      "    accuracy                           0.78       267\n",
      "   macro avg       0.55      0.42      0.43       267\n",
      "weighted avg       0.68      0.78      0.70       267\n",
      "\n"
     ]
    }
   ],
   "source": [
    "print(classification_report(Y_test,poly_pred))"
   ]
  },
  {
   "cell_type": "code",
   "execution_count": 21,
   "metadata": {},
   "outputs": [
    {
     "data": {
      "text/plain": [
       "['السلام سؤال فضلكم اشتريت نصف شقة ممكن اسجل النصف الخاص ان الشريك الاخر رافض التسجيل وشكرا']"
      ]
     },
     "execution_count": 21,
     "metadata": {},
     "output_type": "execute_result"
    }
   ],
   "source": [
    "remve_noise(['السلام عليكم . سؤال منهما فضلكم   اشتريت  نصف شقة هل ممكن اسجل النصف الخاص بي فقط  . حيث ان الشريك الاخر  رافض التسجيل . وشكرا'])"
   ]
  },
  {
   "cell_type": "code",
   "execution_count": 22,
   "metadata": {},
   "outputs": [
    {
     "data": {
      "text/plain": [
       "{'اسره', 'جنح', 'مدني'}"
      ]
     },
     "execution_count": 22,
     "metadata": {},
     "output_type": "execute_result"
    }
   ],
   "source": [
    "set(dataset.label.values)"
   ]
  },
  {
   "cell_type": "code",
   "execution_count": 23,
   "metadata": {},
   "outputs": [
    {
     "data": {
      "text/plain": [
       "1335"
      ]
     },
     "execution_count": 23,
     "metadata": {},
     "output_type": "execute_result"
    }
   ],
   "source": [
    "len(dataset)"
   ]
  },
  {
   "cell_type": "code",
   "execution_count": 41,
   "metadata": {},
   "outputs": [
    {
     "data": {
      "text/plain": [
       "['classfaction_model.joblip']"
      ]
     },
     "execution_count": 41,
     "metadata": {},
     "output_type": "execute_result"
    }
   ],
   "source": [
    "import joblib\n",
    "filename=\"classfaction_model.joblip\"\n",
    "joblib.dump(sig,filename)"
   ]
  },
  {
   "cell_type": "code",
   "execution_count": 51,
   "metadata": {
    "scrolled": true
   },
   "outputs": [],
   "source": [
    "lodded_model=joblib.load(filename)\n",
    "# prediction=lodded_model.predict(\"\")"
   ]
  }
 ],
 "metadata": {
  "kernelspec": {
   "display_name": "Python 3",
   "language": "python",
   "name": "python3"
  },
  "language_info": {
   "codemirror_mode": {
    "name": "ipython",
    "version": 3
   },
   "file_extension": ".py",
   "mimetype": "text/x-python",
   "name": "python",
   "nbconvert_exporter": "python",
   "pygments_lexer": "ipython3",
   "version": "3.8.3"
  }
 },
 "nbformat": 4,
 "nbformat_minor": 4
}
