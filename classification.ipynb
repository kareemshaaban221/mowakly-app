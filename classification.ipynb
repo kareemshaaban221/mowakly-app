{
 "cells": [
  {
   "cell_type": "code",
   "execution_count": 1,
   "metadata": {},
   "outputs": [],
   "source": [
    "import pandas as pd\n",
    "import random\n",
    "dataset=pd.read_excel('YEHIA4.xlsx')\n",
    "import arabicstopwords.arabicstopwords as asw\n",
    "from nltk import word_tokenize\n",
    "import string\n",
    "from sklearn.model_selection import train_test_split,KFold, StratifiedKFold, LeaveOneOut, cross_val_score\n",
    "from sklearn.feature_extraction.text import TfidfVectorizer,CountVectorizer"
   ]
  },
  {
   "cell_type": "code",
   "execution_count": 2,
   "metadata": {},
   "outputs": [],
   "source": [
    "def remve_noise(cases):\n",
    "    corpus=[]\n",
    "    for case in cases:\n",
    "        s=case.lower()\n",
    "        words=word_tokenize(s)\n",
    "        word=[w for w in words if w not in asw.stopwords_list() if w not in string.punctuation]\n",
    "        s=\" \".join(word)\n",
    "        corpus.append(s)\n",
    "    return corpus"
   ]
  },
  {
   "cell_type": "code",
   "execution_count": 25,
   "metadata": {},
   "outputs": [],
   "source": [
    "tfidf_vectorizer = TfidfVectorizer()\n",
    "# tfidf_vectorizer = CountVectorizer()\n",
    "tfidf_vectorizer.fit(remve_noise(dataset['text']))\n",
    "X = tfidf_vectorizer.transform(remve_noise(dataset['text']))\n",
    "Y=dataset['label']\n",
    "X_train, X_test, Y_train, Y_test = train_test_split(X, Y,test_size = 0.2)"
   ]
  },
  {
   "cell_type": "code",
   "execution_count": 26,
   "metadata": {},
   "outputs": [],
   "source": [
    "# kfold = None\n",
    "# score = 0\n",
    "# for i in range(5, 100):\n",
    "#     k_folds = KFold(n_splits = i)\n",
    "#     scores = cross_val_score(classfier, X, Y, cv = k_folds)\n",
    "#     scoreTemp = scores.mean()\n",
    "#     if scoreTemp > score:\n",
    "#         kfold = i\n",
    "#         score = scoreTemp"
   ]
  },
  {
   "cell_type": "code",
   "execution_count": 27,
   "metadata": {},
   "outputs": [],
   "source": [
    "# print('kfold: ', kfold)\n",
    "# print('score: ', score)"
   ]
  },
  {
   "cell_type": "code",
   "execution_count": 28,
   "metadata": {},
   "outputs": [
    {
     "data": {
      "text/plain": [
       "MultinomialNB()"
      ]
     },
     "execution_count": 28,
     "metadata": {},
     "output_type": "execute_result"
    }
   ],
   "source": [
    "from sklearn.naive_bayes import MultinomialNB\n",
    "from sklearn import svm\n",
    "from sklearn.ensemble import RandomForestClassifier\n",
    "RF= RandomForestClassifier(n_estimators=100)\n",
    "RF.fit(X_train, Y_train)\n",
    "rbf = svm.SVC(kernel='rbf').fit(X_train, Y_train)\n",
    "sig = svm.SVC(kernel='sigmoid').fit(X_train, Y_train)\n",
    "poly = svm.SVC(kernel='poly').fit(X_train, Y_train)\n",
    "classfier=MultinomialNB()\n",
    "classfier.fit(X_train,Y_train)"
   ]
  },
  {
   "cell_type": "code",
   "execution_count": 29,
   "metadata": {},
   "outputs": [],
   "source": [
    "Y_pred=classfier.predict(X_test)\n",
    "sig_pred = sig.predict(X_test)\n",
    "rbf_pred = rbf.predict(X_test)\n",
    "poly_pred=poly.predict(X_test)\n",
    "RF_pred=RF.predict(X_test)"
   ]
  },
  {
   "cell_type": "code",
   "execution_count": 30,
   "metadata": {},
   "outputs": [],
   "source": [
    "from sklearn.metrics import confusion_matrix,accuracy_score,classification_report"
   ]
  },
  {
   "cell_type": "code",
   "execution_count": 31,
   "metadata": {},
   "outputs": [
    {
     "name": "stdout",
     "output_type": "stream",
     "text": [
      "[[194   0   0]\n",
      " [ 42   0   0]\n",
      " [ 31   0   0]]\n"
     ]
    }
   ],
   "source": [
    "print(confusion_matrix(Y_test,Y_pred))"
   ]
  },
  {
   "cell_type": "code",
   "execution_count": 32,
   "metadata": {},
   "outputs": [
    {
     "name": "stdout",
     "output_type": "stream",
     "text": [
      "[[190   0   4]\n",
      " [ 38   3   1]\n",
      " [ 22   0   9]]\n"
     ]
    }
   ],
   "source": [
    "print(confusion_matrix(Y_test,sig_pred))"
   ]
  },
  {
   "cell_type": "code",
   "execution_count": 33,
   "metadata": {},
   "outputs": [
    {
     "name": "stdout",
     "output_type": "stream",
     "text": [
      "[[194   0   0]\n",
      " [ 35   7   0]\n",
      " [ 31   0   0]]\n"
     ]
    }
   ],
   "source": [
    "print(confusion_matrix(Y_test,rbf_pred))"
   ]
  },
  {
   "cell_type": "code",
   "execution_count": 34,
   "metadata": {},
   "outputs": [
    {
     "name": "stdout",
     "output_type": "stream",
     "text": [
      "[[194   0   0]\n",
      " [ 35   7   0]\n",
      " [ 31   0   0]]\n"
     ]
    }
   ],
   "source": [
    "print(confusion_matrix(Y_test,poly_pred))"
   ]
  },
  {
   "cell_type": "code",
   "execution_count": 35,
   "metadata": {},
   "outputs": [
    {
     "name": "stdout",
     "output_type": "stream",
     "text": [
      "[[193   0   1]\n",
      " [ 32   9   1]\n",
      " [ 27   0   4]]\n"
     ]
    }
   ],
   "source": [
    "print(confusion_matrix(Y_test,RF_pred))"
   ]
  },
  {
   "cell_type": "code",
   "execution_count": 36,
   "metadata": {},
   "outputs": [
    {
     "name": "stdout",
     "output_type": "stream",
     "text": [
      "accuracy is as naive bayes  0.7265917602996255\n",
      "accuracy is as sig  0.7565543071161048\n",
      "accuracy is as rbf  0.7528089887640449\n",
      "accuracy is as poly  0.7528089887640449\n",
      "accuracy is as RF  0.7715355805243446\n"
     ]
    }
   ],
   "source": [
    "print(\"accuracy is as naive bayes \",accuracy_score(Y_test,Y_pred))\n",
    "print(\"accuracy is as sig \",accuracy_score(Y_test, sig_pred))\n",
    "print(\"accuracy is as rbf \",accuracy_score(Y_test, rbf_pred))\n",
    "print(\"accuracy is as poly \",accuracy_score(Y_test, poly_pred))\n",
    "print(\"accuracy is as RF \",accuracy_score(Y_test, RF_pred))"
   ]
  },
  {
   "cell_type": "code",
   "execution_count": 37,
   "metadata": {},
   "outputs": [
    {
     "name": "stdout",
     "output_type": "stream",
     "text": [
      "              precision    recall  f1-score   support\n",
      "\n",
      "        اسره       0.73      1.00      0.84       194\n",
      "         جنح       0.00      0.00      0.00        42\n",
      "        مدني       0.00      0.00      0.00        31\n",
      "\n",
      "    accuracy                           0.73       267\n",
      "   macro avg       0.24      0.33      0.28       267\n",
      "weighted avg       0.53      0.73      0.61       267\n",
      "\n"
     ]
    },
    {
     "name": "stderr",
     "output_type": "stream",
     "text": [
      "C:\\ProgramData\\Anaconda3\\lib\\site-packages\\sklearn\\metrics\\_classification.py:1221: UndefinedMetricWarning: Precision and F-score are ill-defined and being set to 0.0 in labels with no predicted samples. Use `zero_division` parameter to control this behavior.\n",
      "  _warn_prf(average, modifier, msg_start, len(result))\n"
     ]
    }
   ],
   "source": [
    "print(classification_report(Y_test,Y_pred))"
   ]
  },
  {
   "cell_type": "code",
   "execution_count": 38,
   "metadata": {},
   "outputs": [
    {
     "name": "stdout",
     "output_type": "stream",
     "text": [
      "              precision    recall  f1-score   support\n",
      "\n",
      "        اسره       0.76      0.98      0.86       194\n",
      "         جنح       1.00      0.07      0.13        42\n",
      "        مدني       0.64      0.29      0.40        31\n",
      "\n",
      "    accuracy                           0.76       267\n",
      "   macro avg       0.80      0.45      0.46       267\n",
      "weighted avg       0.78      0.76      0.69       267\n",
      "\n"
     ]
    }
   ],
   "source": [
    "print(classification_report(Y_test,sig_pred))"
   ]
  },
  {
   "cell_type": "code",
   "execution_count": 39,
   "metadata": {},
   "outputs": [
    {
     "name": "stdout",
     "output_type": "stream",
     "text": [
      "              precision    recall  f1-score   support\n",
      "\n",
      "        اسره       0.75      1.00      0.85       194\n",
      "         جنح       1.00      0.17      0.29        42\n",
      "        مدني       0.00      0.00      0.00        31\n",
      "\n",
      "    accuracy                           0.75       267\n",
      "   macro avg       0.58      0.39      0.38       267\n",
      "weighted avg       0.70      0.75      0.67       267\n",
      "\n"
     ]
    }
   ],
   "source": [
    "print(classification_report(Y_test,rbf_pred))"
   ]
  },
  {
   "cell_type": "code",
   "execution_count": 40,
   "metadata": {},
   "outputs": [
    {
     "name": "stdout",
     "output_type": "stream",
     "text": [
      "              precision    recall  f1-score   support\n",
      "\n",
      "        اسره       0.75      1.00      0.85       194\n",
      "         جنح       1.00      0.17      0.29        42\n",
      "        مدني       0.00      0.00      0.00        31\n",
      "\n",
      "    accuracy                           0.75       267\n",
      "   macro avg       0.58      0.39      0.38       267\n",
      "weighted avg       0.70      0.75      0.67       267\n",
      "\n"
     ]
    }
   ],
   "source": [
    "print(classification_report(Y_test,poly_pred))"
   ]
  },
  {
   "cell_type": "code",
   "execution_count": 41,
   "metadata": {},
   "outputs": [
    {
     "data": {
      "text/plain": [
       "['السلام سؤال فضلكم اشتريت نصف شقة ممكن اسجل النصف الخاص ان الشريك الاخر رافض التسجيل وشكرا']"
      ]
     },
     "execution_count": 41,
     "metadata": {},
     "output_type": "execute_result"
    }
   ],
   "source": [
    "remve_noise(['السلام عليكم . سؤال منهما فضلكم   اشتريت  نصف شقة هل ممكن اسجل النصف الخاص بي فقط  . حيث ان الشريك الاخر  رافض التسجيل . وشكرا'])"
   ]
  },
  {
   "cell_type": "code",
   "execution_count": 42,
   "metadata": {},
   "outputs": [
    {
     "data": {
      "text/plain": [
       "{'اسره', 'جنح', 'مدني'}"
      ]
     },
     "execution_count": 42,
     "metadata": {},
     "output_type": "execute_result"
    }
   ],
   "source": [
    "set(dataset.label.values)"
   ]
  },
  {
   "cell_type": "code",
   "execution_count": 43,
   "metadata": {},
   "outputs": [
    {
     "data": {
      "text/plain": [
       "1335"
      ]
     },
     "execution_count": 43,
     "metadata": {},
     "output_type": "execute_result"
    }
   ],
   "source": [
    "len(dataset)"
   ]
  },
  {
   "cell_type": "code",
   "execution_count": 44,
   "metadata": {},
   "outputs": [
    {
     "data": {
      "text/plain": [
       "['classfaction_model.joblip']"
      ]
     },
     "execution_count": 44,
     "metadata": {},
     "output_type": "execute_result"
    }
   ],
   "source": [
    "import joblib\n",
    "filename=\"classfaction_model.joblip\"\n",
    "joblib.dump(RF,filename)"
   ]
  },
  {
   "cell_type": "code",
   "execution_count": 45,
   "metadata": {
    "scrolled": true
   },
   "outputs": [],
   "source": [
    "lodded_model=joblib.load(filename)\n",
    "prediction=lodded_model.predict(tfidf_vectorizer.transform(remve_noise(\"يريت حد يجوبني انا واخد على واحد وصل امانه وتحكم عليه ٦ شهور سجن وحليا عمل استناف والجلسة بعد يومين طيب الموضوع هياخد حكم نهائي بعد قد ايه\"))[0])"
   ]
  },
  {
   "cell_type": "code",
   "execution_count": 46,
   "metadata": {},
   "outputs": [
    {
     "data": {
      "text/plain": [
       "array(['اسره'], dtype=object)"
      ]
     },
     "execution_count": 46,
     "metadata": {},
     "output_type": "execute_result"
    }
   ],
   "source": [
    "prediction"
   ]
  },
  {
   "cell_type": "code",
   "execution_count": null,
   "metadata": {},
   "outputs": [],
   "source": []
  }
 ],
 "metadata": {
  "kernelspec": {
   "display_name": "Python 3",
   "language": "python",
   "name": "python3"
  },
  "language_info": {
   "codemirror_mode": {
    "name": "ipython",
    "version": 3
   },
   "file_extension": ".py",
   "mimetype": "text/x-python",
   "name": "python",
   "nbconvert_exporter": "python",
   "pygments_lexer": "ipython3",
   "version": "3.8.3"
  }
 },
 "nbformat": 4,
 "nbformat_minor": 4
}
