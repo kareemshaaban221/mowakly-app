{
 "cells": [
  {
   "cell_type": "code",
   "execution_count": 1,
   "id": "cd2fcbff",
   "metadata": {},
   "outputs": [],
   "source": [
    "import pandas as pd\n",
    "dataset=pd.read_excel('YEHIA3.xlsx')\n",
    "import arabicstopwords.arabicstopwords as asw\n",
    "from nltk import word_tokenize\n",
    "import string\n",
    "from sklearn.model_selection import train_test_split,KFold, StratifiedKFold, LeaveOneOut, cross_val_score\n",
    "from sklearn.feature_extraction.text import TfidfVectorizer,CountVectorizer\n"
   ]
  },
  {
   "cell_type": "code",
   "execution_count": 2,
   "id": "816002ff",
   "metadata": {},
   "outputs": [],
   "source": [
    "def remve_noise(cases):\n",
    "    corpus=[]\n",
    "    for case in cases:\n",
    "        s=case.lower()\n",
    "        words=word_tokenize(s)\n",
    "        word=[w for w in words if w not in asw.stopwords_list() if w not in string.punctuation]\n",
    "        s=\" \".join(word)\n",
    "        corpus.append(s)\n",
    "    return corpus"
   ]
  },
  {
   "cell_type": "code",
   "execution_count": 3,
   "id": "5b856cf7",
   "metadata": {},
   "outputs": [],
   "source": [
    "tfidf_vectorizer = TfidfVectorizer()\n",
    "# tfidf_vectorizer = CountVectorizer()\n",
    "tfidf_vectorizer.fit(remve_noise(dataset['text']))\n",
    "X = tfidf_vectorizer.transform(remve_noise(dataset['text']))\n",
    "Y=dataset['label']"
   ]
  },
  {
   "cell_type": "code",
   "execution_count": 4,
   "id": "63519b10",
   "metadata": {},
   "outputs": [
    {
     "name": "stdout",
     "output_type": "stream",
     "text": [
      "Training Data Shape: (894, 13044)\n",
      "Testing Data Shape:  (441, 13044)\n"
     ]
    }
   ],
   "source": [
    "from sklearn.model_selection import train_test_split\n",
    "\n",
    "X_train, X_test, y_train, y_test = train_test_split(X,Y, test_size=0.33, random_state=42)\n",
    "\n",
    "print('Training Data Shape:', X_train.shape)\n",
    "print('Testing Data Shape: ', X_test.shape)"
   ]
  },
  {
   "cell_type": "code",
   "execution_count": 5,
   "id": "b7bce8c3",
   "metadata": {},
   "outputs": [
    {
     "data": {
      "text/plain": [
       "اسره    614\n",
       "مدني    152\n",
       "جنح     128\n",
       "Name: label, dtype: int64"
      ]
     },
     "execution_count": 5,
     "metadata": {},
     "output_type": "execute_result"
    }
   ],
   "source": [
    "y_train.value_counts()"
   ]
  },
  {
   "cell_type": "code",
   "execution_count": 6,
   "id": "80a69091",
   "metadata": {},
   "outputs": [
    {
     "data": {
      "text/plain": [
       "اسره    309\n",
       "مدني     70\n",
       "جنح      62\n",
       "Name: label, dtype: int64"
      ]
     },
     "execution_count": 6,
     "metadata": {},
     "output_type": "execute_result"
    }
   ],
   "source": [
    "y_test.value_counts()"
   ]
  },
  {
   "cell_type": "code",
   "execution_count": 7,
   "id": "aacb8d3b",
   "metadata": {},
   "outputs": [
    {
     "data": {
      "text/html": [
       "<style>#sk-container-id-1 {color: black;background-color: white;}#sk-container-id-1 pre{padding: 0;}#sk-container-id-1 div.sk-toggleable {background-color: white;}#sk-container-id-1 label.sk-toggleable__label {cursor: pointer;display: block;width: 100%;margin-bottom: 0;padding: 0.3em;box-sizing: border-box;text-align: center;}#sk-container-id-1 label.sk-toggleable__label-arrow:before {content: \"▸\";float: left;margin-right: 0.25em;color: #696969;}#sk-container-id-1 label.sk-toggleable__label-arrow:hover:before {color: black;}#sk-container-id-1 div.sk-estimator:hover label.sk-toggleable__label-arrow:before {color: black;}#sk-container-id-1 div.sk-toggleable__content {max-height: 0;max-width: 0;overflow: hidden;text-align: left;background-color: #f0f8ff;}#sk-container-id-1 div.sk-toggleable__content pre {margin: 0.2em;color: black;border-radius: 0.25em;background-color: #f0f8ff;}#sk-container-id-1 input.sk-toggleable__control:checked~div.sk-toggleable__content {max-height: 200px;max-width: 100%;overflow: auto;}#sk-container-id-1 input.sk-toggleable__control:checked~label.sk-toggleable__label-arrow:before {content: \"▾\";}#sk-container-id-1 div.sk-estimator input.sk-toggleable__control:checked~label.sk-toggleable__label {background-color: #d4ebff;}#sk-container-id-1 div.sk-label input.sk-toggleable__control:checked~label.sk-toggleable__label {background-color: #d4ebff;}#sk-container-id-1 input.sk-hidden--visually {border: 0;clip: rect(1px 1px 1px 1px);clip: rect(1px, 1px, 1px, 1px);height: 1px;margin: -1px;overflow: hidden;padding: 0;position: absolute;width: 1px;}#sk-container-id-1 div.sk-estimator {font-family: monospace;background-color: #f0f8ff;border: 1px dotted black;border-radius: 0.25em;box-sizing: border-box;margin-bottom: 0.5em;}#sk-container-id-1 div.sk-estimator:hover {background-color: #d4ebff;}#sk-container-id-1 div.sk-parallel-item::after {content: \"\";width: 100%;border-bottom: 1px solid gray;flex-grow: 1;}#sk-container-id-1 div.sk-label:hover label.sk-toggleable__label {background-color: #d4ebff;}#sk-container-id-1 div.sk-serial::before {content: \"\";position: absolute;border-left: 1px solid gray;box-sizing: border-box;top: 0;bottom: 0;left: 50%;z-index: 0;}#sk-container-id-1 div.sk-serial {display: flex;flex-direction: column;align-items: center;background-color: white;padding-right: 0.2em;padding-left: 0.2em;position: relative;}#sk-container-id-1 div.sk-item {position: relative;z-index: 1;}#sk-container-id-1 div.sk-parallel {display: flex;align-items: stretch;justify-content: center;background-color: white;position: relative;}#sk-container-id-1 div.sk-item::before, #sk-container-id-1 div.sk-parallel-item::before {content: \"\";position: absolute;border-left: 1px solid gray;box-sizing: border-box;top: 0;bottom: 0;left: 50%;z-index: -1;}#sk-container-id-1 div.sk-parallel-item {display: flex;flex-direction: column;z-index: 1;position: relative;background-color: white;}#sk-container-id-1 div.sk-parallel-item:first-child::after {align-self: flex-end;width: 50%;}#sk-container-id-1 div.sk-parallel-item:last-child::after {align-self: flex-start;width: 50%;}#sk-container-id-1 div.sk-parallel-item:only-child::after {width: 0;}#sk-container-id-1 div.sk-dashed-wrapped {border: 1px dashed gray;margin: 0 0.4em 0.5em 0.4em;box-sizing: border-box;padding-bottom: 0.4em;background-color: white;}#sk-container-id-1 div.sk-label label {font-family: monospace;font-weight: bold;display: inline-block;line-height: 1.2em;}#sk-container-id-1 div.sk-label-container {text-align: center;}#sk-container-id-1 div.sk-container {/* jupyter's `normalize.less` sets `[hidden] { display: none; }` but bootstrap.min.css set `[hidden] { display: none !important; }` so we also need the `!important` here to be able to override the default hidden behavior on the sphinx rendered scikit-learn.org. See: https://github.com/scikit-learn/scikit-learn/issues/21755 */display: inline-block !important;position: relative;}#sk-container-id-1 div.sk-text-repr-fallback {display: none;}</style><div id=\"sk-container-id-1\" class=\"sk-top-container\"><div class=\"sk-text-repr-fallback\"><pre>LogisticRegression()</pre><b>In a Jupyter environment, please rerun this cell to show the HTML representation or trust the notebook. <br />On GitHub, the HTML representation is unable to render, please try loading this page with nbviewer.org.</b></div><div class=\"sk-container\" hidden><div class=\"sk-item\"><div class=\"sk-estimator sk-toggleable\"><input class=\"sk-toggleable__control sk-hidden--visually\" id=\"sk-estimator-id-1\" type=\"checkbox\" checked><label for=\"sk-estimator-id-1\" class=\"sk-toggleable__label sk-toggleable__label-arrow\">LogisticRegression</label><div class=\"sk-toggleable__content\"><pre>LogisticRegression()</pre></div></div></div></div></div>"
      ],
      "text/plain": [
       "LogisticRegression()"
      ]
     },
     "execution_count": 7,
     "metadata": {},
     "output_type": "execute_result"
    }
   ],
   "source": [
    "from sklearn.linear_model import LogisticRegression\n",
    "\n",
    "lr_model = LogisticRegression(solver='lbfgs')\n",
    "\n",
    "lr_model.fit(X_train, y_train)"
   ]
  },
  {
   "cell_type": "code",
   "execution_count": 8,
   "id": "c7b3d6e0",
   "metadata": {},
   "outputs": [
    {
     "name": "stdout",
     "output_type": "stream",
     "text": [
      "[[309   0   0]\n",
      " [ 62   0   0]\n",
      " [ 67   0   3]]\n",
      "              precision    recall  f1-score   support\n",
      "\n",
      "        اسره       0.71      1.00      0.83       309\n",
      "         جنح       0.00      0.00      0.00        62\n",
      "        مدني       1.00      0.04      0.08        70\n",
      "\n",
      "    accuracy                           0.71       441\n",
      "   macro avg       0.57      0.35      0.30       441\n",
      "weighted avg       0.65      0.71      0.59       441\n",
      "\n",
      "0.7074829931972789\n"
     ]
    },
    {
     "name": "stderr",
     "output_type": "stream",
     "text": [
      "C:\\Users\\LENOVO\\anaconda3\\lib\\site-packages\\sklearn\\metrics\\_classification.py:1334: UndefinedMetricWarning: Precision and F-score are ill-defined and being set to 0.0 in labels with no predicted samples. Use `zero_division` parameter to control this behavior.\n",
      "  _warn_prf(average, modifier, msg_start, len(result))\n",
      "C:\\Users\\LENOVO\\anaconda3\\lib\\site-packages\\sklearn\\metrics\\_classification.py:1334: UndefinedMetricWarning: Precision and F-score are ill-defined and being set to 0.0 in labels with no predicted samples. Use `zero_division` parameter to control this behavior.\n",
      "  _warn_prf(average, modifier, msg_start, len(result))\n",
      "C:\\Users\\LENOVO\\anaconda3\\lib\\site-packages\\sklearn\\metrics\\_classification.py:1334: UndefinedMetricWarning: Precision and F-score are ill-defined and being set to 0.0 in labels with no predicted samples. Use `zero_division` parameter to control this behavior.\n",
      "  _warn_prf(average, modifier, msg_start, len(result))\n"
     ]
    }
   ],
   "source": [
    "from sklearn import metrics\n",
    "\n",
    "predictions = lr_model.predict(X_test)\n",
    "\n",
    "print(metrics.confusion_matrix(y_test,predictions))\n",
    "\n",
    "print(metrics.classification_report(y_test,predictions))\n",
    "\n",
    "print(metrics.accuracy_score(y_test,predictions))"
   ]
  },
  {
   "cell_type": "code",
   "execution_count": 9,
   "id": "cfaa9281",
   "metadata": {},
   "outputs": [
    {
     "name": "stdout",
     "output_type": "stream",
     "text": [
      "[[309   0   0]\n",
      " [ 62   0   0]\n",
      " [ 70   0   0]]\n",
      "              precision    recall  f1-score   support\n",
      "\n",
      "        اسره       0.70      1.00      0.82       309\n",
      "         جنح       0.00      0.00      0.00        62\n",
      "        مدني       0.00      0.00      0.00        70\n",
      "\n",
      "    accuracy                           0.70       441\n",
      "   macro avg       0.23      0.33      0.27       441\n",
      "weighted avg       0.49      0.70      0.58       441\n",
      "\n",
      "0.7006802721088435\n"
     ]
    },
    {
     "name": "stderr",
     "output_type": "stream",
     "text": [
      "C:\\Users\\LENOVO\\anaconda3\\lib\\site-packages\\sklearn\\metrics\\_classification.py:1334: UndefinedMetricWarning: Precision and F-score are ill-defined and being set to 0.0 in labels with no predicted samples. Use `zero_division` parameter to control this behavior.\n",
      "  _warn_prf(average, modifier, msg_start, len(result))\n",
      "C:\\Users\\LENOVO\\anaconda3\\lib\\site-packages\\sklearn\\metrics\\_classification.py:1334: UndefinedMetricWarning: Precision and F-score are ill-defined and being set to 0.0 in labels with no predicted samples. Use `zero_division` parameter to control this behavior.\n",
      "  _warn_prf(average, modifier, msg_start, len(result))\n",
      "C:\\Users\\LENOVO\\anaconda3\\lib\\site-packages\\sklearn\\metrics\\_classification.py:1334: UndefinedMetricWarning: Precision and F-score are ill-defined and being set to 0.0 in labels with no predicted samples. Use `zero_division` parameter to control this behavior.\n",
      "  _warn_prf(average, modifier, msg_start, len(result))\n"
     ]
    }
   ],
   "source": [
    "from sklearn.naive_bayes import MultinomialNB\n",
    "nb_model = MultinomialNB()\n",
    "nb_model.fit(X_train, y_train)\n",
    "predictions = nb_model.predict(X_test)\n",
    "print(metrics.confusion_matrix(y_test,predictions))\n",
    "print(metrics.classification_report(y_test,predictions))\n",
    "print(metrics.accuracy_score(y_test,predictions))"
   ]
  },
  {
   "cell_type": "code",
   "execution_count": 10,
   "id": "469d15ab",
   "metadata": {},
   "outputs": [
    {
     "name": "stdout",
     "output_type": "stream",
     "text": [
      "[[309   0   0]\n",
      " [ 62   0   0]\n",
      " [ 70   0   0]]\n",
      "              precision    recall  f1-score   support\n",
      "\n",
      "        اسره       0.70      1.00      0.82       309\n",
      "         جنح       0.00      0.00      0.00        62\n",
      "        مدني       0.00      0.00      0.00        70\n",
      "\n",
      "    accuracy                           0.70       441\n",
      "   macro avg       0.23      0.33      0.27       441\n",
      "weighted avg       0.49      0.70      0.58       441\n",
      "\n",
      "0.7006802721088435\n"
     ]
    },
    {
     "name": "stderr",
     "output_type": "stream",
     "text": [
      "C:\\Users\\LENOVO\\anaconda3\\lib\\site-packages\\sklearn\\metrics\\_classification.py:1334: UndefinedMetricWarning: Precision and F-score are ill-defined and being set to 0.0 in labels with no predicted samples. Use `zero_division` parameter to control this behavior.\n",
      "  _warn_prf(average, modifier, msg_start, len(result))\n",
      "C:\\Users\\LENOVO\\anaconda3\\lib\\site-packages\\sklearn\\metrics\\_classification.py:1334: UndefinedMetricWarning: Precision and F-score are ill-defined and being set to 0.0 in labels with no predicted samples. Use `zero_division` parameter to control this behavior.\n",
      "  _warn_prf(average, modifier, msg_start, len(result))\n",
      "C:\\Users\\LENOVO\\anaconda3\\lib\\site-packages\\sklearn\\metrics\\_classification.py:1334: UndefinedMetricWarning: Precision and F-score are ill-defined and being set to 0.0 in labels with no predicted samples. Use `zero_division` parameter to control this behavior.\n",
      "  _warn_prf(average, modifier, msg_start, len(result))\n"
     ]
    }
   ],
   "source": [
    "from sklearn.svm import SVC\n",
    "svc_model = SVC(gamma='auto')\n",
    "svc_model.fit(X_train,y_train)\n",
    "\n",
    "predictions = svc_model.predict(X_test)\n",
    "print(metrics.confusion_matrix(y_test,predictions))\n",
    "print(metrics.classification_report(y_test,predictions))\n",
    "print(metrics.accuracy_score(y_test,predictions))"
   ]
  },
  {
   "cell_type": "code",
   "execution_count": 11,
   "id": "93333fa8",
   "metadata": {},
   "outputs": [],
   "source": [
    "from sklearn.model_selection import train_test_split\n",
    "\n",
    "X = remve_noise(dataset['text']) \n",
    "y = dataset['label']\n",
    "\n",
    "X_train, X_test, y_train, y_test = train_test_split(X, y, test_size=0.2, shuffle=True)"
   ]
  },
  {
   "cell_type": "code",
   "execution_count": 12,
   "id": "312c92e6",
   "metadata": {},
   "outputs": [
    {
     "data": {
      "text/plain": [
       "اسره    741\n",
       "مدني    175\n",
       "جنح     152\n",
       "Name: label, dtype: int64"
      ]
     },
     "execution_count": 12,
     "metadata": {},
     "output_type": "execute_result"
    }
   ],
   "source": [
    "y_train.value_counts()"
   ]
  },
  {
   "cell_type": "code",
   "execution_count": 13,
   "id": "ddb0d10a",
   "metadata": {},
   "outputs": [
    {
     "data": {
      "text/plain": [
       "اسره    182\n",
       "مدني     47\n",
       "جنح      38\n",
       "Name: label, dtype: int64"
      ]
     },
     "execution_count": 13,
     "metadata": {},
     "output_type": "execute_result"
    }
   ],
   "source": [
    "y_test.value_counts()"
   ]
  },
  {
   "cell_type": "code",
   "execution_count": 14,
   "id": "dc80a3bf",
   "metadata": {},
   "outputs": [
    {
     "data": {
      "text/plain": [
       "(1068, 11518)"
      ]
     },
     "execution_count": 14,
     "metadata": {},
     "output_type": "execute_result"
    }
   ],
   "source": [
    "from sklearn.feature_extraction.text import CountVectorizer\n",
    "count_vect = CountVectorizer()\n",
    "\n",
    "X_train_counts = count_vect.fit_transform(X_train)\n",
    "X_train_counts.shape"
   ]
  },
  {
   "cell_type": "code",
   "execution_count": 15,
   "id": "718827c8",
   "metadata": {},
   "outputs": [
    {
     "data": {
      "text/plain": [
       "(1068, 11518)"
      ]
     },
     "execution_count": 15,
     "metadata": {},
     "output_type": "execute_result"
    }
   ],
   "source": [
    "from sklearn.feature_extraction.text import TfidfTransformer\n",
    "tfidf_transformer = TfidfTransformer()\n",
    "\n",
    "X_train_tfidf = tfidf_transformer.fit_transform(X_train_counts)\n",
    "X_train_tfidf.shape"
   ]
  },
  {
   "cell_type": "code",
   "execution_count": 16,
   "id": "91cdbe65",
   "metadata": {},
   "outputs": [
    {
     "data": {
      "text/plain": [
       "0         (0, 11406)\\t0.07385352551287802\\n  (0, 11222...\n",
       "1         (0, 10880)\\t0.2547011343381791\\n  (0, 7760)\\...\n",
       "2         (0, 11231)\\t0.3886108524099919\\n  (0, 10857)...\n",
       "3         (0, 10223)\\t0.28184789034423163\\n  (0, 9979)...\n",
       "4         (0, 11453)\\t0.1776249163016392\\n  (0, 10985)...\n",
       "                              ...                        \n",
       "1063      (0, 11341)\\t0.2044338101361591\\n  (0, 10257)...\n",
       "1064      (0, 10691)\\t0.3098131778032314\\n  (0, 8061)\\...\n",
       "1065      (0, 8707)\\t0.19431701188116635\\n  (0, 8665)\\...\n",
       "1066      (0, 11045)\\t0.18263466345209367\\n  (0, 10589...\n",
       "1067      (0, 11270)\\t0.1918448386690003\\n  (0, 10170)...\n",
       "Name: 0, Length: 1068, dtype: object"
      ]
     },
     "execution_count": 16,
     "metadata": {},
     "output_type": "execute_result"
    }
   ],
   "source": [
    "pd.DataFrame(X_train_tfidf)[0]"
   ]
  },
  {
   "cell_type": "code",
   "execution_count": 17,
   "id": "8b305a05",
   "metadata": {},
   "outputs": [
    {
     "data": {
      "text/plain": [
       "(1068, 11518)"
      ]
     },
     "execution_count": 17,
     "metadata": {},
     "output_type": "execute_result"
    }
   ],
   "source": [
    "from sklearn.feature_extraction.text import TfidfVectorizer\n",
    "vectorizer = TfidfVectorizer()\n",
    "\n",
    "X_train_tfidf = vectorizer.fit_transform(X_train) # remember to use the original X_train set\n",
    "X_train_tfidf.shape"
   ]
  },
  {
   "cell_type": "code",
   "execution_count": 18,
   "id": "9b165d73",
   "metadata": {},
   "outputs": [
    {
     "data": {
      "text/html": [
       "<style>#sk-container-id-2 {color: black;background-color: white;}#sk-container-id-2 pre{padding: 0;}#sk-container-id-2 div.sk-toggleable {background-color: white;}#sk-container-id-2 label.sk-toggleable__label {cursor: pointer;display: block;width: 100%;margin-bottom: 0;padding: 0.3em;box-sizing: border-box;text-align: center;}#sk-container-id-2 label.sk-toggleable__label-arrow:before {content: \"▸\";float: left;margin-right: 0.25em;color: #696969;}#sk-container-id-2 label.sk-toggleable__label-arrow:hover:before {color: black;}#sk-container-id-2 div.sk-estimator:hover label.sk-toggleable__label-arrow:before {color: black;}#sk-container-id-2 div.sk-toggleable__content {max-height: 0;max-width: 0;overflow: hidden;text-align: left;background-color: #f0f8ff;}#sk-container-id-2 div.sk-toggleable__content pre {margin: 0.2em;color: black;border-radius: 0.25em;background-color: #f0f8ff;}#sk-container-id-2 input.sk-toggleable__control:checked~div.sk-toggleable__content {max-height: 200px;max-width: 100%;overflow: auto;}#sk-container-id-2 input.sk-toggleable__control:checked~label.sk-toggleable__label-arrow:before {content: \"▾\";}#sk-container-id-2 div.sk-estimator input.sk-toggleable__control:checked~label.sk-toggleable__label {background-color: #d4ebff;}#sk-container-id-2 div.sk-label input.sk-toggleable__control:checked~label.sk-toggleable__label {background-color: #d4ebff;}#sk-container-id-2 input.sk-hidden--visually {border: 0;clip: rect(1px 1px 1px 1px);clip: rect(1px, 1px, 1px, 1px);height: 1px;margin: -1px;overflow: hidden;padding: 0;position: absolute;width: 1px;}#sk-container-id-2 div.sk-estimator {font-family: monospace;background-color: #f0f8ff;border: 1px dotted black;border-radius: 0.25em;box-sizing: border-box;margin-bottom: 0.5em;}#sk-container-id-2 div.sk-estimator:hover {background-color: #d4ebff;}#sk-container-id-2 div.sk-parallel-item::after {content: \"\";width: 100%;border-bottom: 1px solid gray;flex-grow: 1;}#sk-container-id-2 div.sk-label:hover label.sk-toggleable__label {background-color: #d4ebff;}#sk-container-id-2 div.sk-serial::before {content: \"\";position: absolute;border-left: 1px solid gray;box-sizing: border-box;top: 0;bottom: 0;left: 50%;z-index: 0;}#sk-container-id-2 div.sk-serial {display: flex;flex-direction: column;align-items: center;background-color: white;padding-right: 0.2em;padding-left: 0.2em;position: relative;}#sk-container-id-2 div.sk-item {position: relative;z-index: 1;}#sk-container-id-2 div.sk-parallel {display: flex;align-items: stretch;justify-content: center;background-color: white;position: relative;}#sk-container-id-2 div.sk-item::before, #sk-container-id-2 div.sk-parallel-item::before {content: \"\";position: absolute;border-left: 1px solid gray;box-sizing: border-box;top: 0;bottom: 0;left: 50%;z-index: -1;}#sk-container-id-2 div.sk-parallel-item {display: flex;flex-direction: column;z-index: 1;position: relative;background-color: white;}#sk-container-id-2 div.sk-parallel-item:first-child::after {align-self: flex-end;width: 50%;}#sk-container-id-2 div.sk-parallel-item:last-child::after {align-self: flex-start;width: 50%;}#sk-container-id-2 div.sk-parallel-item:only-child::after {width: 0;}#sk-container-id-2 div.sk-dashed-wrapped {border: 1px dashed gray;margin: 0 0.4em 0.5em 0.4em;box-sizing: border-box;padding-bottom: 0.4em;background-color: white;}#sk-container-id-2 div.sk-label label {font-family: monospace;font-weight: bold;display: inline-block;line-height: 1.2em;}#sk-container-id-2 div.sk-label-container {text-align: center;}#sk-container-id-2 div.sk-container {/* jupyter's `normalize.less` sets `[hidden] { display: none; }` but bootstrap.min.css set `[hidden] { display: none !important; }` so we also need the `!important` here to be able to override the default hidden behavior on the sphinx rendered scikit-learn.org. See: https://github.com/scikit-learn/scikit-learn/issues/21755 */display: inline-block !important;position: relative;}#sk-container-id-2 div.sk-text-repr-fallback {display: none;}</style><div id=\"sk-container-id-2\" class=\"sk-top-container\"><div class=\"sk-text-repr-fallback\"><pre>LinearSVC()</pre><b>In a Jupyter environment, please rerun this cell to show the HTML representation or trust the notebook. <br />On GitHub, the HTML representation is unable to render, please try loading this page with nbviewer.org.</b></div><div class=\"sk-container\" hidden><div class=\"sk-item\"><div class=\"sk-estimator sk-toggleable\"><input class=\"sk-toggleable__control sk-hidden--visually\" id=\"sk-estimator-id-2\" type=\"checkbox\" checked><label for=\"sk-estimator-id-2\" class=\"sk-toggleable__label sk-toggleable__label-arrow\">LinearSVC</label><div class=\"sk-toggleable__content\"><pre>LinearSVC()</pre></div></div></div></div></div>"
      ],
      "text/plain": [
       "LinearSVC()"
      ]
     },
     "execution_count": 18,
     "metadata": {},
     "output_type": "execute_result"
    }
   ],
   "source": [
    "from sklearn.svm import LinearSVC\n",
    "clf = LinearSVC()\n",
    "clf.fit(X_train_tfidf,y_train)"
   ]
  },
  {
   "cell_type": "code",
   "execution_count": 19,
   "id": "b53eb651",
   "metadata": {},
   "outputs": [],
   "source": [
    "from sklearn.pipeline import Pipeline\n",
    "text_clf = Pipeline([('tfidf', TfidfVectorizer()),\n",
    "                     ('clf', LinearSVC()),])\n",
    "\n",
    "\n",
    "text_clf.fit(X_train, y_train)  \n",
    "\n",
    "\n",
    "predictions = text_clf.predict(X_test)"
   ]
  },
  {
   "cell_type": "code",
   "execution_count": 20,
   "id": "3527953e",
   "metadata": {},
   "outputs": [
    {
     "name": "stdout",
     "output_type": "stream",
     "text": [
      "[[174   2   6]\n",
      " [ 25  11   2]\n",
      " [ 30   0  17]]\n"
     ]
    }
   ],
   "source": [
    "from sklearn import metrics\n",
    "print(metrics.confusion_matrix(y_test,predictions))"
   ]
  },
  {
   "cell_type": "code",
   "execution_count": 21,
   "id": "571b8fac",
   "metadata": {},
   "outputs": [
    {
     "name": "stdout",
     "output_type": "stream",
     "text": [
      "              precision    recall  f1-score   support\n",
      "\n",
      "        اسره       0.76      0.96      0.85       182\n",
      "         جنح       0.85      0.29      0.43        38\n",
      "        مدني       0.68      0.36      0.47        47\n",
      "\n",
      "    accuracy                           0.76       267\n",
      "   macro avg       0.76      0.54      0.58       267\n",
      "weighted avg       0.76      0.76      0.72       267\n",
      "\n"
     ]
    }
   ],
   "source": [
    "print(metrics.classification_report(y_test,predictions)) "
   ]
  },
  {
   "cell_type": "code",
   "execution_count": 22,
   "id": "21cca2aa",
   "metadata": {},
   "outputs": [
    {
     "name": "stdout",
     "output_type": "stream",
     "text": [
      "0.7565543071161048\n"
     ]
    }
   ],
   "source": [
    "print(metrics.accuracy_score(y_test,predictions))"
   ]
  },
  {
   "cell_type": "code",
   "execution_count": 45,
   "id": "bffd04b3",
   "metadata": {},
   "outputs": [],
   "source": [
    "def chat():\n",
    "    \n",
    "    \n",
    "    print(\"السلام عليكم , شرفتنا يافندم اتفضل ؟ \")\n",
    "    while True:\n",
    "        inp = input(\"انت :\")\n",
    "        if (inp=='السلام عليكم'):\n",
    "            print('!وعليكم السلام يافندم , اقدر اساعد حضرتك ازاي ؟')\n",
    "            \n",
    "        elif (inp=='اهلا'):\n",
    "            print('!اهلا يافندم , اقدر اساعد حضرتك ازاي ؟')\n",
    "            \n",
    "        elif (inp=='انا عندي مشكلة'):\n",
    "            print('! اتفضل يافندم , اتفضل قول مشكلتك ')\n",
    "            \n",
    "        elif (inp=='عندي مشكلة'):\n",
    "            print('! اتفضل يافندم , اتفضل قول مشكلتك ')\n",
    "            \n",
    "        elif (inp=='عندي قضية'):\n",
    "            print('!اهلا يافندم , اقدر اساعد حضرتك ازاي ؟')\n",
    "            \n",
    "        elif (inp=='الو'):\n",
    "            print('!اهلا يافندم , اقدر اساعد حضرتك ازاي ؟')\n",
    "            \n",
    "        elif (inp=='اهلا و سهلا'):\n",
    "            print('!اهلا يافندم , اقدر اساعد حضرتك ازاي ؟')\n",
    "            \n",
    "        elif (inp=='مرحبا'):\n",
    "            print('!اهلا يافندم , اقدر اساعد حضرتك ازاي ؟')\n",
    "            \n",
    "        elif (inp=='مساء الخير'):\n",
    "            print('!مساء النور يافندم , اقدر اساعد حضرتك ازاي ؟')\n",
    "            \n",
    "        elif (inp=='صباح الخير'):\n",
    "            print('!صباح النور يافندم , اقدر اساعد حضرتك ازاي ؟')\n",
    "            \n",
    "        elif(inp=='اخرج'):\n",
    "            print('!! تمام يافندم , اتشرفنا بحضرتك جدا ')\n",
    "            \n",
    "            break\n",
    "            \n",
    "        elif(inp=='مع السلامة'):\n",
    "            print('!! مع السلامة يافندم , اتشرفنا بحضرتك جدا ')\n",
    "            \n",
    "            break\n",
    "            \n",
    "        elif(inp=='تمام متشكر'):\n",
    "            print('!! تمام يافندم , اتشرفنا بحضرتك جدا ')\n",
    "            \n",
    "            break\n",
    "            \n",
    "        elif(inp=='شكرا تمام'):\n",
    "            print('!! تمام يافندم , اتشرفنا بحضرتك جدا ')\n",
    "            \n",
    "            break\n",
    "            \n",
    "        elif(inp=='خلاص تمام'):\n",
    "            print('!! تمام يافندم , اتشرفنا بحضرتك جدا ')\n",
    "            \n",
    "            break\n",
    "            \n",
    "        \n",
    "        \n",
    "        else:\n",
    "            print(text_clf.predict([inp])[0])\n",
    "            \n",
    "        \n",
    "\n",
    "       \n",
    "        "
   ]
  },
  {
   "cell_type": "code",
   "execution_count": null,
   "id": "547a966b",
   "metadata": {},
   "outputs": [
    {
     "name": "stdout",
     "output_type": "stream",
     "text": [
      "السلام عليكم , شرفتنا يافندم اتفضل ؟ \n",
      "انت :مساء الخير\n",
      "!مساء النور يافندم , اقدر اساعد حضرتك ازاي ؟\n",
      "انت :الو\n",
      "!اهلا يافندم , اقدر اساعد حضرتك ازاي ؟\n",
      "انت :صباح الخير\n",
      "!صباح النور يافندم , اقدر اساعد حضرتك ازاي ؟\n",
      "انت :عندي مشكلة\n",
      "! اتفضل يافندم , اتفضل قول مشكلتك \n",
      "انت :ايجار قديم\n",
      "مدني\n",
      "انت :قضية تبديد\n",
      "جنح\n",
      "انت :اخويا ومراته\n",
      "اسره\n"
     ]
    }
   ],
   "source": [
    "chat()"
   ]
  },
  {
   "cell_type": "code",
   "execution_count": null,
   "id": "ef67e04e",
   "metadata": {},
   "outputs": [],
   "source": []
  }
 ],
 "metadata": {
  "kernelspec": {
   "display_name": "Python 3 (ipykernel)",
   "language": "python",
   "name": "python3"
  },
  "language_info": {
   "codemirror_mode": {
    "name": "ipython",
    "version": 3
   },
   "file_extension": ".py",
   "mimetype": "text/x-python",
   "name": "python",
   "nbconvert_exporter": "python",
   "pygments_lexer": "ipython3",
   "version": "3.9.12"
  }
 },
 "nbformat": 4,
 "nbformat_minor": 5
}
