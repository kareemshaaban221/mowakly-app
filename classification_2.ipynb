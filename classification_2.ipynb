{
 "cells": [
  {
   "cell_type": "code",
   "execution_count": 12,
   "id": "cd2fcbff",
   "metadata": {},
   "outputs": [],
   "source": [
    "import pandas as pd\n",
    "dataset=pd.read_excel('YEHIA3.xlsx')\n",
    "import arabicstopwords.arabicstopwords as asw\n",
    "from nltk import word_tokenize\n",
    "import string\n",
    "from sklearn.model_selection import train_test_split,KFold, StratifiedKFold, LeaveOneOut, cross_val_score\n",
    "from sklearn.feature_extraction.text import TfidfVectorizer,CountVectorizer\n"
   ]
  },
  {
   "cell_type": "code",
   "execution_count": 13,
   "id": "816002ff",
   "metadata": {},
   "outputs": [],
   "source": [
    "def remve_noise(cases):\n",
    "    corpus=[]\n",
    "    for case in cases:\n",
    "        s=case.lower()\n",
    "        words=word_tokenize(s)\n",
    "        word=[w for w in words if w not in asw.stopwords_list() if w not in string.punctuation]\n",
    "        s=\" \".join(word)\n",
    "        corpus.append(s)\n",
    "    return corpus"
   ]
  },
  {
   "cell_type": "code",
   "execution_count": 14,
   "id": "5b856cf7",
   "metadata": {},
   "outputs": [],
   "source": [
    "tfidf_vectorizer = TfidfVectorizer()\n",
    "# tfidf_vectorizer = CountVectorizer()\n",
    "tfidf_vectorizer.fit(remve_noise(dataset['text']))\n",
    "X = tfidf_vectorizer.transform(remve_noise(dataset['text']))\n",
    "Y=dataset['label']"
   ]
  },
  {
   "cell_type": "code",
   "execution_count": 15,
   "id": "63519b10",
   "metadata": {},
   "outputs": [
    {
     "name": "stdout",
     "output_type": "stream",
     "text": [
      "Training Data Shape: (1241, 15004)\n",
      "Testing Data Shape:  (311, 15004)\n"
     ]
    }
   ],
   "source": [
    "from sklearn.model_selection import train_test_split\n",
    "\n",
    "X_train, X_test, y_train, y_test = train_test_split(X,Y, test_size=0.2, random_state=42, shuffle=True)\n",
    "\n",
    "print('Training Data Shape:', X_train.shape)\n",
    "print('Testing Data Shape: ', X_test.shape)"
   ]
  },
  {
   "cell_type": "code",
   "execution_count": 16,
   "id": "b7bce8c3",
   "metadata": {},
   "outputs": [
    {
     "data": {
      "text/plain": [
       "اسره    771\n",
       "مدني    258\n",
       "جنح     212\n",
       "Name: label, dtype: int64"
      ]
     },
     "execution_count": 16,
     "metadata": {},
     "output_type": "execute_result"
    }
   ],
   "source": [
    "y_train.value_counts()"
   ]
  },
  {
   "cell_type": "code",
   "execution_count": 17,
   "id": "80a69091",
   "metadata": {},
   "outputs": [
    {
     "data": {
      "text/plain": [
       "اسره    205\n",
       "مدني     63\n",
       "جنح      43\n",
       "Name: label, dtype: int64"
      ]
     },
     "execution_count": 17,
     "metadata": {},
     "output_type": "execute_result"
    }
   ],
   "source": [
    "y_test.value_counts()"
   ]
  },
  {
   "cell_type": "code",
   "execution_count": 18,
   "id": "aacb8d3b",
   "metadata": {},
   "outputs": [
    {
     "data": {
      "text/html": [
       "<style>#sk-container-id-1 {color: black;background-color: white;}#sk-container-id-1 pre{padding: 0;}#sk-container-id-1 div.sk-toggleable {background-color: white;}#sk-container-id-1 label.sk-toggleable__label {cursor: pointer;display: block;width: 100%;margin-bottom: 0;padding: 0.3em;box-sizing: border-box;text-align: center;}#sk-container-id-1 label.sk-toggleable__label-arrow:before {content: \"▸\";float: left;margin-right: 0.25em;color: #696969;}#sk-container-id-1 label.sk-toggleable__label-arrow:hover:before {color: black;}#sk-container-id-1 div.sk-estimator:hover label.sk-toggleable__label-arrow:before {color: black;}#sk-container-id-1 div.sk-toggleable__content {max-height: 0;max-width: 0;overflow: hidden;text-align: left;background-color: #f0f8ff;}#sk-container-id-1 div.sk-toggleable__content pre {margin: 0.2em;color: black;border-radius: 0.25em;background-color: #f0f8ff;}#sk-container-id-1 input.sk-toggleable__control:checked~div.sk-toggleable__content {max-height: 200px;max-width: 100%;overflow: auto;}#sk-container-id-1 input.sk-toggleable__control:checked~label.sk-toggleable__label-arrow:before {content: \"▾\";}#sk-container-id-1 div.sk-estimator input.sk-toggleable__control:checked~label.sk-toggleable__label {background-color: #d4ebff;}#sk-container-id-1 div.sk-label input.sk-toggleable__control:checked~label.sk-toggleable__label {background-color: #d4ebff;}#sk-container-id-1 input.sk-hidden--visually {border: 0;clip: rect(1px 1px 1px 1px);clip: rect(1px, 1px, 1px, 1px);height: 1px;margin: -1px;overflow: hidden;padding: 0;position: absolute;width: 1px;}#sk-container-id-1 div.sk-estimator {font-family: monospace;background-color: #f0f8ff;border: 1px dotted black;border-radius: 0.25em;box-sizing: border-box;margin-bottom: 0.5em;}#sk-container-id-1 div.sk-estimator:hover {background-color: #d4ebff;}#sk-container-id-1 div.sk-parallel-item::after {content: \"\";width: 100%;border-bottom: 1px solid gray;flex-grow: 1;}#sk-container-id-1 div.sk-label:hover label.sk-toggleable__label {background-color: #d4ebff;}#sk-container-id-1 div.sk-serial::before {content: \"\";position: absolute;border-left: 1px solid gray;box-sizing: border-box;top: 0;bottom: 0;left: 50%;z-index: 0;}#sk-container-id-1 div.sk-serial {display: flex;flex-direction: column;align-items: center;background-color: white;padding-right: 0.2em;padding-left: 0.2em;position: relative;}#sk-container-id-1 div.sk-item {position: relative;z-index: 1;}#sk-container-id-1 div.sk-parallel {display: flex;align-items: stretch;justify-content: center;background-color: white;position: relative;}#sk-container-id-1 div.sk-item::before, #sk-container-id-1 div.sk-parallel-item::before {content: \"\";position: absolute;border-left: 1px solid gray;box-sizing: border-box;top: 0;bottom: 0;left: 50%;z-index: -1;}#sk-container-id-1 div.sk-parallel-item {display: flex;flex-direction: column;z-index: 1;position: relative;background-color: white;}#sk-container-id-1 div.sk-parallel-item:first-child::after {align-self: flex-end;width: 50%;}#sk-container-id-1 div.sk-parallel-item:last-child::after {align-self: flex-start;width: 50%;}#sk-container-id-1 div.sk-parallel-item:only-child::after {width: 0;}#sk-container-id-1 div.sk-dashed-wrapped {border: 1px dashed gray;margin: 0 0.4em 0.5em 0.4em;box-sizing: border-box;padding-bottom: 0.4em;background-color: white;}#sk-container-id-1 div.sk-label label {font-family: monospace;font-weight: bold;display: inline-block;line-height: 1.2em;}#sk-container-id-1 div.sk-label-container {text-align: center;}#sk-container-id-1 div.sk-container {/* jupyter's `normalize.less` sets `[hidden] { display: none; }` but bootstrap.min.css set `[hidden] { display: none !important; }` so we also need the `!important` here to be able to override the default hidden behavior on the sphinx rendered scikit-learn.org. See: https://github.com/scikit-learn/scikit-learn/issues/21755 */display: inline-block !important;position: relative;}#sk-container-id-1 div.sk-text-repr-fallback {display: none;}</style><div id=\"sk-container-id-1\" class=\"sk-top-container\"><div class=\"sk-text-repr-fallback\"><pre>LogisticRegression()</pre><b>In a Jupyter environment, please rerun this cell to show the HTML representation or trust the notebook. <br />On GitHub, the HTML representation is unable to render, please try loading this page with nbviewer.org.</b></div><div class=\"sk-container\" hidden><div class=\"sk-item\"><div class=\"sk-estimator sk-toggleable\"><input class=\"sk-toggleable__control sk-hidden--visually\" id=\"sk-estimator-id-1\" type=\"checkbox\" checked><label for=\"sk-estimator-id-1\" class=\"sk-toggleable__label sk-toggleable__label-arrow\">LogisticRegression</label><div class=\"sk-toggleable__content\"><pre>LogisticRegression()</pre></div></div></div></div></div>"
      ],
      "text/plain": [
       "LogisticRegression()"
      ]
     },
     "execution_count": 18,
     "metadata": {},
     "output_type": "execute_result"
    }
   ],
   "source": [
    "from sklearn.linear_model import LogisticRegression\n",
    "\n",
    "lr_model = LogisticRegression(solver='lbfgs')\n",
    "\n",
    "lr_model.fit(X_train, y_train)"
   ]
  },
  {
   "cell_type": "code",
   "execution_count": 19,
   "id": "c7b3d6e0",
   "metadata": {},
   "outputs": [
    {
     "name": "stdout",
     "output_type": "stream",
     "text": [
      "[[200   0   5]\n",
      " [ 42   1   0]\n",
      " [ 47   0  16]]\n",
      "              precision    recall  f1-score   support\n",
      "\n",
      "        اسره       0.69      0.98      0.81       205\n",
      "         جنح       1.00      0.02      0.05        43\n",
      "        مدني       0.76      0.25      0.38        63\n",
      "\n",
      "    accuracy                           0.70       311\n",
      "   macro avg       0.82      0.42      0.41       311\n",
      "weighted avg       0.75      0.70      0.62       311\n",
      "\n",
      "0.6977491961414791\n"
     ]
    }
   ],
   "source": [
    "from sklearn import metrics\n",
    "\n",
    "predictions = lr_model.predict(X_test)\n",
    "\n",
    "print(metrics.confusion_matrix(y_test,predictions))\n",
    "\n",
    "print(metrics.classification_report(y_test,predictions))\n",
    "\n",
    "print(metrics.accuracy_score(y_test,predictions))"
   ]
  },
  {
   "cell_type": "code",
   "execution_count": 20,
   "id": "cfaa9281",
   "metadata": {},
   "outputs": [
    {
     "name": "stdout",
     "output_type": "stream",
     "text": [
      "[[205   0   0]\n",
      " [ 43   0   0]\n",
      " [ 62   0   1]]\n",
      "              precision    recall  f1-score   support\n",
      "\n",
      "        اسره       0.66      1.00      0.80       205\n",
      "         جنح       0.00      0.00      0.00        43\n",
      "        مدني       1.00      0.02      0.03        63\n",
      "\n",
      "    accuracy                           0.66       311\n",
      "   macro avg       0.55      0.34      0.28       311\n",
      "weighted avg       0.64      0.66      0.53       311\n",
      "\n",
      "0.662379421221865\n"
     ]
    },
    {
     "name": "stderr",
     "output_type": "stream",
     "text": [
      "C:\\Users\\LENOVO\\anaconda3\\lib\\site-packages\\sklearn\\metrics\\_classification.py:1334: UndefinedMetricWarning: Precision and F-score are ill-defined and being set to 0.0 in labels with no predicted samples. Use `zero_division` parameter to control this behavior.\n",
      "  _warn_prf(average, modifier, msg_start, len(result))\n",
      "C:\\Users\\LENOVO\\anaconda3\\lib\\site-packages\\sklearn\\metrics\\_classification.py:1334: UndefinedMetricWarning: Precision and F-score are ill-defined and being set to 0.0 in labels with no predicted samples. Use `zero_division` parameter to control this behavior.\n",
      "  _warn_prf(average, modifier, msg_start, len(result))\n",
      "C:\\Users\\LENOVO\\anaconda3\\lib\\site-packages\\sklearn\\metrics\\_classification.py:1334: UndefinedMetricWarning: Precision and F-score are ill-defined and being set to 0.0 in labels with no predicted samples. Use `zero_division` parameter to control this behavior.\n",
      "  _warn_prf(average, modifier, msg_start, len(result))\n"
     ]
    }
   ],
   "source": [
    "from sklearn.naive_bayes import MultinomialNB\n",
    "nb_model = MultinomialNB()\n",
    "nb_model.fit(X_train, y_train)\n",
    "predictions = nb_model.predict(X_test)\n",
    "print(metrics.confusion_matrix(y_test,predictions))\n",
    "print(metrics.classification_report(y_test,predictions))\n",
    "print(metrics.accuracy_score(y_test,predictions))"
   ]
  },
  {
   "cell_type": "code",
   "execution_count": 21,
   "id": "469d15ab",
   "metadata": {},
   "outputs": [
    {
     "name": "stdout",
     "output_type": "stream",
     "text": [
      "[[205   0   0]\n",
      " [ 43   0   0]\n",
      " [ 63   0   0]]\n",
      "              precision    recall  f1-score   support\n",
      "\n",
      "        اسره       0.66      1.00      0.79       205\n",
      "         جنح       0.00      0.00      0.00        43\n",
      "        مدني       0.00      0.00      0.00        63\n",
      "\n",
      "    accuracy                           0.66       311\n",
      "   macro avg       0.22      0.33      0.26       311\n",
      "weighted avg       0.43      0.66      0.52       311\n",
      "\n",
      "0.6591639871382636\n"
     ]
    },
    {
     "name": "stderr",
     "output_type": "stream",
     "text": [
      "C:\\Users\\LENOVO\\anaconda3\\lib\\site-packages\\sklearn\\metrics\\_classification.py:1334: UndefinedMetricWarning: Precision and F-score are ill-defined and being set to 0.0 in labels with no predicted samples. Use `zero_division` parameter to control this behavior.\n",
      "  _warn_prf(average, modifier, msg_start, len(result))\n",
      "C:\\Users\\LENOVO\\anaconda3\\lib\\site-packages\\sklearn\\metrics\\_classification.py:1334: UndefinedMetricWarning: Precision and F-score are ill-defined and being set to 0.0 in labels with no predicted samples. Use `zero_division` parameter to control this behavior.\n",
      "  _warn_prf(average, modifier, msg_start, len(result))\n",
      "C:\\Users\\LENOVO\\anaconda3\\lib\\site-packages\\sklearn\\metrics\\_classification.py:1334: UndefinedMetricWarning: Precision and F-score are ill-defined and being set to 0.0 in labels with no predicted samples. Use `zero_division` parameter to control this behavior.\n",
      "  _warn_prf(average, modifier, msg_start, len(result))\n"
     ]
    }
   ],
   "source": [
    "from sklearn.svm import SVC\n",
    "svc_model = SVC(gamma='auto')\n",
    "svc_model.fit(X_train,y_train)\n",
    "\n",
    "predictions = svc_model.predict(X_test)\n",
    "print(metrics.confusion_matrix(y_test,predictions))\n",
    "print(metrics.classification_report(y_test,predictions))\n",
    "print(metrics.accuracy_score(y_test,predictions))"
   ]
  },
  {
   "cell_type": "code",
   "execution_count": 22,
   "id": "93333fa8",
   "metadata": {},
   "outputs": [],
   "source": [
    "from sklearn.model_selection import train_test_split\n",
    "\n",
    "X = remve_noise(dataset['text']) \n",
    "y = dataset['label']\n",
    "\n",
    "X_train, X_test, y_train, y_test = train_test_split(X, y, test_size=0.3, shuffle=True)"
   ]
  },
  {
   "cell_type": "code",
   "execution_count": 23,
   "id": "312c92e6",
   "metadata": {},
   "outputs": [
    {
     "data": {
      "text/plain": [
       "اسره    686\n",
       "مدني    220\n",
       "جنح     180\n",
       "Name: label, dtype: int64"
      ]
     },
     "execution_count": 23,
     "metadata": {},
     "output_type": "execute_result"
    }
   ],
   "source": [
    "y_train.value_counts()"
   ]
  },
  {
   "cell_type": "code",
   "execution_count": 24,
   "id": "ddb0d10a",
   "metadata": {},
   "outputs": [
    {
     "data": {
      "text/plain": [
       "اسره    290\n",
       "مدني    101\n",
       "جنح      75\n",
       "Name: label, dtype: int64"
      ]
     },
     "execution_count": 24,
     "metadata": {},
     "output_type": "execute_result"
    }
   ],
   "source": [
    "y_test.value_counts()"
   ]
  },
  {
   "cell_type": "code",
   "execution_count": 25,
   "id": "dc80a3bf",
   "metadata": {},
   "outputs": [
    {
     "data": {
      "text/plain": [
       "(1086, 11762)"
      ]
     },
     "execution_count": 25,
     "metadata": {},
     "output_type": "execute_result"
    }
   ],
   "source": [
    "from sklearn.feature_extraction.text import CountVectorizer\n",
    "count_vect = CountVectorizer()\n",
    "\n",
    "X_train_counts = count_vect.fit_transform(X_train)\n",
    "X_train_counts.shape"
   ]
  },
  {
   "cell_type": "code",
   "execution_count": 26,
   "id": "718827c8",
   "metadata": {},
   "outputs": [
    {
     "data": {
      "text/plain": [
       "(1086, 11762)"
      ]
     },
     "execution_count": 26,
     "metadata": {},
     "output_type": "execute_result"
    }
   ],
   "source": [
    "from sklearn.feature_extraction.text import TfidfTransformer\n",
    "tfidf_transformer = TfidfTransformer()\n",
    "\n",
    "X_train_tfidf = tfidf_transformer.fit_transform(X_train_counts)\n",
    "X_train_tfidf.shape"
   ]
  },
  {
   "cell_type": "code",
   "execution_count": 27,
   "id": "91cdbe65",
   "metadata": {},
   "outputs": [
    {
     "data": {
      "text/plain": [
       "0         (0, 10956)\\t0.19338968441410118\\n  (0, 10370...\n",
       "1         (0, 11544)\\t0.2878980933207516\\n  (0, 9395)\\...\n",
       "2         (0, 11044)\\t0.212662072731372\\n  (0, 10651)\\...\n",
       "3         (0, 10982)\\t0.09704500054647933\\n  (0, 10668...\n",
       "4         (0, 11507)\\t0.36011854895986395\\n  (0, 9573)...\n",
       "                              ...                        \n",
       "1081      (0, 11473)\\t0.28715749553887315\\n  (0, 10473...\n",
       "1082      (0, 11573)\\t0.1252302165352262\\n  (0, 11516)...\n",
       "1083      (0, 10265)\\t0.16410968097531858\\n  (0, 9604)...\n",
       "1084      (0, 11598)\\t0.1887819817223079\\n  (0, 10867)...\n",
       "1085      (0, 11658)\\t0.1385585723727923\\n  (0, 11373)...\n",
       "Name: 0, Length: 1086, dtype: object"
      ]
     },
     "execution_count": 27,
     "metadata": {},
     "output_type": "execute_result"
    }
   ],
   "source": [
    "pd.DataFrame(X_train_tfidf)[0]"
   ]
  },
  {
   "cell_type": "code",
   "execution_count": 28,
   "id": "8b305a05",
   "metadata": {},
   "outputs": [
    {
     "data": {
      "text/plain": [
       "(1086, 11762)"
      ]
     },
     "execution_count": 28,
     "metadata": {},
     "output_type": "execute_result"
    }
   ],
   "source": [
    "from sklearn.feature_extraction.text import TfidfVectorizer\n",
    "vectorizer = TfidfVectorizer()\n",
    "\n",
    "X_train_tfidf = vectorizer.fit_transform(X_train) # remember to use the original X_train set\n",
    "X_train_tfidf.shape"
   ]
  },
  {
   "cell_type": "code",
   "execution_count": 29,
   "id": "9b165d73",
   "metadata": {},
   "outputs": [
    {
     "data": {
      "text/html": [
       "<style>#sk-container-id-2 {color: black;background-color: white;}#sk-container-id-2 pre{padding: 0;}#sk-container-id-2 div.sk-toggleable {background-color: white;}#sk-container-id-2 label.sk-toggleable__label {cursor: pointer;display: block;width: 100%;margin-bottom: 0;padding: 0.3em;box-sizing: border-box;text-align: center;}#sk-container-id-2 label.sk-toggleable__label-arrow:before {content: \"▸\";float: left;margin-right: 0.25em;color: #696969;}#sk-container-id-2 label.sk-toggleable__label-arrow:hover:before {color: black;}#sk-container-id-2 div.sk-estimator:hover label.sk-toggleable__label-arrow:before {color: black;}#sk-container-id-2 div.sk-toggleable__content {max-height: 0;max-width: 0;overflow: hidden;text-align: left;background-color: #f0f8ff;}#sk-container-id-2 div.sk-toggleable__content pre {margin: 0.2em;color: black;border-radius: 0.25em;background-color: #f0f8ff;}#sk-container-id-2 input.sk-toggleable__control:checked~div.sk-toggleable__content {max-height: 200px;max-width: 100%;overflow: auto;}#sk-container-id-2 input.sk-toggleable__control:checked~label.sk-toggleable__label-arrow:before {content: \"▾\";}#sk-container-id-2 div.sk-estimator input.sk-toggleable__control:checked~label.sk-toggleable__label {background-color: #d4ebff;}#sk-container-id-2 div.sk-label input.sk-toggleable__control:checked~label.sk-toggleable__label {background-color: #d4ebff;}#sk-container-id-2 input.sk-hidden--visually {border: 0;clip: rect(1px 1px 1px 1px);clip: rect(1px, 1px, 1px, 1px);height: 1px;margin: -1px;overflow: hidden;padding: 0;position: absolute;width: 1px;}#sk-container-id-2 div.sk-estimator {font-family: monospace;background-color: #f0f8ff;border: 1px dotted black;border-radius: 0.25em;box-sizing: border-box;margin-bottom: 0.5em;}#sk-container-id-2 div.sk-estimator:hover {background-color: #d4ebff;}#sk-container-id-2 div.sk-parallel-item::after {content: \"\";width: 100%;border-bottom: 1px solid gray;flex-grow: 1;}#sk-container-id-2 div.sk-label:hover label.sk-toggleable__label {background-color: #d4ebff;}#sk-container-id-2 div.sk-serial::before {content: \"\";position: absolute;border-left: 1px solid gray;box-sizing: border-box;top: 0;bottom: 0;left: 50%;z-index: 0;}#sk-container-id-2 div.sk-serial {display: flex;flex-direction: column;align-items: center;background-color: white;padding-right: 0.2em;padding-left: 0.2em;position: relative;}#sk-container-id-2 div.sk-item {position: relative;z-index: 1;}#sk-container-id-2 div.sk-parallel {display: flex;align-items: stretch;justify-content: center;background-color: white;position: relative;}#sk-container-id-2 div.sk-item::before, #sk-container-id-2 div.sk-parallel-item::before {content: \"\";position: absolute;border-left: 1px solid gray;box-sizing: border-box;top: 0;bottom: 0;left: 50%;z-index: -1;}#sk-container-id-2 div.sk-parallel-item {display: flex;flex-direction: column;z-index: 1;position: relative;background-color: white;}#sk-container-id-2 div.sk-parallel-item:first-child::after {align-self: flex-end;width: 50%;}#sk-container-id-2 div.sk-parallel-item:last-child::after {align-self: flex-start;width: 50%;}#sk-container-id-2 div.sk-parallel-item:only-child::after {width: 0;}#sk-container-id-2 div.sk-dashed-wrapped {border: 1px dashed gray;margin: 0 0.4em 0.5em 0.4em;box-sizing: border-box;padding-bottom: 0.4em;background-color: white;}#sk-container-id-2 div.sk-label label {font-family: monospace;font-weight: bold;display: inline-block;line-height: 1.2em;}#sk-container-id-2 div.sk-label-container {text-align: center;}#sk-container-id-2 div.sk-container {/* jupyter's `normalize.less` sets `[hidden] { display: none; }` but bootstrap.min.css set `[hidden] { display: none !important; }` so we also need the `!important` here to be able to override the default hidden behavior on the sphinx rendered scikit-learn.org. See: https://github.com/scikit-learn/scikit-learn/issues/21755 */display: inline-block !important;position: relative;}#sk-container-id-2 div.sk-text-repr-fallback {display: none;}</style><div id=\"sk-container-id-2\" class=\"sk-top-container\"><div class=\"sk-text-repr-fallback\"><pre>LinearSVC()</pre><b>In a Jupyter environment, please rerun this cell to show the HTML representation or trust the notebook. <br />On GitHub, the HTML representation is unable to render, please try loading this page with nbviewer.org.</b></div><div class=\"sk-container\" hidden><div class=\"sk-item\"><div class=\"sk-estimator sk-toggleable\"><input class=\"sk-toggleable__control sk-hidden--visually\" id=\"sk-estimator-id-2\" type=\"checkbox\" checked><label for=\"sk-estimator-id-2\" class=\"sk-toggleable__label sk-toggleable__label-arrow\">LinearSVC</label><div class=\"sk-toggleable__content\"><pre>LinearSVC()</pre></div></div></div></div></div>"
      ],
      "text/plain": [
       "LinearSVC()"
      ]
     },
     "execution_count": 29,
     "metadata": {},
     "output_type": "execute_result"
    }
   ],
   "source": [
    "from sklearn.svm import LinearSVC\n",
    "clf = LinearSVC()\n",
    "clf.fit(X_train_tfidf,y_train)"
   ]
  },
  {
   "cell_type": "code",
   "execution_count": 30,
   "id": "b53eb651",
   "metadata": {},
   "outputs": [],
   "source": [
    "from sklearn.pipeline import Pipeline\n",
    "text_clf = Pipeline([('tfidf', TfidfVectorizer()),\n",
    "                     ('clf', LinearSVC()),])\n",
    "\n",
    "\n",
    "text_clf.fit(X_train, y_train)  \n",
    "\n",
    "\n",
    "predictions = text_clf.predict(X_test)"
   ]
  },
  {
   "cell_type": "code",
   "execution_count": 31,
   "id": "3527953e",
   "metadata": {},
   "outputs": [
    {
     "name": "stdout",
     "output_type": "stream",
     "text": [
      "[[277   1  12]\n",
      " [ 45  25   5]\n",
      " [ 52   2  47]]\n"
     ]
    }
   ],
   "source": [
    "from sklearn import metrics\n",
    "print(metrics.confusion_matrix(y_test,predictions))"
   ]
  },
  {
   "cell_type": "code",
   "execution_count": 32,
   "id": "571b8fac",
   "metadata": {},
   "outputs": [
    {
     "name": "stdout",
     "output_type": "stream",
     "text": [
      "              precision    recall  f1-score   support\n",
      "\n",
      "        اسره       0.74      0.96      0.83       290\n",
      "         جنح       0.89      0.33      0.49        75\n",
      "        مدني       0.73      0.47      0.57       101\n",
      "\n",
      "    accuracy                           0.75       466\n",
      "   macro avg       0.79      0.58      0.63       466\n",
      "weighted avg       0.76      0.75      0.72       466\n",
      "\n"
     ]
    }
   ],
   "source": [
    "print(metrics.classification_report(y_test,predictions)) "
   ]
  },
  {
   "cell_type": "code",
   "execution_count": 33,
   "id": "21cca2aa",
   "metadata": {},
   "outputs": [
    {
     "name": "stdout",
     "output_type": "stream",
     "text": [
      "0.7489270386266095\n"
     ]
    }
   ],
   "source": [
    "print(metrics.accuracy_score(y_test,predictions))"
   ]
  },
  {
   "cell_type": "code",
   "execution_count": 34,
   "id": "bffd04b3",
   "metadata": {},
   "outputs": [
    {
     "name": "stdout",
     "output_type": "stream",
     "text": [
      "!!اهلا بيك يافندم انا موكلي شات بوت\n",
      "You: اهلا\n",
      "Mowakly Bot: مساء الخير يافندم !!\n",
      "You: انا عندي قضية\n",
      "Mowakly Bot: !يعني ايه ؟\n",
      "You: انا عندي مشكلة\n",
      "Mowakly Bot: انا هنا عشان اساعدك , اتفضل!!\n",
      "You: محتاجة استشارة من حوالي سنة اشتريننا شقة وكتبنا العقد بس مش وثقناه والشقة ما زالت باسم صاحبها ووصلات الكهربة والماية والغاز بتيجي باسمه فدلوقتي جوزي اتفق معايا أنه هيكتبلي الشقة دي باسمي أي الإجراءات الي المفروض تتعمل وتأكد ازاي ان جوزي كتبهالي فعلا مش بيضحك عليا لانه قالي أن الموضوع بسيط هنجيب عقد من أي مكتبة واكتبلك ان الشقة باسمك وانتي تمضي وانا امضي وخلاص علي كدة فاية الطريقة القانونية الصحيحة الي فعلا الشقة تنكتب باسمي بيها\n",
      "Mowakly Bot: اسره\n",
      "You: السلام عليكملو سمحتو انا لقيت منتج تخسيس  اونلاين و كلمتهم و سألتهم المفروض انه الدكتور رشحلي كورس حبوب معين فحجزت الاوردر على أساس أن مفيش شحن و والدي استلم الاوردر خدو منه شحن ٢٠ ج قعدو يقولو دول ٢٠ ج دا المفروض ٧٠ ج قولتلهم انتو قولتو الشحن و المتابعه مع الدكتور مجاني و انا كنت خدت المنتج دا قبل كدا كان حلو جدا معايا من اول يوم جربت دا ٩ ايام مفيش نتيجة بالعكس زدت في الوزن و خلال ال٩ ايام بحاول اوصلهم مفيش حل مفيش متابعه مفيش دكتور دوا مضروب و من حقي كمستهلك اني ارجعه خصوصا اني طالبه عرض بقا و كام علبه و غاليين و قولتلها لو مخستش ايه الحل قالو متقلقيش قولتلهم هتبعتولي غيره قالو متقلقيش دا قبل ما استلم و ال ٢٠ ج دي قالو هيبعتوها رصيد و مبعتوش حاجه و كمان دوا مضروب و كمان مفيش متابعه و رنيت عليهم من أرقام مختلفه و بعتلهم رسايل عملولي بلوكات و قبل البلوك رقم دكتور الي هيتابع معايا بعت بالغلط عرض هاي كول  عرض ملابس و فيه أنه هيرن لتأكيد الحجز اشمعنا مش بيردو و لا بيرنو للعلاج فاكتشفت أنها نصبايه و عاوزة اخد حقي لاني كدا دفعالهم ٧٥٠\n",
      "Mowakly Bot: اسره\n",
      "You: انتببه - الماده التاليه لا تصلح لاقامه دعوى تبديد ضد من يضع يده على حصتك الشائعه من الميراث - المادة (889) من القانون المدني المصري : \"يعاقب بعقوبة التبديد كل من استولى غشًا على شيء من مال التركة ولو كان وارثًا\". الماده دى بتتكلم عن تبديد الميراث ولا تصلح ضد واضع اليد على الميراث ومعنى التبديد ان يستولى على احد عناصر التركه مثال قيامه بسحب مبلغ من وديعه المتوفى بالبنك بعد الوفاه بموجب توكيل او كارت اى تى ام - او بيع سياره او عقار بالتوكيل او عدم اثبات كامل التركه بالنسبه للقاصر بمحضر جرد النيابه الحسبيه لكن حيازه احد الورثه للتركه دى حيازه قانونيه لحين القسمه حتى لو بنيه التملك بالتقادم ولا يوجد غش او تبديد فيجب الانتباه عشان مايجيش مضلل ويقولك نرفع جنحه تبديد لان الحائز باع جزء من التركه قبل الفرز وتجنيب او مستولى على حصتك المشاع لانك هتخسر الدعوى ومطالبه محترمه\n",
      "Mowakly Bot: اسره\n",
      "You: لو سمحتوا لو هأجر الشقة ممكن اعرف ايه اللي اعمله عشان اضمن حقي وعقد الايجار ايه البنود اللي تلغيه زي الشطب فيه\n",
      "Mowakly Bot: مدني\n",
      "You: السلام عليكم استشاره سريعه ضرورى دلوقتى ليا جار مربى كلب كبير صوته صعب فى الجنينه من  ٧ سنوات ومتكلمتش ومكانه قاذورات وفضلات وحشرات ومكنتش بتكلم  ...دلوقتى جاب كلبه تانيه معاه كبيره وصوتهم صعب جدا جدا مع بعض ومفيش نوم ولا راحه وهوهوه طول الوقت دون توقف.وانا عندى الضغط وبنتى عندها امتحانات واحنا فى منطقه هدوء المفروض.وكلمته وبجح وقل ادبه وهو عيل صغير ٢٥ سنه ومحتاجه اتصرف سريعا  وكلمت اهله ومش قادرين عليه والشقه باسمه.مش من حق الناس ترتاح فى بيتها.ارجوكم ايه الحل لردع هذا الجارهل محضر ازعاج ولا تطاول ولا اطلب النجده.ارجوكم المساعده\n",
      "Mowakly Bot: اسره\n",
      "You: سلام عليكم ابويا راح يصرف سماد من الجمعيه الزراعيه الموظف قاله ملكش سماد الفيزا مفهاش ابويا قاله ازاي مليش انا هشتكيك الموظف اهان ابويا جدا وقعد يزعق وقاله خد اجره المواصلات وروح اشتكيني.. وبيدينا علي الفدان شكاره سماد والمفروض ناخد اكتر من ٤ وواكل علينا الصيفي كمان  والموظف ده بيستغل الفلاحين ويضحك عليهم و ياخد السماد يبيعه ارجوكم حد يقولنا نجيب حقنا ازاي للعلم احنا من الدقهليه ومركزنا طلخا\n",
      "Mowakly Bot: جنح\n"
     ]
    },
    {
     "ename": "KeyboardInterrupt",
     "evalue": "Interrupted by user",
     "output_type": "error",
     "traceback": [
      "\u001b[1;31m---------------------------------------------------------------------------\u001b[0m",
      "\u001b[1;31mKeyboardInterrupt\u001b[0m                         Traceback (most recent call last)",
      "Input \u001b[1;32mIn [34]\u001b[0m, in \u001b[0;36m<cell line: 81>\u001b[1;34m()\u001b[0m\n\u001b[0;32m     79\u001b[0m \u001b[38;5;28mprint\u001b[39m(\u001b[38;5;124m'\u001b[39m\u001b[38;5;124m!!اهلا بيك يافندم انا موكلي شات بوت\u001b[39m\u001b[38;5;124m'\u001b[39m)\n\u001b[0;32m     80\u001b[0m \u001b[38;5;28;01mwhile\u001b[39;00m \u001b[38;5;28;01mTrue\u001b[39;00m:\n\u001b[1;32m---> 81\u001b[0m     \u001b[38;5;28mprint\u001b[39m(\u001b[38;5;124m'\u001b[39m\u001b[38;5;124mMowakly Bot: \u001b[39m\u001b[38;5;124m'\u001b[39m \u001b[38;5;241m+\u001b[39m get_response(\u001b[38;5;28;43minput\u001b[39;49m\u001b[43m(\u001b[49m\u001b[38;5;124;43m'\u001b[39;49m\u001b[38;5;124;43mYou: \u001b[39;49m\u001b[38;5;124;43m'\u001b[39;49m\u001b[43m)\u001b[49m))\n",
      "File \u001b[1;32m~\\anaconda3\\lib\\site-packages\\ipykernel\\kernelbase.py:1075\u001b[0m, in \u001b[0;36mKernel.raw_input\u001b[1;34m(self, prompt)\u001b[0m\n\u001b[0;32m   1071\u001b[0m \u001b[38;5;28;01mif\u001b[39;00m \u001b[38;5;129;01mnot\u001b[39;00m \u001b[38;5;28mself\u001b[39m\u001b[38;5;241m.\u001b[39m_allow_stdin:\n\u001b[0;32m   1072\u001b[0m     \u001b[38;5;28;01mraise\u001b[39;00m StdinNotImplementedError(\n\u001b[0;32m   1073\u001b[0m         \u001b[38;5;124m\"\u001b[39m\u001b[38;5;124mraw_input was called, but this frontend does not support input requests.\u001b[39m\u001b[38;5;124m\"\u001b[39m\n\u001b[0;32m   1074\u001b[0m     )\n\u001b[1;32m-> 1075\u001b[0m \u001b[38;5;28;01mreturn\u001b[39;00m \u001b[38;5;28;43mself\u001b[39;49m\u001b[38;5;241;43m.\u001b[39;49m\u001b[43m_input_request\u001b[49m\u001b[43m(\u001b[49m\n\u001b[0;32m   1076\u001b[0m \u001b[43m    \u001b[49m\u001b[38;5;28;43mstr\u001b[39;49m\u001b[43m(\u001b[49m\u001b[43mprompt\u001b[49m\u001b[43m)\u001b[49m\u001b[43m,\u001b[49m\n\u001b[0;32m   1077\u001b[0m \u001b[43m    \u001b[49m\u001b[38;5;28;43mself\u001b[39;49m\u001b[38;5;241;43m.\u001b[39;49m\u001b[43m_parent_ident\u001b[49m\u001b[43m[\u001b[49m\u001b[38;5;124;43m\"\u001b[39;49m\u001b[38;5;124;43mshell\u001b[39;49m\u001b[38;5;124;43m\"\u001b[39;49m\u001b[43m]\u001b[49m\u001b[43m,\u001b[49m\n\u001b[0;32m   1078\u001b[0m \u001b[43m    \u001b[49m\u001b[38;5;28;43mself\u001b[39;49m\u001b[38;5;241;43m.\u001b[39;49m\u001b[43mget_parent\u001b[49m\u001b[43m(\u001b[49m\u001b[38;5;124;43m\"\u001b[39;49m\u001b[38;5;124;43mshell\u001b[39;49m\u001b[38;5;124;43m\"\u001b[39;49m\u001b[43m)\u001b[49m\u001b[43m,\u001b[49m\n\u001b[0;32m   1079\u001b[0m \u001b[43m    \u001b[49m\u001b[43mpassword\u001b[49m\u001b[38;5;241;43m=\u001b[39;49m\u001b[38;5;28;43;01mFalse\u001b[39;49;00m\u001b[43m,\u001b[49m\n\u001b[0;32m   1080\u001b[0m \u001b[43m\u001b[49m\u001b[43m)\u001b[49m\n",
      "File \u001b[1;32m~\\anaconda3\\lib\\site-packages\\ipykernel\\kernelbase.py:1120\u001b[0m, in \u001b[0;36mKernel._input_request\u001b[1;34m(self, prompt, ident, parent, password)\u001b[0m\n\u001b[0;32m   1117\u001b[0m             \u001b[38;5;28;01mbreak\u001b[39;00m\n\u001b[0;32m   1118\u001b[0m \u001b[38;5;28;01mexcept\u001b[39;00m \u001b[38;5;167;01mKeyboardInterrupt\u001b[39;00m:\n\u001b[0;32m   1119\u001b[0m     \u001b[38;5;66;03m# re-raise KeyboardInterrupt, to truncate traceback\u001b[39;00m\n\u001b[1;32m-> 1120\u001b[0m     \u001b[38;5;28;01mraise\u001b[39;00m \u001b[38;5;167;01mKeyboardInterrupt\u001b[39;00m(\u001b[38;5;124m\"\u001b[39m\u001b[38;5;124mInterrupted by user\u001b[39m\u001b[38;5;124m\"\u001b[39m) \u001b[38;5;28;01mfrom\u001b[39;00m \u001b[38;5;28mNone\u001b[39m\n\u001b[0;32m   1121\u001b[0m \u001b[38;5;28;01mexcept\u001b[39;00m \u001b[38;5;167;01mException\u001b[39;00m:\n\u001b[0;32m   1122\u001b[0m     \u001b[38;5;28mself\u001b[39m\u001b[38;5;241m.\u001b[39mlog\u001b[38;5;241m.\u001b[39mwarning(\u001b[38;5;124m\"\u001b[39m\u001b[38;5;124mInvalid Message:\u001b[39m\u001b[38;5;124m\"\u001b[39m, exc_info\u001b[38;5;241m=\u001b[39m\u001b[38;5;28;01mTrue\u001b[39;00m)\n",
      "\u001b[1;31mKeyboardInterrupt\u001b[0m: Interrupted by user"
     ]
    }
   ],
   "source": [
    "import random\n",
    "import re\n",
    "\n",
    "def unknown():\n",
    "    response = [\"مش فاهم ! \",\n",
    "                \"...\",\n",
    "                \"ممكن تقول تاني.\",\n",
    "                \"!يعني ايه ؟\"][\n",
    "        random.randrange(4)]\n",
    "    return response\n",
    "\n",
    "\n",
    "\n",
    "\n",
    "def message_probability(user_message, recognised_words, single_response=False, required_words=[]):\n",
    "    message_certainty = 0\n",
    "    has_required_words = True\n",
    "\n",
    "    # Counts how many words are present in each predefined message\n",
    "    for word in user_message:\n",
    "        if word in recognised_words:\n",
    "            message_certainty += 1\n",
    "\n",
    "    # Calculates the percent of recognised words in a user message\n",
    "    percentage = float(message_certainty) / float(len(recognised_words))\n",
    "\n",
    "    # Checks that the required words are in the string\n",
    "    for word in required_words:\n",
    "        if word not in user_message:\n",
    "            has_required_words = False\n",
    "            break\n",
    "\n",
    "    # Must either have the required words, or be a single response\n",
    "    if has_required_words or single_response:\n",
    "        return int(percentage * 100)\n",
    "    else:\n",
    "        return 0\n",
    "\n",
    "\n",
    "def check_all_messages(message):\n",
    "    highest_prob_list = {}\n",
    "\n",
    "    # Simplifies response creation / adds it to the dict\n",
    "    def response(bot_response, list_of_words, single_response=False, required_words=[]):\n",
    "        nonlocal highest_prob_list\n",
    "        highest_prob_list[bot_response] = message_probability(message, list_of_words, single_response, required_words)\n",
    "\n",
    "    # Responses -------------------------------------------------------------------------------------------------------\n",
    "    response('مساء الخير يافندم !!', ['اهلا','عليكم', 'السلام', 'مرحبا', 'مساء','الخير', \"صباح\"], single_response=True)\n",
    "    response('مع السلامة يافندم', ['سلام','السلامة','مع','الي'], single_response=True)\n",
    "    response('انا كويس , وانت عامل ايه؟', ['عامل', 'ايه'], required_words=['عامل'])\n",
    "    response('شرفتنا جدا يافندم!', ['شكرا','تمام'], single_response=True)\n",
    "    response('شكرا جدا يافندم!', ['انا', 'بحبك'], required_words=['بحبك'])\n",
    "    response('انا هنا عشان اساعدك , اتفضل!!', ['انا','مشكلة','قضية','عندي'], required_words=['قضية'])\n",
    "    response('انا هنا عشان اساعدك , اتفضل!!', ['انا','مشكلة','قضية','عندي'], required_words=['مشكلة'])\n",
    "\n",
    "    \n",
    "\n",
    "    best_match = max(highest_prob_list, key=highest_prob_list.get)\n",
    "    # print(highest_prob_list)\n",
    "    # print(f'Best match = {best_match} | Score: {highest_prob_list[best_match]}')\n",
    "\n",
    "    return unknown() if highest_prob_list[best_match] < 1 else best_match\n",
    "\n",
    "\n",
    "# Used to get the response\n",
    "def get_response(user_input):\n",
    "    split_message = re.split(r'\\s+|[,;?!.-]\\s*', user_input.lower())\n",
    "    response = check_all_messages(split_message)\n",
    "    if(len(user_input)<25):\n",
    "        return response\n",
    "    else:\n",
    "        return text_clf.predict([user_input])[0]\n",
    "    \n",
    "    \n",
    "\n",
    "\n",
    "# Testing the response system\n",
    "print('!!اهلا بيك يافندم انا موكلي شات بوت')\n",
    "while True:\n",
    "    print('Mowakly Bot: ' + get_response(input('You: ')))\n",
    "           \n",
    "            \n",
    "        \n",
    "\n",
    "       \n",
    "        "
   ]
  },
  {
   "cell_type": "code",
   "execution_count": null,
   "id": "ef67e04e",
   "metadata": {},
   "outputs": [],
   "source": []
  }
 ],
 "metadata": {
  "kernelspec": {
   "display_name": "Python 3 (ipykernel)",
   "language": "python",
   "name": "python3"
  },
  "language_info": {
   "codemirror_mode": {
    "name": "ipython",
    "version": 3
   },
   "file_extension": ".py",
   "mimetype": "text/x-python",
   "name": "python",
   "nbconvert_exporter": "python",
   "pygments_lexer": "ipython3",
   "version": "3.9.12"
  }
 },
 "nbformat": 4,
 "nbformat_minor": 5
}
