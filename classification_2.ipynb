{
 "cells": [
  {
   "cell_type": "code",
   "execution_count": 24,
   "id": "cd2fcbff",
   "metadata": {},
   "outputs": [],
   "source": [
    "import pandas as pd\n",
    "dataset=pd.read_excel('YEHIA3.xlsx')\n",
    "import arabicstopwords.arabicstopwords as asw\n",
    "from nltk import word_tokenize\n",
    "import string\n",
    "from sklearn.model_selection import train_test_split,KFold, StratifiedKFold, LeaveOneOut, cross_val_score\n",
    "from sklearn.feature_extraction.text import TfidfVectorizer,CountVectorizer\n"
   ]
  },
  {
   "cell_type": "code",
   "execution_count": 25,
   "id": "816002ff",
   "metadata": {},
   "outputs": [],
   "source": [
    "def remve_noise(cases):\n",
    "    corpus=[]\n",
    "    for case in cases:\n",
    "        s=case.lower()\n",
    "        words=word_tokenize(s)\n",
    "        word=[w for w in words if w not in asw.stopwords_list() if w not in string.punctuation]\n",
    "        s=\" \".join(word)\n",
    "        corpus.append(s)\n",
    "    return corpus"
   ]
  },
  {
   "cell_type": "code",
   "execution_count": 26,
   "id": "5b856cf7",
   "metadata": {},
   "outputs": [],
   "source": [
    "tfidf_vectorizer = TfidfVectorizer()\n",
    "# tfidf_vectorizer = CountVectorizer()\n",
    "tfidf_vectorizer.fit(remve_noise(dataset['text']))\n",
    "X = tfidf_vectorizer.transform(remve_noise(dataset['text']))\n",
    "Y=dataset['label']"
   ]
  },
  {
   "cell_type": "code",
   "execution_count": 27,
   "id": "63519b10",
   "metadata": {},
   "outputs": [
    {
     "name": "stdout",
     "output_type": "stream",
     "text": [
      "Training Data Shape: (1570, 18929)\n",
      "Testing Data Shape:  (393, 18929)\n"
     ]
    }
   ],
   "source": [
    "from sklearn.model_selection import train_test_split\n",
    "\n",
    "X_train, X_test, y_train, y_test = train_test_split(X,Y, test_size=0.2, random_state=42)\n",
    "\n",
    "print('Training Data Shape:', X_train.shape)\n",
    "print('Testing Data Shape: ', X_test.shape)"
   ]
  },
  {
   "cell_type": "code",
   "execution_count": 28,
   "id": "b7bce8c3",
   "metadata": {},
   "outputs": [
    {
     "data": {
      "text/plain": [
       "اسره    830\n",
       "مدني    415\n",
       "جنح     325\n",
       "Name: label, dtype: int64"
      ]
     },
     "execution_count": 28,
     "metadata": {},
     "output_type": "execute_result"
    }
   ],
   "source": [
    "y_train.value_counts()"
   ]
  },
  {
   "cell_type": "code",
   "execution_count": 29,
   "id": "80a69091",
   "metadata": {},
   "outputs": [
    {
     "data": {
      "text/plain": [
       "اسره    225\n",
       "مدني     86\n",
       "جنح      82\n",
       "Name: label, dtype: int64"
      ]
     },
     "execution_count": 29,
     "metadata": {},
     "output_type": "execute_result"
    }
   ],
   "source": [
    "y_test.value_counts()"
   ]
  },
  {
   "cell_type": "code",
   "execution_count": 30,
   "id": "aacb8d3b",
   "metadata": {},
   "outputs": [
    {
     "data": {
      "text/html": [
       "<style>#sk-container-id-3 {color: black;background-color: white;}#sk-container-id-3 pre{padding: 0;}#sk-container-id-3 div.sk-toggleable {background-color: white;}#sk-container-id-3 label.sk-toggleable__label {cursor: pointer;display: block;width: 100%;margin-bottom: 0;padding: 0.3em;box-sizing: border-box;text-align: center;}#sk-container-id-3 label.sk-toggleable__label-arrow:before {content: \"▸\";float: left;margin-right: 0.25em;color: #696969;}#sk-container-id-3 label.sk-toggleable__label-arrow:hover:before {color: black;}#sk-container-id-3 div.sk-estimator:hover label.sk-toggleable__label-arrow:before {color: black;}#sk-container-id-3 div.sk-toggleable__content {max-height: 0;max-width: 0;overflow: hidden;text-align: left;background-color: #f0f8ff;}#sk-container-id-3 div.sk-toggleable__content pre {margin: 0.2em;color: black;border-radius: 0.25em;background-color: #f0f8ff;}#sk-container-id-3 input.sk-toggleable__control:checked~div.sk-toggleable__content {max-height: 200px;max-width: 100%;overflow: auto;}#sk-container-id-3 input.sk-toggleable__control:checked~label.sk-toggleable__label-arrow:before {content: \"▾\";}#sk-container-id-3 div.sk-estimator input.sk-toggleable__control:checked~label.sk-toggleable__label {background-color: #d4ebff;}#sk-container-id-3 div.sk-label input.sk-toggleable__control:checked~label.sk-toggleable__label {background-color: #d4ebff;}#sk-container-id-3 input.sk-hidden--visually {border: 0;clip: rect(1px 1px 1px 1px);clip: rect(1px, 1px, 1px, 1px);height: 1px;margin: -1px;overflow: hidden;padding: 0;position: absolute;width: 1px;}#sk-container-id-3 div.sk-estimator {font-family: monospace;background-color: #f0f8ff;border: 1px dotted black;border-radius: 0.25em;box-sizing: border-box;margin-bottom: 0.5em;}#sk-container-id-3 div.sk-estimator:hover {background-color: #d4ebff;}#sk-container-id-3 div.sk-parallel-item::after {content: \"\";width: 100%;border-bottom: 1px solid gray;flex-grow: 1;}#sk-container-id-3 div.sk-label:hover label.sk-toggleable__label {background-color: #d4ebff;}#sk-container-id-3 div.sk-serial::before {content: \"\";position: absolute;border-left: 1px solid gray;box-sizing: border-box;top: 0;bottom: 0;left: 50%;z-index: 0;}#sk-container-id-3 div.sk-serial {display: flex;flex-direction: column;align-items: center;background-color: white;padding-right: 0.2em;padding-left: 0.2em;position: relative;}#sk-container-id-3 div.sk-item {position: relative;z-index: 1;}#sk-container-id-3 div.sk-parallel {display: flex;align-items: stretch;justify-content: center;background-color: white;position: relative;}#sk-container-id-3 div.sk-item::before, #sk-container-id-3 div.sk-parallel-item::before {content: \"\";position: absolute;border-left: 1px solid gray;box-sizing: border-box;top: 0;bottom: 0;left: 50%;z-index: -1;}#sk-container-id-3 div.sk-parallel-item {display: flex;flex-direction: column;z-index: 1;position: relative;background-color: white;}#sk-container-id-3 div.sk-parallel-item:first-child::after {align-self: flex-end;width: 50%;}#sk-container-id-3 div.sk-parallel-item:last-child::after {align-self: flex-start;width: 50%;}#sk-container-id-3 div.sk-parallel-item:only-child::after {width: 0;}#sk-container-id-3 div.sk-dashed-wrapped {border: 1px dashed gray;margin: 0 0.4em 0.5em 0.4em;box-sizing: border-box;padding-bottom: 0.4em;background-color: white;}#sk-container-id-3 div.sk-label label {font-family: monospace;font-weight: bold;display: inline-block;line-height: 1.2em;}#sk-container-id-3 div.sk-label-container {text-align: center;}#sk-container-id-3 div.sk-container {/* jupyter's `normalize.less` sets `[hidden] { display: none; }` but bootstrap.min.css set `[hidden] { display: none !important; }` so we also need the `!important` here to be able to override the default hidden behavior on the sphinx rendered scikit-learn.org. See: https://github.com/scikit-learn/scikit-learn/issues/21755 */display: inline-block !important;position: relative;}#sk-container-id-3 div.sk-text-repr-fallback {display: none;}</style><div id=\"sk-container-id-3\" class=\"sk-top-container\"><div class=\"sk-text-repr-fallback\"><pre>LogisticRegression()</pre><b>In a Jupyter environment, please rerun this cell to show the HTML representation or trust the notebook. <br />On GitHub, the HTML representation is unable to render, please try loading this page with nbviewer.org.</b></div><div class=\"sk-container\" hidden><div class=\"sk-item\"><div class=\"sk-estimator sk-toggleable\"><input class=\"sk-toggleable__control sk-hidden--visually\" id=\"sk-estimator-id-3\" type=\"checkbox\" checked><label for=\"sk-estimator-id-3\" class=\"sk-toggleable__label sk-toggleable__label-arrow\">LogisticRegression</label><div class=\"sk-toggleable__content\"><pre>LogisticRegression()</pre></div></div></div></div></div>"
      ],
      "text/plain": [
       "LogisticRegression()"
      ]
     },
     "execution_count": 30,
     "metadata": {},
     "output_type": "execute_result"
    }
   ],
   "source": [
    "from sklearn.linear_model import LogisticRegression\n",
    "\n",
    "lr_model = LogisticRegression(solver='lbfgs')\n",
    "\n",
    "lr_model.fit(X_train, y_train)"
   ]
  },
  {
   "cell_type": "code",
   "execution_count": 31,
   "id": "c7b3d6e0",
   "metadata": {},
   "outputs": [
    {
     "name": "stdout",
     "output_type": "stream",
     "text": [
      "[[216   0   9]\n",
      " [ 61  16   5]\n",
      " [ 41   1  44]]\n",
      "              precision    recall  f1-score   support\n",
      "\n",
      "        اسره       0.68      0.96      0.80       225\n",
      "         جنح       0.94      0.20      0.32        82\n",
      "        مدني       0.76      0.51      0.61        86\n",
      "\n",
      "    accuracy                           0.70       393\n",
      "   macro avg       0.79      0.56      0.58       393\n",
      "weighted avg       0.75      0.70      0.66       393\n",
      "\n",
      "0.7022900763358778\n"
     ]
    }
   ],
   "source": [
    "from sklearn import metrics\n",
    "\n",
    "predictions = lr_model.predict(X_test)\n",
    "\n",
    "print(metrics.confusion_matrix(y_test,predictions))\n",
    "\n",
    "print(metrics.classification_report(y_test,predictions))\n",
    "\n",
    "print(metrics.accuracy_score(y_test,predictions))"
   ]
  },
  {
   "cell_type": "code",
   "execution_count": 32,
   "id": "cfaa9281",
   "metadata": {},
   "outputs": [
    {
     "name": "stdout",
     "output_type": "stream",
     "text": [
      "[[222   0   3]\n",
      " [ 80   1   1]\n",
      " [ 73   0  13]]\n",
      "              precision    recall  f1-score   support\n",
      "\n",
      "        اسره       0.59      0.99      0.74       225\n",
      "         جنح       1.00      0.01      0.02        82\n",
      "        مدني       0.76      0.15      0.25        86\n",
      "\n",
      "    accuracy                           0.60       393\n",
      "   macro avg       0.79      0.38      0.34       393\n",
      "weighted avg       0.71      0.60      0.48       393\n",
      "\n",
      "0.6005089058524173\n"
     ]
    }
   ],
   "source": [
    "from sklearn.naive_bayes import MultinomialNB\n",
    "nb_model = MultinomialNB()\n",
    "nb_model.fit(X_train, y_train)\n",
    "predictions = nb_model.predict(X_test)\n",
    "print(metrics.confusion_matrix(y_test,predictions))\n",
    "print(metrics.classification_report(y_test,predictions))\n",
    "print(metrics.accuracy_score(y_test,predictions))"
   ]
  },
  {
   "cell_type": "code",
   "execution_count": 33,
   "id": "469d15ab",
   "metadata": {},
   "outputs": [
    {
     "name": "stdout",
     "output_type": "stream",
     "text": [
      "[[225   0   0]\n",
      " [ 82   0   0]\n",
      " [ 86   0   0]]\n",
      "              precision    recall  f1-score   support\n",
      "\n",
      "        اسره       0.57      1.00      0.73       225\n",
      "         جنح       0.00      0.00      0.00        82\n",
      "        مدني       0.00      0.00      0.00        86\n",
      "\n",
      "    accuracy                           0.57       393\n",
      "   macro avg       0.19      0.33      0.24       393\n",
      "weighted avg       0.33      0.57      0.42       393\n",
      "\n",
      "0.5725190839694656\n"
     ]
    },
    {
     "name": "stderr",
     "output_type": "stream",
     "text": [
      "C:\\Users\\LENOVO\\anaconda3\\lib\\site-packages\\sklearn\\metrics\\_classification.py:1334: UndefinedMetricWarning: Precision and F-score are ill-defined and being set to 0.0 in labels with no predicted samples. Use `zero_division` parameter to control this behavior.\n",
      "  _warn_prf(average, modifier, msg_start, len(result))\n",
      "C:\\Users\\LENOVO\\anaconda3\\lib\\site-packages\\sklearn\\metrics\\_classification.py:1334: UndefinedMetricWarning: Precision and F-score are ill-defined and being set to 0.0 in labels with no predicted samples. Use `zero_division` parameter to control this behavior.\n",
      "  _warn_prf(average, modifier, msg_start, len(result))\n",
      "C:\\Users\\LENOVO\\anaconda3\\lib\\site-packages\\sklearn\\metrics\\_classification.py:1334: UndefinedMetricWarning: Precision and F-score are ill-defined and being set to 0.0 in labels with no predicted samples. Use `zero_division` parameter to control this behavior.\n",
      "  _warn_prf(average, modifier, msg_start, len(result))\n"
     ]
    }
   ],
   "source": [
    "from sklearn.svm import SVC\n",
    "svc_model = SVC(gamma='auto')\n",
    "svc_model.fit(X_train,y_train)\n",
    "\n",
    "predictions = svc_model.predict(X_test)\n",
    "print(metrics.confusion_matrix(y_test,predictions))\n",
    "print(metrics.classification_report(y_test,predictions))\n",
    "print(metrics.accuracy_score(y_test,predictions))"
   ]
  },
  {
   "cell_type": "code",
   "execution_count": 34,
   "id": "93333fa8",
   "metadata": {},
   "outputs": [],
   "source": [
    "from sklearn.model_selection import train_test_split\n",
    "\n",
    "X = remve_noise(dataset['text']) \n",
    "y = dataset['label']\n",
    "\n",
    "X_train, X_test, y_train, y_test = train_test_split(X, y, test_size=0.1,random_state = 42, shuffle=True)"
   ]
  },
  {
   "cell_type": "code",
   "execution_count": 35,
   "id": "312c92e6",
   "metadata": {},
   "outputs": [
    {
     "data": {
      "text/plain": [
       "اسره    942\n",
       "مدني    452\n",
       "جنح     372\n",
       "Name: label, dtype: int64"
      ]
     },
     "execution_count": 35,
     "metadata": {},
     "output_type": "execute_result"
    }
   ],
   "source": [
    "y_train.value_counts()"
   ]
  },
  {
   "cell_type": "code",
   "execution_count": 36,
   "id": "ddb0d10a",
   "metadata": {},
   "outputs": [
    {
     "data": {
      "text/plain": [
       "اسره    113\n",
       "مدني     49\n",
       "جنح      35\n",
       "Name: label, dtype: int64"
      ]
     },
     "execution_count": 36,
     "metadata": {},
     "output_type": "execute_result"
    }
   ],
   "source": [
    "y_test.value_counts()"
   ]
  },
  {
   "cell_type": "code",
   "execution_count": 37,
   "id": "dc80a3bf",
   "metadata": {},
   "outputs": [
    {
     "data": {
      "text/plain": [
       "(1766, 17613)"
      ]
     },
     "execution_count": 37,
     "metadata": {},
     "output_type": "execute_result"
    }
   ],
   "source": [
    "from sklearn.feature_extraction.text import CountVectorizer\n",
    "count_vect = CountVectorizer()\n",
    "\n",
    "X_train_counts = count_vect.fit_transform(X_train)\n",
    "X_train_counts.shape"
   ]
  },
  {
   "cell_type": "code",
   "execution_count": 38,
   "id": "718827c8",
   "metadata": {},
   "outputs": [
    {
     "data": {
      "text/plain": [
       "(1766, 17613)"
      ]
     },
     "execution_count": 38,
     "metadata": {},
     "output_type": "execute_result"
    }
   ],
   "source": [
    "from sklearn.feature_extraction.text import TfidfTransformer\n",
    "tfidf_transformer = TfidfTransformer()\n",
    "\n",
    "X_train_tfidf = tfidf_transformer.fit_transform(X_train_counts)\n",
    "X_train_tfidf.shape"
   ]
  },
  {
   "cell_type": "code",
   "execution_count": 39,
   "id": "91cdbe65",
   "metadata": {},
   "outputs": [
    {
     "data": {
      "text/plain": [
       "0         (0, 17239)\\t0.17929034192194\\n  (0, 17047)\\t...\n",
       "1         (0, 17383)\\t0.14563159556505814\\n  (0, 16826...\n",
       "2         (0, 15188)\\t0.2936488097370245\\n  (0, 14409)...\n",
       "3         (0, 11884)\\t0.3722505079496451\\n  (0, 11235)...\n",
       "4         (0, 14373)\\t0.3000429971802091\\n  (0, 12461)...\n",
       "                              ...                        \n",
       "1761      (0, 17280)\\t0.21154941057235316\\n  (0, 16802...\n",
       "1762      (0, 17319)\\t0.3422260152088029\\n  (0, 17122)...\n",
       "1763      (0, 14193)\\t0.17040311684428983\\n  (0, 12631...\n",
       "1764      (0, 17372)\\t0.12697482265347607\\n  (0, 16092...\n",
       "1765      (0, 17254)\\t0.18869690865655483\\n  (0, 16311...\n",
       "Name: 0, Length: 1766, dtype: object"
      ]
     },
     "execution_count": 39,
     "metadata": {},
     "output_type": "execute_result"
    }
   ],
   "source": [
    "pd.DataFrame(X_train_tfidf)[0]"
   ]
  },
  {
   "cell_type": "code",
   "execution_count": 40,
   "id": "8b305a05",
   "metadata": {},
   "outputs": [
    {
     "data": {
      "text/plain": [
       "(1766, 17613)"
      ]
     },
     "execution_count": 40,
     "metadata": {},
     "output_type": "execute_result"
    }
   ],
   "source": [
    "from sklearn.feature_extraction.text import TfidfVectorizer\n",
    "vectorizer = TfidfVectorizer()\n",
    "\n",
    "X_train_tfidf = vectorizer.fit_transform(X_train) # remember to use the original X_train set\n",
    "X_train_tfidf.shape"
   ]
  },
  {
   "cell_type": "code",
   "execution_count": 41,
   "id": "9b165d73",
   "metadata": {},
   "outputs": [
    {
     "data": {
      "text/html": [
       "<style>#sk-container-id-4 {color: black;background-color: white;}#sk-container-id-4 pre{padding: 0;}#sk-container-id-4 div.sk-toggleable {background-color: white;}#sk-container-id-4 label.sk-toggleable__label {cursor: pointer;display: block;width: 100%;margin-bottom: 0;padding: 0.3em;box-sizing: border-box;text-align: center;}#sk-container-id-4 label.sk-toggleable__label-arrow:before {content: \"▸\";float: left;margin-right: 0.25em;color: #696969;}#sk-container-id-4 label.sk-toggleable__label-arrow:hover:before {color: black;}#sk-container-id-4 div.sk-estimator:hover label.sk-toggleable__label-arrow:before {color: black;}#sk-container-id-4 div.sk-toggleable__content {max-height: 0;max-width: 0;overflow: hidden;text-align: left;background-color: #f0f8ff;}#sk-container-id-4 div.sk-toggleable__content pre {margin: 0.2em;color: black;border-radius: 0.25em;background-color: #f0f8ff;}#sk-container-id-4 input.sk-toggleable__control:checked~div.sk-toggleable__content {max-height: 200px;max-width: 100%;overflow: auto;}#sk-container-id-4 input.sk-toggleable__control:checked~label.sk-toggleable__label-arrow:before {content: \"▾\";}#sk-container-id-4 div.sk-estimator input.sk-toggleable__control:checked~label.sk-toggleable__label {background-color: #d4ebff;}#sk-container-id-4 div.sk-label input.sk-toggleable__control:checked~label.sk-toggleable__label {background-color: #d4ebff;}#sk-container-id-4 input.sk-hidden--visually {border: 0;clip: rect(1px 1px 1px 1px);clip: rect(1px, 1px, 1px, 1px);height: 1px;margin: -1px;overflow: hidden;padding: 0;position: absolute;width: 1px;}#sk-container-id-4 div.sk-estimator {font-family: monospace;background-color: #f0f8ff;border: 1px dotted black;border-radius: 0.25em;box-sizing: border-box;margin-bottom: 0.5em;}#sk-container-id-4 div.sk-estimator:hover {background-color: #d4ebff;}#sk-container-id-4 div.sk-parallel-item::after {content: \"\";width: 100%;border-bottom: 1px solid gray;flex-grow: 1;}#sk-container-id-4 div.sk-label:hover label.sk-toggleable__label {background-color: #d4ebff;}#sk-container-id-4 div.sk-serial::before {content: \"\";position: absolute;border-left: 1px solid gray;box-sizing: border-box;top: 0;bottom: 0;left: 50%;z-index: 0;}#sk-container-id-4 div.sk-serial {display: flex;flex-direction: column;align-items: center;background-color: white;padding-right: 0.2em;padding-left: 0.2em;position: relative;}#sk-container-id-4 div.sk-item {position: relative;z-index: 1;}#sk-container-id-4 div.sk-parallel {display: flex;align-items: stretch;justify-content: center;background-color: white;position: relative;}#sk-container-id-4 div.sk-item::before, #sk-container-id-4 div.sk-parallel-item::before {content: \"\";position: absolute;border-left: 1px solid gray;box-sizing: border-box;top: 0;bottom: 0;left: 50%;z-index: -1;}#sk-container-id-4 div.sk-parallel-item {display: flex;flex-direction: column;z-index: 1;position: relative;background-color: white;}#sk-container-id-4 div.sk-parallel-item:first-child::after {align-self: flex-end;width: 50%;}#sk-container-id-4 div.sk-parallel-item:last-child::after {align-self: flex-start;width: 50%;}#sk-container-id-4 div.sk-parallel-item:only-child::after {width: 0;}#sk-container-id-4 div.sk-dashed-wrapped {border: 1px dashed gray;margin: 0 0.4em 0.5em 0.4em;box-sizing: border-box;padding-bottom: 0.4em;background-color: white;}#sk-container-id-4 div.sk-label label {font-family: monospace;font-weight: bold;display: inline-block;line-height: 1.2em;}#sk-container-id-4 div.sk-label-container {text-align: center;}#sk-container-id-4 div.sk-container {/* jupyter's `normalize.less` sets `[hidden] { display: none; }` but bootstrap.min.css set `[hidden] { display: none !important; }` so we also need the `!important` here to be able to override the default hidden behavior on the sphinx rendered scikit-learn.org. See: https://github.com/scikit-learn/scikit-learn/issues/21755 */display: inline-block !important;position: relative;}#sk-container-id-4 div.sk-text-repr-fallback {display: none;}</style><div id=\"sk-container-id-4\" class=\"sk-top-container\"><div class=\"sk-text-repr-fallback\"><pre>LinearSVC()</pre><b>In a Jupyter environment, please rerun this cell to show the HTML representation or trust the notebook. <br />On GitHub, the HTML representation is unable to render, please try loading this page with nbviewer.org.</b></div><div class=\"sk-container\" hidden><div class=\"sk-item\"><div class=\"sk-estimator sk-toggleable\"><input class=\"sk-toggleable__control sk-hidden--visually\" id=\"sk-estimator-id-4\" type=\"checkbox\" checked><label for=\"sk-estimator-id-4\" class=\"sk-toggleable__label sk-toggleable__label-arrow\">LinearSVC</label><div class=\"sk-toggleable__content\"><pre>LinearSVC()</pre></div></div></div></div></div>"
      ],
      "text/plain": [
       "LinearSVC()"
      ]
     },
     "execution_count": 41,
     "metadata": {},
     "output_type": "execute_result"
    }
   ],
   "source": [
    "from sklearn.svm import LinearSVC\n",
    "clf = LinearSVC()\n",
    "clf.fit(X_train_tfidf,y_train)"
   ]
  },
  {
   "cell_type": "code",
   "execution_count": 42,
   "id": "b53eb651",
   "metadata": {},
   "outputs": [],
   "source": [
    "from sklearn.pipeline import Pipeline\n",
    "text_clf = Pipeline([('tfidf', TfidfVectorizer()),\n",
    "                     ('clf', LinearSVC()),])\n",
    "\n",
    "\n",
    "text_clf.fit(X_train, y_train)  \n",
    "\n",
    "\n",
    "predictions = text_clf.predict(X_test)"
   ]
  },
  {
   "cell_type": "code",
   "execution_count": 43,
   "id": "3527953e",
   "metadata": {},
   "outputs": [
    {
     "name": "stdout",
     "output_type": "stream",
     "text": [
      "[[97  5 11]\n",
      " [14 15  6]\n",
      " [12  3 34]]\n"
     ]
    }
   ],
   "source": [
    "from sklearn import metrics\n",
    "print(metrics.confusion_matrix(y_test,predictions))"
   ]
  },
  {
   "cell_type": "code",
   "execution_count": 44,
   "id": "571b8fac",
   "metadata": {},
   "outputs": [
    {
     "name": "stdout",
     "output_type": "stream",
     "text": [
      "              precision    recall  f1-score   support\n",
      "\n",
      "        اسره       0.79      0.86      0.82       113\n",
      "         جنح       0.65      0.43      0.52        35\n",
      "        مدني       0.67      0.69      0.68        49\n",
      "\n",
      "    accuracy                           0.74       197\n",
      "   macro avg       0.70      0.66      0.67       197\n",
      "weighted avg       0.73      0.74      0.73       197\n",
      "\n"
     ]
    }
   ],
   "source": [
    "print(metrics.classification_report(y_test,predictions)) "
   ]
  },
  {
   "cell_type": "code",
   "execution_count": 45,
   "id": "21cca2aa",
   "metadata": {},
   "outputs": [
    {
     "name": "stdout",
     "output_type": "stream",
     "text": [
      "0.7411167512690355\n"
     ]
    }
   ],
   "source": [
    "print(metrics.accuracy_score(y_test,predictions))"
   ]
  },
  {
   "cell_type": "code",
   "execution_count": null,
   "id": "bffd04b3",
   "metadata": {},
   "outputs": [
    {
     "name": "stdout",
     "output_type": "stream",
     "text": [
      "اهلا بيك يافندم انا موكلي شات بوت !\n",
      "انا ممكن اساعدك تعرف تصنيف قضيتك كل الي عليك تعمله تكتب مشكلتك او قضيتك وانا هاصنفهالك الي اسره او مدني او جنح !\n",
      "وكمان هارشحلك المحاميين المتخصصين في نوع القضية الخاصة بيك ! \n",
      "You: السلام عليكم\n",
      "Mowakly Bot: مساء الخير يافندم !!\n",
      "You: اهلا\n",
      "Mowakly Bot: مساء الخير يافندم !!\n",
      "You: انا عندي قضية\n",
      "Mowakly Bot: انا هنا عشان اساعدك , اتفضل!!\n",
      "You: السلام عليكم هل فعلا من حق البنت الزواج والتعليم والسكن بدون رضا أهلها قانونا بعد سن الواحد وعشرين؟يعني لو هي بتتعلم محدش يقدر يسحب ملفها بعد سن الواحد وعشرين ؟ ولا لولي الأمر سلطة عليها برضو؟\n",
      "Mowakly Bot: القضية دي تصنيفها (اسره) هل ترغب في محامي ؟\n",
      "You: لا و سمحت انا اشتريت شقه من ست كبيره وعايش معاه لا بنتها وبنتها دى متزوجه واديتهم مهله شهر ع يفضوا الشقه الست اللى كان باسمها الشقه الست الكبيره مشت من الشقه وسابت بنتها وقالت انها ع خلاف معاها واستسمحونا نسيبهم باقى الشهر ع يدوروا ع مكان تانى سبناهم اهو قرب شهربن ومش بينزلوا وكل يوم بحجه عايز حل قانونى سريع انزلهم بيه\n",
      "Mowakly Bot: القضية دي تصنيفها (مدني) هل ترغب في محامي ؟\n",
      "You: موضوع للنقاشلماذا تعترض الزوجة الأولى على زواج زوجها من أخرى مع أن هذا فى القرآن\n",
      "Mowakly Bot: القضية دي تصنيفها (اسره) هل ترغب في محامي ؟\n",
      "You: السلام عليكم فتاة من الجيران  تتهمني بالباطل بالسب والشتم بدون دليل وتتهمني ان قلت له كلام نابي  لكن لاشيء من هدا القبيل هل ممكن ان يحكم القاضي لصالحها بدون اتبات ولا دليل ارجوكم انا المعيل الوحيد لاسرتي وهدا ضلم في حقي ساعدوني ان كان  هناك محامي صاحب اختصاص\n",
      "Mowakly Bot: القضية دي تصنيفها (جنح) هل ترغب في محامي ؟\n",
      "You: السلام عليكماستشارة يا اساتذة بعد اذنكم بنت ابويا رافعة عليا قضية ورث كاتبة ف المحضر مواصفات البيت غلط( مزودة عدد الغرف و مساحة البيت )البيت عبارة عن ٥ شقق ٣ اداور امى واخدة شقة وانا واخويا كل واحد شقةوشقتين ايجار امى هى الى بتاخد فلوسهم لنفسها للعلاج والمصاريفجالى محضر النهاردة ان انا مغتصب حقها و ماجره وباخد الفلوس من ٢٠١٢ (وفاة ابويا)عندى جلسة الاسبوع الجاى المفروض دلوقتى اعمل ايه ؟ اروح لمين ؟ والموضوع هيكلف كام ؟\n",
      "Mowakly Bot: القضية دي تصنيفها (اسره) هل ترغب في محامي ؟\n",
      "You: السلام عليكم الاستاذه الافاضل ارجو الافاده انا عندي بيت وفي جار فوقيه محامي ومفيش بينا ود غير ايجاره ال ٥ جنيه ! جاب يافطهً وعلقها علي باب البيت كادعايه ليه يعني مع العلم انو معندوش مكتب ده حاططها دعايهوانا ست وحيده معرفتش اتكلم معاه بس عايز افهم دي حاجه قانونيه انو يعمل دعايه لنفسه علي باب بيت ميبقاش مخالف في الناقبه  اسفه طولت عليكم\n",
      "Mowakly Bot: القضية دي تصنيفها (مدني) هل ترغب في محامي ؟\n",
      "You: سلام عليكم جاتنا قضية سب وشتم وضرب وتحريش الكلاب  ؟؟؟؟وحنا صرات عندها يومين ملي حب يزدمو علينا او الكلب مطروق هو حط يدو باه يفتح باب الكلب عضو او ماخلوناش الوقت  باه نديرو افوكات وقفة غدوا\n",
      "Mowakly Bot: القضية دي تصنيفها (جنح) هل ترغب في محامي ؟\n",
      "You: والدي توفي وترك لي انا واخواتي قطعه أرض واحنا بنعمل إعلام وراثه لم نذكرها لأننا كنا قصر وحاليا نريد بيعها نكتب الأرض دي آلت إلينا عن طريق الميراث الشرعي ولا هيبقى في غلط وايه الحل؟؟\n",
      "Mowakly Bot: القضية دي تصنيفها (مدني) هل ترغب في محامي ؟\n",
      "You: صباح الخير لو سمحتوا استغاثة واستشارة ضرورية من أهل القانون لو دلوقتى حد اتهجم عليا فى شقتى بالسب والضرب على مسمع و مرىء الجيران وروحت القسم بليل محدش عملى حاجة ينفع اروح النيابة اتهمه ويحضروه يتعاقب أو يتعملوامحضر عدم تعرض ولا اعمل ايه\n",
      "Mowakly Bot: القضية دي تصنيفها (جنح) هل ترغب في محامي ؟\n",
      "You: سلام الله عليكم رفعت دعوى طرد ضد مستأجر منذ عامين واحيلت للخبير منذ سته أشهر حل من حل لاستعجال الخبير علما بأن عقد الإيجار من سنه ٢٠٠٢ ولم يتم تجديده\n",
      "Mowakly Bot: القضية دي تصنيفها (مدني) هل ترغب في محامي ؟\n",
      "You: لو في محضر جنح اتعمل وبعدها كده تمام الصلح واتعمل محضر صلح وعدم تعرضوبعد كده صاحب المحضر والي اتعمل ضده راوحوا النيابة علشان صاحب المحضر يتنازل واتعمل تنازل وبعدين يومين المحضر روحنا نسال قالك لسه متحفظش ده كده معناه ايه ؟؟؟\n",
      "Mowakly Bot: القضية دي تصنيفها (جنح) هل ترغب في محامي ؟\n",
      "You: لا شكرا\n",
      "Mowakly Bot: شرفتنا جدا يافندم , مع السلامة\n"
     ]
    }
   ],
   "source": [
    "import random\n",
    "import re\n",
    "\n",
    "def unknown():\n",
    "    response = \" مش فاهم , انا ممكن اساعدك تعرف تصنيف قضيتك كل الي عليك تعمله تكتب مشكلتك او قضيتك وانا هاصنفهالك الي اسره او مدني او جنح !\"\n",
    "    return response\n",
    "\n",
    "\n",
    "\n",
    "\n",
    "def message_probability(user_message, recognised_words, single_response=False, required_words=[]):\n",
    "    message_certainty = 0\n",
    "    has_required_words = True\n",
    "\n",
    "    # Counts how many words are present in each predefined message\n",
    "    for word in user_message:\n",
    "        if word in recognised_words:\n",
    "            message_certainty += 1\n",
    "\n",
    "    # Calculates the percent of recognised words in a user message\n",
    "    percentage = float(message_certainty) / float(len(recognised_words))\n",
    "\n",
    "    # Checks that the required words are in the string\n",
    "    for word in required_words:\n",
    "        if word not in user_message:\n",
    "            has_required_words = False\n",
    "            break\n",
    "\n",
    "    # Must either have the required words, or be a single response\n",
    "    if has_required_words or single_response:\n",
    "        return int(percentage * 100)\n",
    "    else:\n",
    "        return 0\n",
    "\n",
    "\n",
    "def check_all_messages(message):\n",
    "    highest_prob_list = {}\n",
    "\n",
    "    # Simplifies response creation / adds it to the dict\n",
    "    def response(bot_response, list_of_words, single_response=False, required_words=[]):\n",
    "        nonlocal highest_prob_list\n",
    "        highest_prob_list[bot_response] = message_probability(message, list_of_words, single_response, required_words)\n",
    "\n",
    "    # Responses -------------------------------------------------------------------------------------------------------\n",
    "    response('مساء الخير يافندم !!', ['اهلا','عليكم', 'السلام', 'مرحبا', 'مساء','الخير', \"صباح\"], single_response=True)\n",
    "    response('مع السلامة يافندم', ['سلام','السلامة','مع','الي'], single_response=True)\n",
    "    response('انا كويس , وانت عامل ايه؟', ['عامل', 'ايه'], required_words=['عامل'])\n",
    "    response('تمام يافندم اقدر اساعدك في حاجة تاني ؟', ['شكرا','تمام'], single_response=True)\n",
    "    response('شرفتنا جدا يافندم , مع السلامة', ['لا'], single_response=True)\n",
    "    response('شكرا جدا يافندم!', ['انا', 'بحبك'], required_words=['بحبك'])\n",
    "    response('انا هنا عشان اساعدك , اتفضل', ['انا','مشكلة','عندي'], required_words=['مشكلة'])\n",
    "    response('انا هنا عشان اساعدك , اتفضل!!', ['انا','قضية','عندي'], required_words=['قضية'])\n",
    "\n",
    "    \n",
    "\n",
    "    best_match = max(highest_prob_list, key=highest_prob_list.get)\n",
    "    # print(highest_prob_list)\n",
    "    # print(f'Best match = {best_match} | Score: {highest_prob_list[best_match]}')\n",
    "\n",
    "    return unknown() if highest_prob_list[best_match] < 1 else best_match\n",
    "\n",
    "\n",
    "# Used to get the response\n",
    "def get_response(user_input):\n",
    "    split_message = re.split(r'\\s+|[,;?!.-]\\s*', user_input.lower())\n",
    "    response = check_all_messages(split_message)\n",
    "    if(len(user_input))<20:\n",
    "        return response\n",
    "    else:\n",
    "        return 'القضية دي تصنيفها'+' '+'('+ text_clf.predict([user_input])[0] +')' + ' ' + 'هل ترغب في محامي ؟'\n",
    "    \n",
    "\n",
    "\n",
    "# Testing the response system\n",
    "print('اهلا بيك يافندم انا موكلي شات بوت !')\n",
    "print('انا ممكن اساعدك تعرف تصنيف قضيتك كل الي عليك تعمله تكتب مشكلتك او قضيتك وانا هاصنفهالك الي اسره او مدني او جنح !')\n",
    "print('وكمان هارشحلك المحاميين المتخصصين في نوع القضية الخاصة بيك ! ')\n",
    "\n",
    "while True:\n",
    "    print('Mowakly Bot: ' + get_response(input('You: ')))\n",
    "           \n",
    "            \n",
    "        \n",
    "\n",
    "       \n",
    "        "
   ]
  },
  {
   "cell_type": "code",
   "execution_count": null,
   "id": "ef67e04e",
   "metadata": {},
   "outputs": [],
   "source": []
  }
 ],
 "metadata": {
  "kernelspec": {
   "display_name": "Python 3 (ipykernel)",
   "language": "python",
   "name": "python3"
  },
  "language_info": {
   "codemirror_mode": {
    "name": "ipython",
    "version": 3
   },
   "file_extension": ".py",
   "mimetype": "text/x-python",
   "name": "python",
   "nbconvert_exporter": "python",
   "pygments_lexer": "ipython3",
   "version": "3.9.12"
  }
 },
 "nbformat": 4,
 "nbformat_minor": 5
}
