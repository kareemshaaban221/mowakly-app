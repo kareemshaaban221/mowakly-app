{
 "cells": [
  {
   "cell_type": "code",
   "execution_count": 1,
   "id": "cd2fcbff",
   "metadata": {},
   "outputs": [],
   "source": [
    "import pandas as pd\n",
    "dataset=pd.read_excel('YEHIA2.xlsx')\n",
    "import arabicstopwords.arabicstopwords as asw\n",
    "from nltk import word_tokenize\n",
    "import string\n",
    "from sklearn.model_selection import train_test_split,KFold, StratifiedKFold, LeaveOneOut, cross_val_score\n",
    "from sklearn.feature_extraction.text import TfidfVectorizer,CountVectorizer\n"
   ]
  },
  {
   "cell_type": "code",
   "execution_count": 2,
   "id": "816002ff",
   "metadata": {},
   "outputs": [],
   "source": [
    "def remve_noise(cases):\n",
    "    corpus=[]\n",
    "    for case in cases:\n",
    "        s=case.lower()\n",
    "        words=word_tokenize(s)\n",
    "        word=[w for w in words if w not in asw.stopwords_list() if w not in string.punctuation]\n",
    "        s=\" \".join(word)\n",
    "        corpus.append(s)\n",
    "    return corpus"
   ]
  },
  {
   "cell_type": "code",
   "execution_count": 3,
   "id": "5b856cf7",
   "metadata": {},
   "outputs": [],
   "source": [
    "tfidf_vectorizer = TfidfVectorizer()\n",
    "# tfidf_vectorizer = CountVectorizer()\n",
    "tfidf_vectorizer.fit(remve_noise(dataset['text']))\n",
    "X = tfidf_vectorizer.transform(remve_noise(dataset['text']))\n",
    "Y=dataset['label']"
   ]
  },
  {
   "cell_type": "code",
   "execution_count": 4,
   "id": "63519b10",
   "metadata": {},
   "outputs": [
    {
     "name": "stdout",
     "output_type": "stream",
     "text": [
      "Training Data Shape: (1570, 16585)\n",
      "Testing Data Shape:  (393, 16585)\n"
     ]
    }
   ],
   "source": [
    "from sklearn.model_selection import train_test_split\n",
    "\n",
    "X_train, X_test, y_train, y_test = train_test_split(X,Y, test_size=0.2, random_state=42)\n",
    "\n",
    "print('Training Data Shape:', X_train.shape)\n",
    "print('Testing Data Shape: ', X_test.shape)"
   ]
  },
  {
   "cell_type": "code",
   "execution_count": 5,
   "id": "b7bce8c3",
   "metadata": {},
   "outputs": [
    {
     "data": {
      "text/plain": [
       "اسره    766\n",
       "مدني    429\n",
       "جنح     375\n",
       "Name: label, dtype: int64"
      ]
     },
     "execution_count": 5,
     "metadata": {},
     "output_type": "execute_result"
    }
   ],
   "source": [
    "y_train.value_counts()"
   ]
  },
  {
   "cell_type": "code",
   "execution_count": 6,
   "id": "80a69091",
   "metadata": {},
   "outputs": [
    {
     "data": {
      "text/plain": [
       "اسره    203\n",
       "جنح      98\n",
       "مدني     92\n",
       "Name: label, dtype: int64"
      ]
     },
     "execution_count": 6,
     "metadata": {},
     "output_type": "execute_result"
    }
   ],
   "source": [
    "y_test.value_counts()"
   ]
  },
  {
   "cell_type": "code",
   "execution_count": 7,
   "id": "aacb8d3b",
   "metadata": {},
   "outputs": [
    {
     "data": {
      "text/html": [
       "<style>#sk-container-id-1 {color: black;background-color: white;}#sk-container-id-1 pre{padding: 0;}#sk-container-id-1 div.sk-toggleable {background-color: white;}#sk-container-id-1 label.sk-toggleable__label {cursor: pointer;display: block;width: 100%;margin-bottom: 0;padding: 0.3em;box-sizing: border-box;text-align: center;}#sk-container-id-1 label.sk-toggleable__label-arrow:before {content: \"▸\";float: left;margin-right: 0.25em;color: #696969;}#sk-container-id-1 label.sk-toggleable__label-arrow:hover:before {color: black;}#sk-container-id-1 div.sk-estimator:hover label.sk-toggleable__label-arrow:before {color: black;}#sk-container-id-1 div.sk-toggleable__content {max-height: 0;max-width: 0;overflow: hidden;text-align: left;background-color: #f0f8ff;}#sk-container-id-1 div.sk-toggleable__content pre {margin: 0.2em;color: black;border-radius: 0.25em;background-color: #f0f8ff;}#sk-container-id-1 input.sk-toggleable__control:checked~div.sk-toggleable__content {max-height: 200px;max-width: 100%;overflow: auto;}#sk-container-id-1 input.sk-toggleable__control:checked~label.sk-toggleable__label-arrow:before {content: \"▾\";}#sk-container-id-1 div.sk-estimator input.sk-toggleable__control:checked~label.sk-toggleable__label {background-color: #d4ebff;}#sk-container-id-1 div.sk-label input.sk-toggleable__control:checked~label.sk-toggleable__label {background-color: #d4ebff;}#sk-container-id-1 input.sk-hidden--visually {border: 0;clip: rect(1px 1px 1px 1px);clip: rect(1px, 1px, 1px, 1px);height: 1px;margin: -1px;overflow: hidden;padding: 0;position: absolute;width: 1px;}#sk-container-id-1 div.sk-estimator {font-family: monospace;background-color: #f0f8ff;border: 1px dotted black;border-radius: 0.25em;box-sizing: border-box;margin-bottom: 0.5em;}#sk-container-id-1 div.sk-estimator:hover {background-color: #d4ebff;}#sk-container-id-1 div.sk-parallel-item::after {content: \"\";width: 100%;border-bottom: 1px solid gray;flex-grow: 1;}#sk-container-id-1 div.sk-label:hover label.sk-toggleable__label {background-color: #d4ebff;}#sk-container-id-1 div.sk-serial::before {content: \"\";position: absolute;border-left: 1px solid gray;box-sizing: border-box;top: 0;bottom: 0;left: 50%;z-index: 0;}#sk-container-id-1 div.sk-serial {display: flex;flex-direction: column;align-items: center;background-color: white;padding-right: 0.2em;padding-left: 0.2em;position: relative;}#sk-container-id-1 div.sk-item {position: relative;z-index: 1;}#sk-container-id-1 div.sk-parallel {display: flex;align-items: stretch;justify-content: center;background-color: white;position: relative;}#sk-container-id-1 div.sk-item::before, #sk-container-id-1 div.sk-parallel-item::before {content: \"\";position: absolute;border-left: 1px solid gray;box-sizing: border-box;top: 0;bottom: 0;left: 50%;z-index: -1;}#sk-container-id-1 div.sk-parallel-item {display: flex;flex-direction: column;z-index: 1;position: relative;background-color: white;}#sk-container-id-1 div.sk-parallel-item:first-child::after {align-self: flex-end;width: 50%;}#sk-container-id-1 div.sk-parallel-item:last-child::after {align-self: flex-start;width: 50%;}#sk-container-id-1 div.sk-parallel-item:only-child::after {width: 0;}#sk-container-id-1 div.sk-dashed-wrapped {border: 1px dashed gray;margin: 0 0.4em 0.5em 0.4em;box-sizing: border-box;padding-bottom: 0.4em;background-color: white;}#sk-container-id-1 div.sk-label label {font-family: monospace;font-weight: bold;display: inline-block;line-height: 1.2em;}#sk-container-id-1 div.sk-label-container {text-align: center;}#sk-container-id-1 div.sk-container {/* jupyter's `normalize.less` sets `[hidden] { display: none; }` but bootstrap.min.css set `[hidden] { display: none !important; }` so we also need the `!important` here to be able to override the default hidden behavior on the sphinx rendered scikit-learn.org. See: https://github.com/scikit-learn/scikit-learn/issues/21755 */display: inline-block !important;position: relative;}#sk-container-id-1 div.sk-text-repr-fallback {display: none;}</style><div id=\"sk-container-id-1\" class=\"sk-top-container\"><div class=\"sk-text-repr-fallback\"><pre>LogisticRegression()</pre><b>In a Jupyter environment, please rerun this cell to show the HTML representation or trust the notebook. <br />On GitHub, the HTML representation is unable to render, please try loading this page with nbviewer.org.</b></div><div class=\"sk-container\" hidden><div class=\"sk-item\"><div class=\"sk-estimator sk-toggleable\"><input class=\"sk-toggleable__control sk-hidden--visually\" id=\"sk-estimator-id-1\" type=\"checkbox\" checked><label for=\"sk-estimator-id-1\" class=\"sk-toggleable__label sk-toggleable__label-arrow\">LogisticRegression</label><div class=\"sk-toggleable__content\"><pre>LogisticRegression()</pre></div></div></div></div></div>"
      ],
      "text/plain": [
       "LogisticRegression()"
      ]
     },
     "execution_count": 7,
     "metadata": {},
     "output_type": "execute_result"
    }
   ],
   "source": [
    "from sklearn.linear_model import LogisticRegression\n",
    "\n",
    "lr_model = LogisticRegression(solver='lbfgs')\n",
    "\n",
    "lr_model.fit(X_train, y_train)"
   ]
  },
  {
   "cell_type": "code",
   "execution_count": 8,
   "id": "c7b3d6e0",
   "metadata": {},
   "outputs": [
    {
     "name": "stdout",
     "output_type": "stream",
     "text": [
      "[[196   2   5]\n",
      " [ 33  62   3]\n",
      " [ 26   0  66]]\n",
      "              precision    recall  f1-score   support\n",
      "\n",
      "        اسره       0.77      0.97      0.86       203\n",
      "         جنح       0.97      0.63      0.77        98\n",
      "        مدني       0.89      0.72      0.80        92\n",
      "\n",
      "    accuracy                           0.82       393\n",
      "   macro avg       0.88      0.77      0.81       393\n",
      "weighted avg       0.85      0.82      0.82       393\n",
      "\n",
      "0.8244274809160306\n"
     ]
    }
   ],
   "source": [
    "from sklearn import metrics\n",
    "\n",
    "predictions = lr_model.predict(X_test)\n",
    "\n",
    "print(metrics.confusion_matrix(y_test,predictions))\n",
    "\n",
    "print(metrics.classification_report(y_test,predictions))\n",
    "\n",
    "print(metrics.accuracy_score(y_test,predictions))"
   ]
  },
  {
   "cell_type": "code",
   "execution_count": 9,
   "id": "cfaa9281",
   "metadata": {},
   "outputs": [
    {
     "name": "stdout",
     "output_type": "stream",
     "text": [
      "[[202   0   1]\n",
      " [ 63  34   1]\n",
      " [ 38   0  54]]\n",
      "              precision    recall  f1-score   support\n",
      "\n",
      "        اسره       0.67      1.00      0.80       203\n",
      "         جنح       1.00      0.35      0.52        98\n",
      "        مدني       0.96      0.59      0.73        92\n",
      "\n",
      "    accuracy                           0.74       393\n",
      "   macro avg       0.88      0.64      0.68       393\n",
      "weighted avg       0.82      0.74      0.71       393\n",
      "\n",
      "0.7379134860050891\n"
     ]
    }
   ],
   "source": [
    "from sklearn.naive_bayes import MultinomialNB\n",
    "nb_model = MultinomialNB()\n",
    "nb_model.fit(X_train, y_train)\n",
    "predictions = nb_model.predict(X_test)\n",
    "print(metrics.confusion_matrix(y_test,predictions))\n",
    "print(metrics.classification_report(y_test,predictions))\n",
    "print(metrics.accuracy_score(y_test,predictions))"
   ]
  },
  {
   "cell_type": "code",
   "execution_count": 10,
   "id": "469d15ab",
   "metadata": {},
   "outputs": [
    {
     "name": "stdout",
     "output_type": "stream",
     "text": [
      "[[203   0   0]\n",
      " [ 98   0   0]\n",
      " [ 92   0   0]]\n",
      "              precision    recall  f1-score   support\n",
      "\n",
      "        اسره       0.52      1.00      0.68       203\n",
      "         جنح       0.00      0.00      0.00        98\n",
      "        مدني       0.00      0.00      0.00        92\n",
      "\n",
      "    accuracy                           0.52       393\n",
      "   macro avg       0.17      0.33      0.23       393\n",
      "weighted avg       0.27      0.52      0.35       393\n",
      "\n",
      "0.5165394402035624\n"
     ]
    },
    {
     "name": "stderr",
     "output_type": "stream",
     "text": [
      "C:\\Users\\LENOVO\\anaconda3\\lib\\site-packages\\sklearn\\metrics\\_classification.py:1334: UndefinedMetricWarning: Precision and F-score are ill-defined and being set to 0.0 in labels with no predicted samples. Use `zero_division` parameter to control this behavior.\n",
      "  _warn_prf(average, modifier, msg_start, len(result))\n",
      "C:\\Users\\LENOVO\\anaconda3\\lib\\site-packages\\sklearn\\metrics\\_classification.py:1334: UndefinedMetricWarning: Precision and F-score are ill-defined and being set to 0.0 in labels with no predicted samples. Use `zero_division` parameter to control this behavior.\n",
      "  _warn_prf(average, modifier, msg_start, len(result))\n",
      "C:\\Users\\LENOVO\\anaconda3\\lib\\site-packages\\sklearn\\metrics\\_classification.py:1334: UndefinedMetricWarning: Precision and F-score are ill-defined and being set to 0.0 in labels with no predicted samples. Use `zero_division` parameter to control this behavior.\n",
      "  _warn_prf(average, modifier, msg_start, len(result))\n"
     ]
    }
   ],
   "source": [
    "from sklearn.svm import SVC\n",
    "svc_model = SVC(gamma='auto')\n",
    "svc_model.fit(X_train,y_train)\n",
    "\n",
    "predictions = svc_model.predict(X_test)\n",
    "print(metrics.confusion_matrix(y_test,predictions))\n",
    "print(metrics.classification_report(y_test,predictions))\n",
    "print(metrics.accuracy_score(y_test,predictions))"
   ]
  },
  {
   "cell_type": "code",
   "execution_count": 11,
   "id": "93333fa8",
   "metadata": {},
   "outputs": [],
   "source": [
    "from sklearn.model_selection import train_test_split\n",
    "\n",
    "X = remve_noise(dataset['text']) \n",
    "y = dataset['label']\n",
    "\n",
    "X_train, X_test, y_train, y_test = train_test_split(X, y, test_size=0.1,random_state = 42, shuffle=True)"
   ]
  },
  {
   "cell_type": "code",
   "execution_count": 12,
   "id": "312c92e6",
   "metadata": {},
   "outputs": [
    {
     "data": {
      "text/plain": [
       "اسره    865\n",
       "مدني    468\n",
       "جنح     433\n",
       "Name: label, dtype: int64"
      ]
     },
     "execution_count": 12,
     "metadata": {},
     "output_type": "execute_result"
    }
   ],
   "source": [
    "y_train.value_counts()"
   ]
  },
  {
   "cell_type": "code",
   "execution_count": 13,
   "id": "ddb0d10a",
   "metadata": {},
   "outputs": [
    {
     "data": {
      "text/plain": [
       "اسره    104\n",
       "مدني     53\n",
       "جنح      40\n",
       "Name: label, dtype: int64"
      ]
     },
     "execution_count": 13,
     "metadata": {},
     "output_type": "execute_result"
    }
   ],
   "source": [
    "y_test.value_counts()"
   ]
  },
  {
   "cell_type": "code",
   "execution_count": 14,
   "id": "dc80a3bf",
   "metadata": {},
   "outputs": [
    {
     "data": {
      "text/plain": [
       "(1766, 15731)"
      ]
     },
     "execution_count": 14,
     "metadata": {},
     "output_type": "execute_result"
    }
   ],
   "source": [
    "from sklearn.feature_extraction.text import CountVectorizer\n",
    "count_vect = CountVectorizer()\n",
    "\n",
    "X_train_counts = count_vect.fit_transform(X_train)\n",
    "X_train_counts.shape"
   ]
  },
  {
   "cell_type": "code",
   "execution_count": 15,
   "id": "718827c8",
   "metadata": {},
   "outputs": [
    {
     "data": {
      "text/plain": [
       "(1766, 15731)"
      ]
     },
     "execution_count": 15,
     "metadata": {},
     "output_type": "execute_result"
    }
   ],
   "source": [
    "from sklearn.feature_extraction.text import TfidfTransformer\n",
    "tfidf_transformer = TfidfTransformer()\n",
    "\n",
    "X_train_tfidf = tfidf_transformer.fit_transform(X_train_counts)\n",
    "X_train_tfidf.shape"
   ]
  },
  {
   "cell_type": "code",
   "execution_count": 16,
   "id": "91cdbe65",
   "metadata": {},
   "outputs": [
    {
     "data": {
      "text/plain": [
       "0         (0, 15410)\\t0.17592275082782122\\n  (0, 15233...\n",
       "1         (0, 15537)\\t0.14564185528663234\\n  (0, 15029...\n",
       "2         (0, 14918)\\t0.1383121219121574\\n  (0, 14910)...\n",
       "3         (0, 10656)\\t0.37346081732534325\\n  (0, 10087...\n",
       "4         (0, 12857)\\t0.30351685787482974\\n  (0, 11163...\n",
       "                              ...                        \n",
       "1761      (0, 15442)\\t0.20509986785383583\\n  (0, 15009...\n",
       "1762      (0, 15477)\\t0.3433701859220109\\n  (0, 15304)...\n",
       "1763      (0, 13754)\\t0.10862105742530145\\n  (0, 12696...\n",
       "1764      (0, 15526)\\t0.12743450134686632\\n  (0, 14389...\n",
       "1765      (0, 15419)\\t0.1863737663893395\\n  (0, 14581)...\n",
       "Name: 0, Length: 1766, dtype: object"
      ]
     },
     "execution_count": 16,
     "metadata": {},
     "output_type": "execute_result"
    }
   ],
   "source": [
    "pd.DataFrame(X_train_tfidf)[0]"
   ]
  },
  {
   "cell_type": "code",
   "execution_count": 17,
   "id": "8b305a05",
   "metadata": {},
   "outputs": [
    {
     "data": {
      "text/plain": [
       "(1766, 15731)"
      ]
     },
     "execution_count": 17,
     "metadata": {},
     "output_type": "execute_result"
    }
   ],
   "source": [
    "from sklearn.feature_extraction.text import TfidfVectorizer\n",
    "vectorizer = TfidfVectorizer()\n",
    "\n",
    "X_train_tfidf = vectorizer.fit_transform(X_train) # remember to use the original X_train set\n",
    "X_train_tfidf.shape"
   ]
  },
  {
   "cell_type": "code",
   "execution_count": 18,
   "id": "9b165d73",
   "metadata": {},
   "outputs": [
    {
     "data": {
      "text/html": [
       "<style>#sk-container-id-2 {color: black;background-color: white;}#sk-container-id-2 pre{padding: 0;}#sk-container-id-2 div.sk-toggleable {background-color: white;}#sk-container-id-2 label.sk-toggleable__label {cursor: pointer;display: block;width: 100%;margin-bottom: 0;padding: 0.3em;box-sizing: border-box;text-align: center;}#sk-container-id-2 label.sk-toggleable__label-arrow:before {content: \"▸\";float: left;margin-right: 0.25em;color: #696969;}#sk-container-id-2 label.sk-toggleable__label-arrow:hover:before {color: black;}#sk-container-id-2 div.sk-estimator:hover label.sk-toggleable__label-arrow:before {color: black;}#sk-container-id-2 div.sk-toggleable__content {max-height: 0;max-width: 0;overflow: hidden;text-align: left;background-color: #f0f8ff;}#sk-container-id-2 div.sk-toggleable__content pre {margin: 0.2em;color: black;border-radius: 0.25em;background-color: #f0f8ff;}#sk-container-id-2 input.sk-toggleable__control:checked~div.sk-toggleable__content {max-height: 200px;max-width: 100%;overflow: auto;}#sk-container-id-2 input.sk-toggleable__control:checked~label.sk-toggleable__label-arrow:before {content: \"▾\";}#sk-container-id-2 div.sk-estimator input.sk-toggleable__control:checked~label.sk-toggleable__label {background-color: #d4ebff;}#sk-container-id-2 div.sk-label input.sk-toggleable__control:checked~label.sk-toggleable__label {background-color: #d4ebff;}#sk-container-id-2 input.sk-hidden--visually {border: 0;clip: rect(1px 1px 1px 1px);clip: rect(1px, 1px, 1px, 1px);height: 1px;margin: -1px;overflow: hidden;padding: 0;position: absolute;width: 1px;}#sk-container-id-2 div.sk-estimator {font-family: monospace;background-color: #f0f8ff;border: 1px dotted black;border-radius: 0.25em;box-sizing: border-box;margin-bottom: 0.5em;}#sk-container-id-2 div.sk-estimator:hover {background-color: #d4ebff;}#sk-container-id-2 div.sk-parallel-item::after {content: \"\";width: 100%;border-bottom: 1px solid gray;flex-grow: 1;}#sk-container-id-2 div.sk-label:hover label.sk-toggleable__label {background-color: #d4ebff;}#sk-container-id-2 div.sk-serial::before {content: \"\";position: absolute;border-left: 1px solid gray;box-sizing: border-box;top: 0;bottom: 0;left: 50%;z-index: 0;}#sk-container-id-2 div.sk-serial {display: flex;flex-direction: column;align-items: center;background-color: white;padding-right: 0.2em;padding-left: 0.2em;position: relative;}#sk-container-id-2 div.sk-item {position: relative;z-index: 1;}#sk-container-id-2 div.sk-parallel {display: flex;align-items: stretch;justify-content: center;background-color: white;position: relative;}#sk-container-id-2 div.sk-item::before, #sk-container-id-2 div.sk-parallel-item::before {content: \"\";position: absolute;border-left: 1px solid gray;box-sizing: border-box;top: 0;bottom: 0;left: 50%;z-index: -1;}#sk-container-id-2 div.sk-parallel-item {display: flex;flex-direction: column;z-index: 1;position: relative;background-color: white;}#sk-container-id-2 div.sk-parallel-item:first-child::after {align-self: flex-end;width: 50%;}#sk-container-id-2 div.sk-parallel-item:last-child::after {align-self: flex-start;width: 50%;}#sk-container-id-2 div.sk-parallel-item:only-child::after {width: 0;}#sk-container-id-2 div.sk-dashed-wrapped {border: 1px dashed gray;margin: 0 0.4em 0.5em 0.4em;box-sizing: border-box;padding-bottom: 0.4em;background-color: white;}#sk-container-id-2 div.sk-label label {font-family: monospace;font-weight: bold;display: inline-block;line-height: 1.2em;}#sk-container-id-2 div.sk-label-container {text-align: center;}#sk-container-id-2 div.sk-container {/* jupyter's `normalize.less` sets `[hidden] { display: none; }` but bootstrap.min.css set `[hidden] { display: none !important; }` so we also need the `!important` here to be able to override the default hidden behavior on the sphinx rendered scikit-learn.org. See: https://github.com/scikit-learn/scikit-learn/issues/21755 */display: inline-block !important;position: relative;}#sk-container-id-2 div.sk-text-repr-fallback {display: none;}</style><div id=\"sk-container-id-2\" class=\"sk-top-container\"><div class=\"sk-text-repr-fallback\"><pre>LinearSVC()</pre><b>In a Jupyter environment, please rerun this cell to show the HTML representation or trust the notebook. <br />On GitHub, the HTML representation is unable to render, please try loading this page with nbviewer.org.</b></div><div class=\"sk-container\" hidden><div class=\"sk-item\"><div class=\"sk-estimator sk-toggleable\"><input class=\"sk-toggleable__control sk-hidden--visually\" id=\"sk-estimator-id-2\" type=\"checkbox\" checked><label for=\"sk-estimator-id-2\" class=\"sk-toggleable__label sk-toggleable__label-arrow\">LinearSVC</label><div class=\"sk-toggleable__content\"><pre>LinearSVC()</pre></div></div></div></div></div>"
      ],
      "text/plain": [
       "LinearSVC()"
      ]
     },
     "execution_count": 18,
     "metadata": {},
     "output_type": "execute_result"
    }
   ],
   "source": [
    "from sklearn.svm import LinearSVC\n",
    "clf = LinearSVC()\n",
    "clf.fit(X_train_tfidf,y_train)"
   ]
  },
  {
   "cell_type": "code",
   "execution_count": 19,
   "id": "b53eb651",
   "metadata": {},
   "outputs": [],
   "source": [
    "from sklearn.pipeline import Pipeline\n",
    "text_clf = Pipeline([('tfidf', TfidfVectorizer()),\n",
    "                     ('clf', LinearSVC()),])\n",
    "\n",
    "\n",
    "text_clf.fit(X_train, y_train)  \n",
    "\n",
    "\n",
    "predictions = text_clf.predict(X_test)"
   ]
  },
  {
   "cell_type": "code",
   "execution_count": 20,
   "id": "3527953e",
   "metadata": {},
   "outputs": [
    {
     "name": "stdout",
     "output_type": "stream",
     "text": [
      "[[95  3  6]\n",
      " [ 5 34  1]\n",
      " [ 7  0 46]]\n"
     ]
    }
   ],
   "source": [
    "from sklearn import metrics\n",
    "print(metrics.confusion_matrix(y_test,predictions))"
   ]
  },
  {
   "cell_type": "code",
   "execution_count": 21,
   "id": "571b8fac",
   "metadata": {},
   "outputs": [
    {
     "name": "stdout",
     "output_type": "stream",
     "text": [
      "              precision    recall  f1-score   support\n",
      "\n",
      "        اسره       0.89      0.91      0.90       104\n",
      "         جنح       0.92      0.85      0.88        40\n",
      "        مدني       0.87      0.87      0.87        53\n",
      "\n",
      "    accuracy                           0.89       197\n",
      "   macro avg       0.89      0.88      0.88       197\n",
      "weighted avg       0.89      0.89      0.89       197\n",
      "\n"
     ]
    }
   ],
   "source": [
    "print(metrics.classification_report(y_test,predictions)) "
   ]
  },
  {
   "cell_type": "code",
   "execution_count": 22,
   "id": "21cca2aa",
   "metadata": {},
   "outputs": [
    {
     "name": "stdout",
     "output_type": "stream",
     "text": [
      "0.8883248730964467\n"
     ]
    }
   ],
   "source": [
    "print(metrics.accuracy_score(y_test,predictions))"
   ]
  },
  {
   "cell_type": "code",
   "execution_count": null,
   "id": "bffd04b3",
   "metadata": {},
   "outputs": [
    {
     "name": "stdout",
     "output_type": "stream",
     "text": [
      "اهلا بيك يافندم انا موكلي شات بوت !\n",
      "انا ممكن اساعدك تعرف تصنيف قضيتك كل الي عليك تعمله تكتب مشكلتك او قضيتك وانا هاصنفهالك الي اسره او مدني او جنح !\n",
      "وكمان هارشحلك المحاميين المتخصصين في نوع القضية الخاصة بيك ! \n",
      "You: جوزي ضربني في وشي وعورني في وشي جامد\n",
      "Mowakly Bot: القضية دي تصنيفها (اسره) هل ترغب في محامي ؟\n",
      "You: ضرب ضرب  ضرب ضرب  ضرب ضرب \n",
      "Mowakly Bot: القضية دي تصنيفها (جنح) هل ترغب في محامي ؟\n",
      "You: السلام عليكم فتاة من الجيران  تتهمني بالباطل بالسب والشتم بدون دليل وتتهمني ان قلت له كلام نابي  لكن لاشيء من هدا القبيل هل ممكن ان يحكم القاضي لصالحها بدون اتبات ولا دليل ارجوكم انا المعيل الوحيد لاسرتي وهدا ضلم في حقي ساعدوني ان كان  هناك محامي صاحب اختصاص\n",
      "Mowakly Bot: القضية دي تصنيفها (جنح) هل ترغب في محامي ؟\n",
      "You: السلام عليكماستشارة يا اساتذة بعد اذنكم بنت ابويا رافعة عليا قضية ورث كاتبة ف المحضر مواصفات البيت غلط( مزودة عدد الغرف و مساحة البيت )البيت عبارة عن ٥ شقق ٣ اداور امى واخدة شقة وانا واخويا كل واحد شقةوشقتين ايجار امى هى الى بتاخد فلوسهم لنفسها للعلاج والمصاريفجالى محضر النهاردة ان انا مغتصب حقها و ماجره وباخد الفلوس من ٢٠١٢ (وفاة ابويا)عندى جلسة الاسبوع الجاى المفروض دلوقتى اعمل ايه ؟ اروح لمين ؟ والموضوع هيكلف كام ؟\n",
      "Mowakly Bot: القضية دي تصنيفها (مدني) هل ترغب في محامي ؟\n",
      "You: السلام عليكم فتاة من الجيران  تتهمني بالباطل بالسب والشتم بدون دليل وتتهمني ان قلت له كلام نابي  لكن لاشيء من هدا القبيل هل ممكن ان يحكم القاضي لصالحها بدون اتبات ولا دليل ارجوكم انا المعيل الوحيد لاسرتي وهدا ضلم في حقي ساعدوني ان كان  هناك محامي صاحب اختصاص\n",
      "Mowakly Bot: القضية دي تصنيفها (جنح) هل ترغب في محامي ؟\n",
      "You: موضوع للنقاشلماذا تعترض الزوجة الأولى على زواج زوجها من أخرى مع أن هذا فى القرآن\n",
      "Mowakly Bot: القضية دي تصنيفها (اسره) هل ترغب في محامي ؟\n",
      "You:     بابا  يرحمه ورثنا ارض زراعيه الارض عباره عن مقايضه بأرض اخري لاولاد عمومه واحنا مأجرنها وفي حوزتنا ولكن عندما حاولنا بيعها اصحاب المقايضه بيقفوا لنا في كل بيعه اما عايزين ياخدوها بسعر بخس  مع العلم انهم بايعيين ارضنا من سنوات يعني هم من بدأوا بالبيع دون منا   الحل القانوني اللي ممكن نتخذه   مقدما\n",
      "Mowakly Bot: القضية دي تصنيفها (مدني) هل ترغب في محامي ؟\n",
      "You: دعوي متجمد نفقه اتحجزت للحكم جلسه ١٠/٣٠ احضر الجلسه لاني رافعه الدعوي بشخصي ولا استني بعدها اد  واسأل سكرتير الجلسه  الحكم ؟وهاستلم الحكم او صوره منه ولا هاستلمه لما يتنسخ خالص\n",
      "Mowakly Bot: القضية دي تصنيفها (اسره) هل ترغب في محامي ؟\n",
      "You: نبي محامي كويس في الجنح\n",
      "Mowakly Bot: القضية دي تصنيفها (اسره) هل ترغب في محامي ؟\n",
      "You: اية الفرق بين الرؤية والاستضافة وكيف تتم الاستضافة\n",
      "Mowakly Bot: القضية دي تصنيفها (اسره) هل ترغب في محامي ؟\n",
      "You:    سؤال من   اشتريت  نصف شقة هل ممكن اسجل النصف الخاص بي فقط   حيث ان الشريك الاخر  رافض التسجيل  \n",
      "Mowakly Bot: القضية دي تصنيفها (مدني) هل ترغب في محامي ؟\n",
      "You:    حد عليه حكم ست شهور وغرامه الف  فى قضيه اتلاف ارض زراعيه وعمل معارضه ممكن الحكم يتشال؟ القضيه فيها شاهد\n",
      "Mowakly Bot: القضية دي تصنيفها (جنح) هل ترغب في محامي ؟\n",
      "You: السلام عليكم انا والد متوفي من 2013 و بعد لما مات وجدت في اوراقه شيك و اخد رفض و معه وصل أمانةبمبلغ 50 الف كلام ده سنة 1999بس للاسف حاولت اوصل لشخص ده معرفتش و كل طرق اتسد و سبب أنه مكتوب و هو مضي برقم البطاقة العائلية مش رقم قومي برضه بحثت  ولقيت شخصين واحد في منصور ميكانيكي و واحد كان مات انا استعوضت ربنا و نسيت موضوع علشان اهلي قالوا  اكيد ابوك مكانش هيسكت طول مدة دي علي فلوس هو ممكن كان نسي يدي وصل آمنة لو أو هو نصب عليه لو ممكن محامي يقدر يساعدني أو نصحية لوجه الله شيك كان تبع بنك ابوظبي اماراتي و هو اتبع كذا مرة و لما سالت تقاليد أنه ارشيف العملاء آخره 5 سنين و حتي لو حد بحث في دفاتر مش هنديك معلومة\n",
      "Mowakly Bot: القضية دي تصنيفها (جنح) هل ترغب في محامي ؟\n",
      "You: المدة المتوقعة لتداول دعوى فسخ عقد بيع ((مع التعويض)) بمحاكم القاهرة الكبرى ؛ هل هي من القضايا التي يمتد البت فيها لسنوات طويلة ..\n",
      "Mowakly Bot: القضية دي تصنيفها (مدني) هل ترغب في محامي ؟\n",
      "You: لو سمحت فى قضية. مشاجرة والمفروض اتاجلت للقرار   لعدم الحضور ممكن اعرف يعنى ايه اتاجلت للقرار...\n",
      "Mowakly Bot: القضية دي تصنيفها (جنح) هل ترغب في محامي ؟\n",
      "You: السلام عليكملقد قمت بشراء منتج عبارة عن تيفي بوكس .من موقع علي إكسبريس مع دفع المبلغ الذي كان مجموعه تقريبا 240 درهم مع ثمن شحن. لكن عند تسلمي المنتج دفعت مبلغ 215 درهم من أجل التخليص الجمركي وهذا مبلغ مرتفع جدا و مشكوك فيه مع العلم أن نسبة التخليص الجمركي لا يجب أن تتجاوز ٪ 25 بالمئة.\n",
      "Mowakly Bot: القضية دي تصنيفها (جنح) هل ترغب في محامي ؟\n",
      "You: هو ينفع الجار يرتفع بالمباني عن جاره ؟؟ وهل فيه اجراء ممكن اعمله قبل ما يبني\n",
      "Mowakly Bot: القضية دي تصنيفها (مدني) هل ترغب في محامي ؟\n",
      "You: السلام عليكم فتاة من الجيران  تتهمني بالباطل بالسب والشتم بدون دليل وتتهمني ان قلت له كلام نابي  لكن لاشيء من هدا القبيل هل ممكن ان يحكم القاضي لصالحها بدون اتبات ولا دليل ارجوكم انا المعيل الوحيد لاسرتي وهدا ضلم في حقي ساعدوني ان كان  هناك محامي صاحب اختصاص\n",
      "Mowakly Bot: القضية دي تصنيفها (جنح) هل ترغب في محامي ؟\n",
      "You: انا بحبك اوي\n",
      "Mowakly Bot: شكرا جدا يافندم!\n"
     ]
    }
   ],
   "source": [
    "import random\n",
    "import re\n",
    "\n",
    "def unknown():\n",
    "    response = \" مش فاهم , انا ممكن اساعدك تعرف تصنيف قضيتك كل الي عليك تعمله تكتب مشكلتك او قضيتك وانا هاصنفهالك الي اسره او مدني او جنح !\"\n",
    "    return response\n",
    "\n",
    "\n",
    "\n",
    "\n",
    "def message_probability(user_message, recognised_words, single_response=False, required_words=[]):\n",
    "    message_certainty = 0\n",
    "    has_required_words = True\n",
    "\n",
    "    # Counts how many words are present in each predefined message\n",
    "    for word in user_message:\n",
    "        if word in recognised_words:\n",
    "            message_certainty += 1\n",
    "\n",
    "    # Calculates the percent of recognised words in a user message\n",
    "    percentage = float(message_certainty) / float(len(recognised_words))\n",
    "\n",
    "    # Checks that the required words are in the string\n",
    "    for word in required_words:\n",
    "        if word not in user_message:\n",
    "            has_required_words = False\n",
    "            break\n",
    "\n",
    "    # Must either have the required words, or be a single response\n",
    "    if has_required_words or single_response:\n",
    "        return int(percentage * 100)\n",
    "    else:\n",
    "        return 0\n",
    "\n",
    "\n",
    "def check_all_messages(message):\n",
    "    highest_prob_list = {}\n",
    "\n",
    "    # Simplifies response creation / adds it to the dict\n",
    "    def response(bot_response, list_of_words, single_response=False, required_words=[]):\n",
    "        nonlocal highest_prob_list\n",
    "        highest_prob_list[bot_response] = message_probability(message, list_of_words, single_response, required_words)\n",
    "\n",
    "    # Responses -------------------------------------------------------------------------------------------------------\n",
    "    response('مساء الخير يافندم !!', ['اهلا','عليكم', 'السلام', 'مرحبا', 'مساء','الخير', \"صباح\"], single_response=True)\n",
    "    response('مع السلامة يافندم', ['سلام','السلامة','مع','الي'], single_response=True)\n",
    "    response('انا كويس , وانت عامل ايه؟', ['عامل', 'ايه'], required_words=['عامل'])\n",
    "    response('تمام يافندم اقدر اساعدك في حاجة تاني ؟', ['شكرا','تمام'], single_response=True)\n",
    "    response('شرفتنا جدا يافندم , مع السلامة', ['لا'], single_response=True)\n",
    "    response('شكرا جدا يافندم!', ['انا', 'بحبك'], required_words=['بحبك'])\n",
    "    response('انا هنا عشان اساعدك , اتفضل', ['انا','مشكلة','عندي'], required_words=['مشكلة'])\n",
    "    response('انا هنا عشان اساعدك , اتفضل!!', ['انا','قضية','عندي'], required_words=['قضية'])\n",
    "\n",
    "    \n",
    "\n",
    "    best_match = max(highest_prob_list, key=highest_prob_list.get)\n",
    "    # print(highest_prob_list)\n",
    "    # print(f'Best match = {best_match} | Score: {highest_prob_list[best_match]}')\n",
    "\n",
    "    return unknown() if highest_prob_list[best_match] < 1 else best_match\n",
    "\n",
    "\n",
    "# Used to get the response\n",
    "def get_response(user_input):\n",
    "    split_message = re.split(r'\\s+|[,;?!.-]\\s*', user_input.lower())\n",
    "    response = check_all_messages(split_message)\n",
    "    if(len(user_input))<20:\n",
    "        return response\n",
    "    else:\n",
    "        return 'القضية دي تصنيفها'+' '+'('+ text_clf.predict([user_input])[0] +')' + ' ' + 'هل ترغب في محامي ؟'\n",
    "    \n",
    "\n",
    "\n",
    "# Testing the response system\n",
    "print('اهلا بيك يافندم انا موكلي شات بوت !')\n",
    "print('انا ممكن اساعدك تعرف تصنيف قضيتك كل الي عليك تعمله تكتب مشكلتك او قضيتك وانا هاصنفهالك الي اسره او مدني او جنح !')\n",
    "print('وكمان هارشحلك المحاميين المتخصصين في نوع القضية الخاصة بيك ! ')\n",
    "\n",
    "while True:\n",
    "    print('Mowakly Bot: ' + get_response(input('You: ')))\n",
    "           \n",
    "            \n",
    "        \n",
    "\n",
    "       \n",
    "        "
   ]
  },
  {
   "cell_type": "code",
   "execution_count": null,
   "id": "ef67e04e",
   "metadata": {},
   "outputs": [],
   "source": []
  }
 ],
 "metadata": {
  "kernelspec": {
   "display_name": "Python 3 (ipykernel)",
   "language": "python",
   "name": "python3"
  },
  "language_info": {
   "codemirror_mode": {
    "name": "ipython",
    "version": 3
   },
   "file_extension": ".py",
   "mimetype": "text/x-python",
   "name": "python",
   "nbconvert_exporter": "python",
   "pygments_lexer": "ipython3",
   "version": "3.9.12"
  }
 },
 "nbformat": 4,
 "nbformat_minor": 5
}
